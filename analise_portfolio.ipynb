{
  "cells": [
    {
      "cell_type": "markdown",
      "metadata": {
        "id": "view-in-github",
        "colab_type": "text"
      },
      "source": [
        "<a href=\"https://colab.research.google.com/github/fernandaperon1/financas_quantitativas/blob/master/analise_portfolio.ipynb\" target=\"_parent\"><img src=\"https://colab.research.google.com/assets/colab-badge.svg\" alt=\"Open In Colab\"/></a>"
      ]
    },
    {
      "cell_type": "markdown",
      "metadata": {
        "id": "W8xLokCsumCQ"
      },
      "source": [
        "#Baixando bibliotecas"
      ]
    },
    {
      "cell_type": "code",
      "execution_count": 120,
      "metadata": {
        "colab": {
          "base_uri": "https://localhost:8080/",
          "height": 1000
        },
        "id": "NiHvWztspOlj",
        "outputId": "b8805012-2638-4eac-bbfa-97f3d2c390e0"
      },
      "outputs": [
        {
          "output_type": "stream",
          "name": "stdout",
          "text": [
            "Requirement already satisfied: wes in /usr/local/lib/python3.7/dist-packages (0.1.7)\n",
            "Requirement already satisfied: matplotlib in /usr/local/lib/python3.7/dist-packages (from wes) (3.2.2)\n",
            "Requirement already satisfied: python-dateutil>=2.1 in /usr/local/lib/python3.7/dist-packages (from matplotlib->wes) (2.8.2)\n",
            "Requirement already satisfied: cycler>=0.10 in /usr/local/lib/python3.7/dist-packages (from matplotlib->wes) (0.11.0)\n",
            "Requirement already satisfied: kiwisolver>=1.0.1 in /usr/local/lib/python3.7/dist-packages (from matplotlib->wes) (1.3.2)\n",
            "Requirement already satisfied: numpy>=1.11 in /usr/local/lib/python3.7/dist-packages (from matplotlib->wes) (1.19.5)\n",
            "Requirement already satisfied: pyparsing!=2.0.4,!=2.1.2,!=2.1.6,>=2.0.1 in /usr/local/lib/python3.7/dist-packages (from matplotlib->wes) (3.0.6)\n",
            "Requirement already satisfied: six>=1.5 in /usr/local/lib/python3.7/dist-packages (from python-dateutil>=2.1->matplotlib->wes) (1.15.0)\n",
            "Collecting git+https://github.com/quantopian/pyfolio\n",
            "  Cloning https://github.com/quantopian/pyfolio to /tmp/pip-req-build-0z6z0irf\n",
            "  Running command git clone -q https://github.com/quantopian/pyfolio /tmp/pip-req-build-0z6z0irf\n",
            "Requirement already satisfied: ipython>=3.2.3 in /usr/local/lib/python3.7/dist-packages (from pyfolio==0.9.2+75.g4b901f6) (5.5.0)\n",
            "Requirement already satisfied: matplotlib>=1.4.0 in /usr/local/lib/python3.7/dist-packages (from pyfolio==0.9.2+75.g4b901f6) (3.2.2)\n",
            "Requirement already satisfied: numpy>=1.11.1 in /usr/local/lib/python3.7/dist-packages (from pyfolio==0.9.2+75.g4b901f6) (1.19.5)\n",
            "Requirement already satisfied: pandas>=0.18.1 in /usr/local/lib/python3.7/dist-packages (from pyfolio==0.9.2+75.g4b901f6) (1.1.5)\n",
            "Requirement already satisfied: pytz>=2014.10 in /usr/local/lib/python3.7/dist-packages (from pyfolio==0.9.2+75.g4b901f6) (2018.9)\n",
            "Requirement already satisfied: scipy>=0.14.0 in /usr/local/lib/python3.7/dist-packages (from pyfolio==0.9.2+75.g4b901f6) (1.4.1)\n",
            "Requirement already satisfied: scikit-learn>=0.16.1 in /usr/local/lib/python3.7/dist-packages (from pyfolio==0.9.2+75.g4b901f6) (1.0.2)\n",
            "Requirement already satisfied: seaborn>=0.7.1 in /usr/local/lib/python3.7/dist-packages (from pyfolio==0.9.2+75.g4b901f6) (0.11.2)\n",
            "Requirement already satisfied: empyrical>=0.5.0 in /usr/local/lib/python3.7/dist-packages (from pyfolio==0.9.2+75.g4b901f6) (0.5.5)\n",
            "Requirement already satisfied: pandas-datareader>=0.2 in /usr/local/lib/python3.7/dist-packages (from empyrical>=0.5.0->pyfolio==0.9.2+75.g4b901f6) (0.9.0)\n",
            "Requirement already satisfied: pygments in /usr/local/lib/python3.7/dist-packages (from ipython>=3.2.3->pyfolio==0.9.2+75.g4b901f6) (2.6.1)\n",
            "Requirement already satisfied: traitlets>=4.2 in /usr/local/lib/python3.7/dist-packages (from ipython>=3.2.3->pyfolio==0.9.2+75.g4b901f6) (5.1.1)\n",
            "Requirement already satisfied: prompt-toolkit<2.0.0,>=1.0.4 in /usr/local/lib/python3.7/dist-packages (from ipython>=3.2.3->pyfolio==0.9.2+75.g4b901f6) (1.0.18)\n",
            "Requirement already satisfied: pexpect in /usr/local/lib/python3.7/dist-packages (from ipython>=3.2.3->pyfolio==0.9.2+75.g4b901f6) (4.8.0)\n",
            "Requirement already satisfied: pickleshare in /usr/local/lib/python3.7/dist-packages (from ipython>=3.2.3->pyfolio==0.9.2+75.g4b901f6) (0.7.5)\n",
            "Requirement already satisfied: simplegeneric>0.8 in /usr/local/lib/python3.7/dist-packages (from ipython>=3.2.3->pyfolio==0.9.2+75.g4b901f6) (0.8.1)\n",
            "Requirement already satisfied: decorator in /usr/local/lib/python3.7/dist-packages (from ipython>=3.2.3->pyfolio==0.9.2+75.g4b901f6) (4.4.2)\n",
            "Requirement already satisfied: setuptools>=18.5 in /usr/local/lib/python3.7/dist-packages (from ipython>=3.2.3->pyfolio==0.9.2+75.g4b901f6) (57.4.0)\n",
            "Requirement already satisfied: kiwisolver>=1.0.1 in /usr/local/lib/python3.7/dist-packages (from matplotlib>=1.4.0->pyfolio==0.9.2+75.g4b901f6) (1.3.2)\n",
            "Requirement already satisfied: python-dateutil>=2.1 in /usr/local/lib/python3.7/dist-packages (from matplotlib>=1.4.0->pyfolio==0.9.2+75.g4b901f6) (2.8.2)\n",
            "Requirement already satisfied: cycler>=0.10 in /usr/local/lib/python3.7/dist-packages (from matplotlib>=1.4.0->pyfolio==0.9.2+75.g4b901f6) (0.11.0)\n",
            "Requirement already satisfied: pyparsing!=2.0.4,!=2.1.2,!=2.1.6,>=2.0.1 in /usr/local/lib/python3.7/dist-packages (from matplotlib>=1.4.0->pyfolio==0.9.2+75.g4b901f6) (3.0.6)\n",
            "Requirement already satisfied: requests>=2.19.0 in /usr/local/lib/python3.7/dist-packages (from pandas-datareader>=0.2->empyrical>=0.5.0->pyfolio==0.9.2+75.g4b901f6) (2.27.1)\n",
            "Requirement already satisfied: lxml in /usr/local/lib/python3.7/dist-packages (from pandas-datareader>=0.2->empyrical>=0.5.0->pyfolio==0.9.2+75.g4b901f6) (4.7.1)\n",
            "Requirement already satisfied: wcwidth in /usr/local/lib/python3.7/dist-packages (from prompt-toolkit<2.0.0,>=1.0.4->ipython>=3.2.3->pyfolio==0.9.2+75.g4b901f6) (0.2.5)\n",
            "Requirement already satisfied: six>=1.9.0 in /usr/local/lib/python3.7/dist-packages (from prompt-toolkit<2.0.0,>=1.0.4->ipython>=3.2.3->pyfolio==0.9.2+75.g4b901f6) (1.15.0)\n",
            "Requirement already satisfied: idna<4,>=2.5 in /usr/local/lib/python3.7/dist-packages (from requests>=2.19.0->pandas-datareader>=0.2->empyrical>=0.5.0->pyfolio==0.9.2+75.g4b901f6) (2.10)\n",
            "Requirement already satisfied: urllib3<1.27,>=1.21.1 in /usr/local/lib/python3.7/dist-packages (from requests>=2.19.0->pandas-datareader>=0.2->empyrical>=0.5.0->pyfolio==0.9.2+75.g4b901f6) (1.24.3)\n",
            "Requirement already satisfied: certifi>=2017.4.17 in /usr/local/lib/python3.7/dist-packages (from requests>=2.19.0->pandas-datareader>=0.2->empyrical>=0.5.0->pyfolio==0.9.2+75.g4b901f6) (2021.10.8)\n",
            "Requirement already satisfied: charset-normalizer~=2.0.0 in /usr/local/lib/python3.7/dist-packages (from requests>=2.19.0->pandas-datareader>=0.2->empyrical>=0.5.0->pyfolio==0.9.2+75.g4b901f6) (2.0.10)\n",
            "Requirement already satisfied: threadpoolctl>=2.0.0 in /usr/local/lib/python3.7/dist-packages (from scikit-learn>=0.16.1->pyfolio==0.9.2+75.g4b901f6) (3.0.0)\n",
            "Requirement already satisfied: joblib>=0.11 in /usr/local/lib/python3.7/dist-packages (from scikit-learn>=0.16.1->pyfolio==0.9.2+75.g4b901f6) (1.1.0)\n",
            "Requirement already satisfied: ptyprocess>=0.5 in /usr/local/lib/python3.7/dist-packages (from pexpect->ipython>=3.2.3->pyfolio==0.9.2+75.g4b901f6) (0.7.0)\n",
            "Building wheels for collected packages: pyfolio\n",
            "  Building wheel for pyfolio (setup.py) ... \u001b[?25l\u001b[?25hdone\n",
            "  Created wheel for pyfolio: filename=pyfolio-0.9.2+75.g4b901f6-py3-none-any.whl size=75774 sha256=c25956a526acad31f82afe82e48ee00f27775622e15edcc52f863d4c00ebeda7\n",
            "  Stored in directory: /tmp/pip-ephem-wheel-cache-1t565jo8/wheels/2d/aa/24/c99ed55ef37c69e33815248c1622cdb81b65ec753868004c28\n",
            "Successfully built pyfolio\n",
            "Installing collected packages: pyfolio\n",
            "  Attempting uninstall: pyfolio\n",
            "    Found existing installation: pyfolio 0.9.2\n",
            "    Uninstalling pyfolio-0.9.2:\n",
            "      Successfully uninstalled pyfolio-0.9.2\n",
            "Successfully installed pyfolio-0.9.2+75.g4b901f6\n"
          ]
        },
        {
          "output_type": "display_data",
          "data": {
            "application/vnd.colab-display-data+json": {
              "pip_warning": {
                "packages": [
                  "pyfolio"
                ]
              }
            }
          },
          "metadata": {}
        }
      ],
      "source": [
        "import matplotlib.pyplot as plt\n",
        "import seaborn as sns\n",
        "!pip install wes\n",
        "import wes\n",
        "from datetime import datetime\n",
        "!pip install git+https://github.com/quantopian/pyfolio\n",
        "import pyfolio as pf"
      ]
    },
    {
      "cell_type": "code",
      "source": [
        "import warnings\n",
        "warnings.filterwarnings('ignore')\n",
        "from sklearn.model_selection import train_test_split  \n",
        "from sklearn.linear_model import LinearRegression  "
      ],
      "metadata": {
        "id": "dwrlQCXlcdIw"
      },
      "execution_count": 179,
      "outputs": []
    },
    {
      "cell_type": "markdown",
      "metadata": {
        "id": "lT0LyoHRpS7M"
      },
      "source": [
        "#1. Importação de dataset de preço histórico\n",
        "Para a importação de dados existem diversas bibliotecas em python que fornem preços históricos de ativos\n",
        "\n",
        "Dentre elas podemos citar as seguinte plataformas:\n",
        "\n",
        "Google Finance (Via panda_datareader)\n",
        "Yahoo Finace (Via panda_datareader ou yfinance)\n",
        "Quandl\n",
        "Investing.com (investpy)\n",
        "Pesquise sobre como importar dados nessas bibliotecas. Os datasets que conseguimos com essas bibliotecas são denominados OHLCV (open-high-low-close-volume).\n",
        "\n",
        "1.1) Plote os preços de fechamento\n",
        "1.2) Faça uma simples análise qualitativa do ativo escolhido (Ex: porque ele teve grande variação em algum momento)\n"
      ]
    },
    {
      "cell_type": "code",
      "execution_count": 44,
      "metadata": {
        "colab": {
          "base_uri": "https://localhost:8080/"
        },
        "id": "ZOvu_M4ZpPzK",
        "outputId": "853dd82a-9b67-46b1-a365-9889a45b1e8f"
      },
      "outputs": [
        {
          "output_type": "stream",
          "name": "stdout",
          "text": [
            "Requirement already satisfied: plotly in /usr/local/lib/python3.7/dist-packages (4.4.1)\n",
            "Requirement already satisfied: retrying>=1.3.3 in /usr/local/lib/python3.7/dist-packages (from plotly) (1.3.3)\n",
            "Requirement already satisfied: six in /usr/local/lib/python3.7/dist-packages (from plotly) (1.15.0)\n"
          ]
        }
      ],
      "source": [
        "import pandas as pd\n",
        "wes.set_palette('Zissou1')\n",
        "import plotly.graph_objects as go\n",
        "from datetime import datetime\n",
        "!pip install plotly\n",
        "import plotly\n",
        "import numpy as np\n",
        "\n",
        "\n",
        "\n",
        "\n",
        "\n",
        "\n"
      ]
    },
    {
      "cell_type": "markdown",
      "metadata": {
        "id": "VyU7rXW9pWor"
      },
      "source": [
        "Iniciamos importanto as bibliotecas que iremos usar."
      ]
    },
    {
      "cell_type": "code",
      "execution_count": 45,
      "metadata": {
        "colab": {
          "base_uri": "https://localhost:8080/"
        },
        "id": "5t5zIXWXpYls",
        "outputId": "a33504a6-25c6-48ec-e79b-ac32e3b3795a"
      },
      "outputs": [
        {
          "output_type": "stream",
          "name": "stdout",
          "text": [
            "  Date_netflix  Close_netflix  High_netflix  ...  Open_hbo  High_hbo Low_hbo\n",
            "0   2014-01-31          19.89         19.61  ...      28.0      28.0    28.0\n",
            "1   2014-02-19          20.66         20.79  ...      27.0      27.0    27.0\n",
            "2   2014-04-01          16.54         16.07  ...      26.0      26.0    26.0\n",
            "3   2014-04-25          14.50         14.58  ...      26.0      26.0    26.0\n",
            "4   2014-05-21          17.24         16.84  ...      26.0      26.0    26.0\n",
            "\n",
            "[5 rows x 20 columns]\n",
            "<class 'pandas.core.frame.DataFrame'>\n",
            "RangeIndex: 1608 entries, 0 to 1607\n",
            "Data columns (total 20 columns):\n",
            " #   Column         Non-Null Count  Dtype  \n",
            "---  ------         --------------  -----  \n",
            " 0   Date_netflix   1002 non-null   object \n",
            " 1   Close_netflix  1002 non-null   float64\n",
            " 2   High_netflix   1002 non-null   float64\n",
            " 3   Low_netflix    1002 non-null   float64\n",
            " 4   Open_netflix   1002 non-null   float64\n",
            " 5   Date_disney    1608 non-null   object \n",
            " 6   Close_disney   1608 non-null   float64\n",
            " 7   High_disney    1608 non-null   float64\n",
            " 8   Low_disney     1608 non-null   float64\n",
            " 9   Open_disney    1608 non-null   float64\n",
            " 10  Date_amazon    1298 non-null   object \n",
            " 11  Close_amazon   1298 non-null   object \n",
            " 12  Open_amazon    1298 non-null   object \n",
            " 13  High_amazon    1298 non-null   object \n",
            " 14  Low_amazon     1298 non-null   object \n",
            " 15  Date_hbo       1248 non-null   object \n",
            " 16  Close_hbo      1248 non-null   float64\n",
            " 17  Open_hbo       1248 non-null   float64\n",
            " 18  High_hbo       1248 non-null   float64\n",
            " 19  Low_hbo        1248 non-null   float64\n",
            "dtypes: float64(12), object(8)\n",
            "memory usage: 251.4+ KB\n",
            "None\n"
          ]
        }
      ],
      "source": [
        "df= pd.read_csv('/content/portfolio.csv')\n",
        "#primeira visualizacao dos dados:\n",
        "print (df.head())\n",
        "print (df.info())"
      ]
    },
    {
      "cell_type": "code",
      "execution_count": 46,
      "metadata": {
        "colab": {
          "base_uri": "https://localhost:8080/",
          "height": 542
        },
        "id": "6-TrjpmEpbEi",
        "outputId": "8590a20f-7dd1-4579-b09e-60d486c74787"
      },
      "outputs": [
        {
          "output_type": "display_data",
          "data": {
            "text/html": [
              "<html>\n",
              "<head><meta charset=\"utf-8\" /></head>\n",
              "<body>\n",
              "    <div>\n",
              "            <script src=\"https://cdnjs.cloudflare.com/ajax/libs/mathjax/2.7.5/MathJax.js?config=TeX-AMS-MML_SVG\"></script><script type=\"text/javascript\">if (window.MathJax) {MathJax.Hub.Config({SVG: {font: \"STIX-Web\"}});}</script>\n",
              "                <script type=\"text/javascript\">window.PlotlyConfig = {MathJaxConfig: 'local'};</script>\n",
              "        <script src=\"https://cdn.plot.ly/plotly-latest.min.js\"></script>    \n",
              "            <div id=\"f5f4db0b-1931-40aa-a0a0-dacc55c189bd\" class=\"plotly-graph-div\" style=\"height:525px; width:100%;\"></div>\n",
              "            <script type=\"text/javascript\">\n",
              "                \n",
              "                    window.PLOTLYENV=window.PLOTLYENV || {};\n",
              "                    \n",
              "                if (document.getElementById(\"f5f4db0b-1931-40aa-a0a0-dacc55c189bd\")) {\n",
              "                    Plotly.newPlot(\n",
              "                        'f5f4db0b-1931-40aa-a0a0-dacc55c189bd',\n",
              "                        [{\"close\": [19.89, 20.66, 16.54, 14.5, 17.24, 19.08, 22.16, 21.94, 18.0, 17.11, 17.86, 21.58, 21.58, 24.81, 26.28, 27.58, 27.24, 28.16, 33.94, 38.76, 39.74, 42.04, 41.17, 7.09, 8.48, 8.42, 8.54, 7.32, 7.09, 7.7, 7.56, 8.11, 7.95, 8.13, 8.03, 8.35, 8.7, 8.3, 7.76, 7.63, 7.84, 8.33, 8.15, 9.0, 9.14, 9.68, 9.75, 9.29, 9.64, 9.24, 8.93, 8.75, 8.95, 8.33, 7.9, 7.35, 7.01, 6.57, 7.06, 7.3, 7.54, 7.61, 7.33, 7.21, 7.29, 7.32, 7.73, 7.7, 6.74, 6.75, 6.44, 6.39, 6.4, 6.42, 7.02, 6.62, 6.19, 5.81, 6.01, 6.48, 6.32, 6.31, 6.31, 5.59, 5.71, 5.65, 5.63, 5.75, 5.97, 6.15, 5.97, 6.04, 6.0, 6.13, 6.15, 6.2, 6.13, 6.28, 6.29, 6.24, 6.29, 6.32, 6.52, 6.44, 6.12, 6.26, 6.41, 6.61, 6.84, 6.47, 6.37, 7.54, 7.72, 7.95, 8.06, 7.98, 7.79, 7.78, 7.91, 7.95, 7.92, 7.95, 8.12, 8.22, 8.37, 8.33, 8.86, 8.73, 8.74, 8.98, 8.7, 8.75, 8.79, 8.78, 8.84, 8.83, 8.9, 9.28, 9.05, 8.75, 9.04, 9.62, 9.76, 9.86, 10.41, 10.71, 10.81, 10.85, 10.2, 10.19, 10.33, 10.06, 9.7, 9.69, 9.92, 10.0, 10.27, 11.62, 11.63, 11.51, 11.75, 11.6, 10.92, 10.72, 10.51, 10.4, 10.97, 11.07, 11.25, 11.49, 11.89, 11.24, 11.37, 11.62, 11.46, 11.2, 12.19, 12.41, 12.41, 12.69, 13.1, 12.95, 12.86, 12.61, 12.29, 12.38, 12.19, 12.03, 12.24, 12.44, 12.59, 12.56, 12.34, 12.36, 12.65, 12.43, 12.7, 13.14, 13.3, 14.03, 14.5, 14.11, 14.17, 14.16, 16.17, 17.16, 18.07, 17.8, 17.56, 17.07, 17.5, 17.01, 16.02, 17.24, 18.39, 18.04, 18.91, 19.12, 20.42, 20.8, 21.0, 20.61, 21.37, 20.97, 21.03, 21.2, 20.57, 20.9, 20.56, 20.06, 21.0, 20.09, 19.25, 18.71, 19.6, 19.5, 19.65, 20.21, 20.56, 21.08, 21.35, 21.01, 22.72, 22.57, 22.1, 21.21, 21.41, 22.38, 22.63, 23.23, 23.33, 23.39, 23.68, 24.27, 24.19, 25.12, 25.56, 25.74, 26.1, 26.5, 26.99, 27.05, 27.79, 27.94, 28.12, 26.82, 26.98, 27.02, 29.77, 29.35, 29.15, 30.22, 30.9, 31.2, 29.01, 30.33, 31.5, 30.45, 31.18, 30.68, 32.43, 30.92, 29.34, 28.2, 27.33, 26.82, 26.91, 25.01, 25.69, 26.16, 26.38, 26.3, 26.83, 26.22, 25.61, 24.86, 25.95, 27.17, 27.9, 27.97, 29.25, 30.34, 30.36, 30.42, 31.61, 29.94, 30.26, 28.3, 28.76, 28.94, 30.41, 30.71, 29.03, 30.07, 30.36, 30.27, 30.4, 30.58, 30.39, 30.9, 29.62, 29.35, 29.17, 27.19, 26.35, 24.72, 24.09, 24.94, 24.9, 25.72, 24.85, 25.04, 22.8, 23.24, 22.04, 20.74, 20.23, 22.54, 23.25, 23.47, 24.43, 24.27, 22.59, 21.56, 20.43, 20.09, 20.39, 20.97, 22.03, 22.05, 21.76, 20.9, 21.49, 21.36, 21.21, 19.79, 19.24, 18.99, 20.32, 20.38, 21.93, 23.42, 23.79, 25.01, 24.69, 26.43, 26.23, 25.88, 24.87, 24.19, 24.54, 24.99, 24.37, 24.92, 24.78, 25.53, 25.72, 25.94, 25.65, 25.85, 26.35, 26.85, 27.58, 27.16, 26.73, 27.49, 27.21, 28.02, 28.63, 28.29, 28.21, 27.92, 27.77, 27.75, 28.38, 28.43, 28.28, 27.27, 26.98, 28.24, 27.73, 28.24, 29.46, 29.98, 29.32, 29.79, 29.65, 29.96, 29.94, 28.82, 27.62, 27.93, 28.3, 28.53, 28.68, 28.4, 28.48, 29.05, 27.68, 26.21, 27.08, 27.38, 26.44, 27.37, 27.35, 27.76, 27.8, 27.81, 28.81, 29.02, 28.7, 28.55, 27.47, 24.15, 23.2, 23.18, 24.08, 25.18, 24.69, 24.64, 24.19, 24.68, 24.52, 24.72, 24.7, 24.18, 23.55, 25.13, 24.28, 23.98, 24.32, 24.06, 24.72, 24.18, 24.18, 24.04, 23.38, 24.2, 24.24, 23.82, 22.46, 22.14, 21.2, 22.13, 22.02, 21.94, 22.49, 21.92, 22.2, 21.97, 22.95, 23.39, 23.72, 23.67, 23.79, 24.57, 22.9, 22.99, 21.8, 22.6, 22.63, 23.08, 22.96, 23.57, 23.01, 23.55, 24.45, 24.29, 23.9, 24.22, 25.54, 25.5, 26.08, 26.04, 26.68, 26.62, 26.19, 25.68, 25.68, 25.34, 25.1, 24.41, 24.24, 24.59, 24.94, 25.63, 26.3, 26.91, 27.57, 27.3, 27.36, 26.76, 26.16, 26.61, 26.42, 27.22, 26.94, 27.64, 27.64, 26.98, 28.26, 28.04, 28.46, 28.2, 28.16, 27.51, 28.38, 29.4, 28.95, 29.42, 28.94, 29.3, 29.2, 30.34, 31.27, 31.22, 31.37, 31.85, 32.5, 33.18, 33.39, 32.84, 33.98, 34.04, 33.73, 33.5, 33.81, 34.0, 32.15, 33.55, 33.39, 34.85, 34.73, 33.26, 32.88, 33.44, 33.8, 30.37, 30.84, 31.32, 31.77, 32.97, 34.53, 33.89, 36.95, 36.52, 34.99, 35.41, 37.0, 38.67, 38.67, 38.2, 38.04, 38.32, 39.9, 39.25, 38.28, 37.57, 41.19, 42.8, 45.09, 45.89, 44.0, 46.2, 45.78, 46.9, 48.12, 48.0, 44.72, 44.47, 45.46, 47.04, 48.0, 49.72, 51.2, 50.14, 51.54, 52.76, 51.64, 52.56, 51.8, 52.35, 50.9, 48.65, 48.2, 48.0, 44.42, 43.32, 44.72, 44.69, 45.57, 44.36, 43.19, 42.51, 41.9, 40.88, 42.17, 42.94, 41.98, 43.72, 45.26, 47.07, 48.1, 47.8, 49.23, 48.36, 49.02, 49.72, 48.67, 48.48, 49.38, 51.57, 51.72, 51.8, 53.27, 53.74, 60.0, 56.6, 55.4, 55.01, 56.33, 53.01, 53.8, 51.36, 50.39, 49.72, 49.97, 51.75, 50.96, 50.35, 50.3, 51.0, 53.13, 53.77, 53.68, 54.6, 53.5, 53.13, 50.8, 52.06, 51.8, 52.32, 53.35, 53.89, 53.83, 55.11, 55.32, 54.7, 54.0, 61.0, 59.94, 56.72, 58.05, 59.8, 59.42, 55.57, 55.08, 54.49, 52.48, 51.85, 51.67, 50.41, 52.24, 51.04, 48.98, 50.3, 52.63, 53.39, 52.67, 52.19, 53.74, 55.03, 55.7, 57.0, 59.08, 57.32, 58.03, 56.7, 60.29, 59.56, 59.3, 62.07, 61.08, 60.92, 60.85, 59.72, 59.11, 55.07, 54.5, 54.95, 54.85, 55.6, 56.0, 58.2, 54.44, 56.29, 56.0, 56.76, 55.86, 51.06, 52.33, 53.08, 53.01, 52.9, 51.95, 51.4, 52.97, 51.57, 52.4, 52.7, 51.9, 51.87, 51.96, 52.3, 52.54, 52.0, 52.75, 51.37, 51.39, 52.96, 52.46, 51.1, 50.67, 51.8, 53.66, 53.12, 51.92, 53.98, 54.25, 54.95, 54.0, 53.7, 52.5, 55.35, 54.75, 55.3, 55.06, 53.36, 55.15, 55.4, 54.81, 52.72, 54.02, 52.15, 52.3, 53.0, 53.62, 60.2, 62.0, 62.29, 60.35, 57.45, 59.45, 58.5, 58.9, 59.09, 58.38, 60.05, 59.64, 60.0, 60.5, 60.7, 60.15, 59.85, 59.58, 59.75, 58.27, 58.3, 59.32, 59.95, 60.11, 60.3, 62.05, 63.15, 58.46, 57.51, 58.85, 57.96, 58.95, 57.51, 58.79, 57.5, 58.6, 59.0, 58.79, 56.25, 56.02, 57.75, 59.12, 58.7, 57.17, 58.25, 59.8, 59.15, 58.7, 61.59, 61.2, 61.05, 61.7, 61.89, 63.81, 62.91, 63.65, 61.3, 61.5, 61.5, 61.47, 59.9, 55.2, 55.33, 55.3, 54.66, 54.28, 54.16, 55.8, 55.25, 54.73, 53.32, 52.76, 52.86, 51.01, 51.01, 52.0, 52.0, 51.9, 51.3, 51.18, 51.82, 52.97, 53.3, 53.69, 53.52, 53.45, 52.91, 52.58, 52.7, 51.4, 50.85, 50.63, 49.8, 49.78, 49.57, 49.5, 50.13, 50.99, 49.68, 49.91, 50.26, 50.93, 50.49, 50.85, 51.0, 50.83, 52.05, 52.85, 53.0, 52.55, 53.72, 53.9, 53.69, 56.57, 56.16, 55.95, 55.6, 56.09, 55.88, 55.41, 54.03, 55.65, 55.62, 53.2, 53.8, 53.75, 53.54, 53.06, 53.37, 52.25, 53.83, 53.35, 53.29, 53.71, 54.74, 54.42, 54.45, 54.49, 53.51, 53.07, 54.15, 53.86, 54.71, 56.1, 58.28, 58.5, 59.62, 58.53, 57.04, 57.7, 58.07, 58.55, 58.78, 60.37, 61.35, 61.37, 59.01, 64.55, 62.41, 63.04, 61.16, 60.75, 61.06, 61.57, 62.08, 61.94, 60.68, 62.73, 62.96, 63.31, 63.8, 63.3, 65.58, 66.7, 66.0, 65.45, 69.69, 70.02, 69.69, 69.93, 70.0, 69.75, 70.03, 68.27, 70.4, 71.4, 69.36, 73.71, 74.95, 74.99, 73.99, 74.26, 75.61, 77.97, 77.5, 76.38, 75.04, 71.67, 72.25, 71.99, 71.44, 71.51, 74.56, 75.21, 76.15, 75.89, 76.7, 73.95, 72.85, 74.0, 74.95, 74.81, 74.82, 71.89, 70.19, 70.66, 67.4, 70.0, 70.62, 69.46, 68.34, 69.0, 68.7, 67.59, 68.7, 67.06, 66.6, 67.88, 68.93, 69.65, 70.9, 69.07, 68.4, 69.91, 68.17, null, null, null, null, null, null, null, null, null, null, null, null, null, null, null, null, null, null, null, null, null, null, null, null, null, null, null, null, null, null, null, null, null, null, null, null, null, null, null, null, null, null, null, null, null, null, null, null, null, null, null, null, null, null, null, null, null, null, null, null, null, null, null, null, null, null, null, null, null, null, null, null, null, null, null, null, null, null, null, null, null, null, null, null, null, null, null, null, null, null, null, null, null, null, null, null, null, null, null, null, null, null, null, null, null, null, null, null, null, null, null, null, null, null, null, null, null, null, null, null, null, null, null, null, null, null, null, null, null, null, null, null, null, null, null, null, null, null, null, null, null, null, null, null, null, null, null, null, null, null, null, null, null, null, null, null, null, null, null, null, null, null, null, null, null, null, null, null, null, null, null, null, null, null, null, null, null, null, null, null, null, null, null, null, null, null, null, null, null, null, null, null, null, null, null, null, null, null, null, null, null, null, null, null, null, null, null, null, null, null, null, null, null, null, null, null, null, null, null, null, null, null, null, null, null, null, null, null, null, null, null, null, null, null, null, null, null, null, null, null, null, null, null, null, null, null, null, null, null, null, null, null, null, null, null, null, null, null, null, null, null, null, null, null, null, null, null, null, null, null, null, null, null, null, null, null, null, null, null, null, null, null, null, null, null, null, null, null, null, null, null, null, null, null, null, null, null, null, null, null, null, null, null, null, null, null, null, null, null, null, null, null, null, null, null, null, null, null, null, null, null, null, null, null, null, null, null, null, null, null, null, null, null, null, null, null, null, null, null, null, null, null, null, null, null, null, null, null, null, null, null, null, null, null, null, null, null, null, null, null, null, null, null, null, null, null, null, null, null, null, null, null, null, null, null, null, null, null, null, null, null, null, null, null, null, null, null, null, null, null, null, null, null, null, null, null, null, null, null, null, null, null, null, null, null, null, null, null, null, null, null, null, null, null, null, null, null, null, null, null, null, null, null, null, null, null, null, null, null, null, null, null, null, null, null, null, null, null, null, null, null, null, null, null, null, null, null, null, null, null, null, null, null, null, null, null, null, null, null, null, null, null, null, null, null, null, null, null, null, null, null, null, null, null, null, null, null, null, null, null, null, null, null, null, null, null, null, null, null, null, null, null, null, null, null, null, null, null, null, null, null, null, null, null, null, null, null, null, null, null, null, null, null, null, null, null, null, null, null, null, null, null, null, null, null, null, null, null, null, null, null, null, null, null, null, null, null, null, null, null, null, null, null, null, null, null, null, null, null, null, null, null, null, null, null, null, null, null, null, null, null, null, null, null, null, null, null, null, null, null, null, null, null, null, null, null, null, null, null, null, null, null, null, null, null, null, null, null, null, null, null, null, null, null, null, null, null, null, null, null, null, null, null, null, null, null], \"decreasing\": {\"line\": {\"color\": \"#F2B705\"}}, \"high\": [19.61, 20.79, 16.07, 14.58, 16.84, 18.99, 22.29, 21.74, 18.0, 17.11, 17.86, 21.58, 21.58, 24.81, 26.28, 27.58, 27.24, 28.16, 33.94, 38.76, 39.74, 42.04, 41.17, 7.09, 8.48, 8.42, 8.54, 7.46, 7.09, 7.7, 7.56, 8.11, 7.95, 8.13, 8.13, 8.35, 8.7, 8.3, 7.76, 7.63, 7.84, 8.33, 8.15, 9.0, 9.14, 9.68, 9.75, 9.29, 9.64, 9.24, 8.93, 8.75, 8.95, 8.33, 7.9, 7.35, 7.03, 6.57, 7.06, 7.3, 7.54, 7.61, 7.33, 7.21, 7.29, 7.32, 7.73, 7.7, 6.74, 6.75, 6.44, 6.39, 6.42, 6.42, 7.02, 6.62, 6.19, 5.81, 6.01, 6.64, 6.32, 6.31, 6.31, 5.59, 5.71, 5.65, 5.63, 5.75, 5.97, 6.15, 5.97, 6.04, 6.0, 6.13, 6.15, 6.2, 6.13, 6.28, 6.29, 6.24, 6.29, 6.32, 6.52, 6.44, 6.12, 6.26, 6.41, 6.61, 6.84, 6.47, 6.37, 7.54, 7.72, 7.95, 8.06, 7.99, 7.79, 7.78, 7.91, 7.95, 7.92, 7.95, 8.12, 8.22, 8.37, 8.33, 8.86, 8.73, 8.74, 8.98, 8.73, 8.75, 8.79, 8.78, 8.84, 8.83, 8.9, 9.28, 9.05, 8.75, 9.04, 9.62, 9.76, 9.86, 10.41, 10.71, 10.81, 10.85, 10.2, 10.19, 10.33, 10.06, 9.7, 9.69, 9.92, 10.0, 10.27, 11.62, 11.63, 11.51, 11.75, 11.6, 11.0, 10.74, 10.51, 10.4, 10.97, 11.07, 11.27, 11.49, 11.89, 11.37, 11.37, 11.62, 11.46, 11.2, 12.19, 12.41, 12.41, 12.69, 13.1, 12.95, 12.86, 12.61, 12.29, 12.38, 12.19, 12.03, 12.24, 12.44, 12.59, 12.56, 12.34, 12.36, 12.69, 12.43, 12.7, 13.14, 13.3, 14.03, 14.5, 14.11, 14.17, 14.18, 16.33, 17.16, 18.07, 17.94, 17.56, 17.07, 17.5, 17.01, 16.02, 17.24, 18.39, 18.04, 18.91, 19.12, 20.42, 20.8, 21.0, 20.61, 21.37, 20.97, 21.03, 21.2, 20.57, 20.9, 20.56, 20.06, 21.0, 20.09, 19.34, 18.71, 19.6, 19.5, 19.77, 20.21, 21.02, 21.08, 21.35, 21.11, 22.72, 22.57, 22.1, 21.84, 21.41, 22.38, 22.63, 23.23, 23.33, 23.44, 23.68, 24.27, 24.19, 25.12, 25.56, 25.74, 26.5, 26.5, 26.99, 27.05, 27.79, 27.94, 28.12, 27.4, 26.98, 27.02, 29.77, 29.88, 29.6, 30.22, 30.9, 31.2, 29.09, 30.33, 31.5, 30.45, 31.18, 30.68, 32.43, 30.92, 29.34, 28.33, 27.52, 26.82, 26.91, 25.01, 25.69, 26.16, 26.38, 26.3, 26.83, 26.22, 25.61, 24.86, 25.95, 27.17, 27.9, 27.97, 29.69, 30.34, 30.36, 31.11, 31.61, 29.94, 30.95, 28.9, 28.76, 28.94, 30.41, 30.71, 29.03, 30.07, 30.36, 30.27, 30.4, 30.87, 30.72, 31.16, 29.62, 29.71, 29.17, 27.19, 26.4, 24.72, 24.09, 25.33, 24.9, 25.72, 24.96, 25.04, 22.8, 23.24, 22.04, 20.74, 20.23, 22.54, 23.25, 23.47, 24.43, 24.27, 22.59, 21.58, 20.43, 20.09, 20.39, 20.97, 22.03, 22.05, 21.76, 20.9, 21.49, 21.36, 21.21, 19.79, 19.24, 18.99, 20.32, 20.38, 21.93, 23.42, 23.79, 25.01, 24.69, 26.43, 26.23, 25.88, 24.87, 24.19, 24.54, 24.99, 24.37, 24.92, 24.78, 25.53, 26.0, 25.94, 25.65, 26.06, 26.35, 26.85, 27.58, 27.16, 26.73, 27.49, 27.21, 28.02, 28.63, 28.74, 28.21, 27.92, 27.77, 27.75, 28.38, 28.43, 28.28, 27.27, 26.98, 28.24, 27.73, 28.24, 29.46, 29.98, 29.32, 29.79, 29.65, 29.96, 29.94, 28.82, 27.62, 27.93, 28.3, 28.53, 28.68, 28.4, 28.48, 29.05, 27.76, 26.21, 27.08, 27.38, 26.44, 27.37, 27.35, 27.76, 27.8, 27.81, 28.81, 29.02, 28.7, 28.68, 27.47, 24.15, 23.2, 23.18, 24.08, 25.18, 24.69, 24.64, 24.19, 24.68, 24.52, 24.72, 24.7, 24.18, 23.55, 25.13, 24.28, 23.98, 24.32, 24.13, 24.72, 24.18, 24.18, 24.04, 23.38, 24.2, 24.28, 23.82, 22.46, 22.14, 21.56, 22.13, 22.02, 21.94, 22.49, 21.92, 22.2, 21.97, 22.95, 23.39, 23.72, 23.67, 23.79, 24.57, 22.9, 22.99, 21.8, 22.6, 22.63, 23.08, 22.96, 23.57, 23.01, 23.55, 24.45, 24.29, 23.9, 24.22, 25.54, 25.5, 26.33, 26.04, 26.68, 26.62, 26.19, 25.73, 25.68, 25.34, 25.1, 24.41, 24.24, 24.59, 24.94, 25.63, 26.3, 26.91, 27.57, 27.51, 27.36, 26.76, 26.46, 26.61, 26.42, 27.22, 26.94, 27.64, 27.64, 27.56, 28.34, 28.04, 28.58, 28.2, 28.16, 27.69, 28.38, 29.89, 29.11, 29.43, 28.94, 29.3, 29.2, 30.34, 31.27, 31.52, 31.44, 31.85, 32.5, 33.18, 33.39, 32.84, 34.0, 34.36, 33.81, 33.5, 33.81, 34.21, 32.7, 33.55, 34.56, 34.85, 34.73, 33.26, 33.52, 33.44, 33.8, 30.72, 30.9, 31.32, 31.77, 33.2, 35.19, 34.44, 37.1, 36.52, 36.16, 35.41, 37.16, 38.67, 38.67, 38.3, 38.35, 38.4, 39.9, 39.75, 38.42, 37.76, 41.19, 43.07, 45.09, 47.32, 45.12, 46.6, 46.6, 47.5, 48.6, 48.45, 45.36, 44.55, 45.6, 47.6, 48.0, 50.0, 51.27, 50.66, 51.76, 52.89, 52.76, 52.56, 52.38, 52.35, 51.18, 48.72, 48.4, 48.0, 44.6, 43.32, 44.74, 44.69, 45.57, 44.36, 44.0, 42.51, 41.9, 41.0, 42.21, 42.94, 43.16, 43.72, 45.26, 47.07, 48.1, 48.62, 49.23, 48.76, 49.02, 49.72, 48.67, 48.48, 49.64, 51.57, 51.72, 51.8, 53.27, 53.85, 60.0, 61.12, 56.27, 55.01, 56.88, 53.21, 53.8, 52.16, 50.39, 50.75, 50.44, 51.75, 51.03, 50.7, 50.36, 51.0, 53.2, 53.84, 53.88, 54.6, 54.6, 53.13, 51.48, 52.78, 51.92, 52.32, 53.36, 54.39, 53.92, 55.72, 55.6, 56.0, 54.8, 61.52, 60.0, 57.68, 58.1, 59.8, 59.6, 58.0, 55.08, 55.92, 55.0, 53.32, 52.0, 51.72, 52.56, 52.0, 50.14, 50.3, 52.63, 53.39, 53.72, 52.73, 53.74, 55.41, 55.89, 57.0, 59.12, 58.72, 58.03, 57.45, 60.29, 60.29, 59.8, 62.07, 63.42, 61.92, 61.88, 60.53, 59.63, 57.7, 55.55, 55.99, 55.95, 55.6, 56.73, 58.91, 59.5, 56.85, 57.73, 57.61, 58.27, 56.1, 52.4, 53.14, 53.79, 53.92, 52.74, 52.57, 52.97, 52.97, 53.2, 52.99, 52.9, 52.0, 52.39, 52.77, 52.55, 53.57, 53.14, 52.75, 52.13, 53.14, 53.09, 52.52, 52.2, 51.8, 53.77, 53.66, 53.7, 54.29, 54.75, 55.45, 55.32, 54.61, 55.2, 55.61, 55.67, 55.7, 56.0, 55.06, 55.4, 55.44, 56.26, 55.4, 54.4, 54.64, 53.46, 53.33, 54.42, 63.19, 62.59, 63.3, 62.29, 60.35, 59.9, 59.46, 59.57, 59.68, 59.15, 60.8, 60.36, 60.0, 61.22, 61.0, 61.1, 60.5, 59.86, 59.84, 60.0, 59.69, 59.6, 60.37, 60.94, 61.74, 62.25, 63.41, 63.15, 59.2, 58.93, 59.32, 59.9, 59.98, 58.85, 58.7, 58.6, 59.55, 59.18, 58.79, 56.25, 58.55, 59.68, 59.7, 58.9, 58.25, 59.8, 59.52, 59.98, 61.72, 61.64, 62.53, 61.85, 62.0, 63.81, 63.81, 64.5, 63.78, 62.25, 62.76, 62.45, 62.5, 56.48, 55.85, 56.0, 56.09, 55.0, 54.86, 55.86, 56.15, 55.75, 54.73, 53.4, 53.15, 52.86, 52.02, 52.0, 52.2, 52.17, 52.36, 51.86, 51.82, 53.19, 53.65, 53.7, 53.82, 53.71, 53.35, 53.41, 53.36, 52.65, 51.76, 50.85, 50.32, 50.5, 50.0, 49.71, 50.43, 50.99, 50.98, 50.0, 50.5, 51.26, 50.68, 51.1, 51.21, 51.39, 52.62, 52.85, 53.02, 53.5, 53.99, 54.22, 54.36, 56.58, 56.79, 56.47, 57.0, 56.32, 56.33, 56.76, 55.59, 55.82, 56.1, 55.76, 53.8, 54.1, 54.09, 54.06, 54.11, 53.1, 53.85, 53.76, 54.2, 53.95, 54.8, 55.1, 55.1, 54.75, 53.99, 53.81, 54.71, 55.12, 55.07, 56.25, 59.33, 60.14, 59.75, 59.29, 58.15, 57.97, 58.93, 58.95, 58.93, 61.03, 61.95, 61.37, 61.9, 64.66, 64.58, 64.0, 63.2, 61.35, 61.31, 61.94, 62.78, 62.61, 61.71, 62.97, 63.47, 63.4, 63.8, 64.7, 66.06, 67.39, 66.35, 67.71, 70.03, 70.3, 71.41, 71.14, 70.52, 70.2, 70.31, 70.31, 70.41, 71.65, 70.72, 74.15, 75.73, 74.99, 75.42, 74.85, 76.3, 78.03, 78.12, 77.84, 77.19, 74.27, 72.78, 72.37, 72.23, 71.96, 74.56, 75.75, 77.12, 77.12, 77.34, 76.77, 75.14, 74.15, 75.99, 75.89, 75.0, 75.7, 73.57, 70.66, 70.38, 70.17, 70.78, 70.72, 70.13, 69.45, 69.44, 68.69, 68.95, 69.99, 67.65, 68.79, 69.88, 70.2, 70.9, 70.14, 71.5, 69.91, 69.5, null, null, null, null, null, null, null, null, null, null, null, null, null, null, null, null, null, null, null, null, null, null, null, null, null, null, null, null, null, null, null, null, null, null, null, null, null, null, null, null, null, null, null, null, null, null, null, null, null, null, null, null, null, null, null, null, null, null, null, null, null, null, null, null, null, null, null, null, null, null, null, null, null, null, null, null, null, null, null, null, null, null, null, null, null, null, null, null, null, null, null, null, null, null, null, null, null, null, null, null, null, null, null, null, null, null, null, null, null, null, null, null, null, null, null, null, null, null, null, null, null, null, null, null, null, null, null, null, null, null, null, null, null, null, null, null, null, null, null, null, null, null, null, null, null, null, null, null, null, null, null, null, null, null, null, null, null, null, null, null, null, null, null, null, null, null, null, null, null, null, null, null, null, null, null, null, null, null, null, null, null, null, null, null, null, null, null, null, null, null, null, null, null, null, null, null, null, null, null, null, null, null, null, null, null, null, null, null, null, null, null, null, null, null, null, null, null, null, null, null, null, null, null, null, null, null, null, null, null, null, null, null, null, null, null, null, null, null, null, null, null, null, null, null, null, null, null, null, null, null, null, null, null, null, null, null, null, null, null, null, null, null, null, null, null, null, null, null, null, null, null, null, null, null, null, null, null, null, null, null, null, null, null, null, null, null, null, null, null, null, null, null, null, null, null, null, null, null, null, null, null, null, null, null, null, null, null, null, null, null, null, null, null, null, null, null, null, null, null, null, null, null, null, null, null, null, null, null, null, null, null, null, null, null, null, null, null, null, null, null, null, null, null, null, null, null, null, null, null, null, null, null, null, null, null, null, null, null, null, null, null, null, null, null, null, null, null, null, null, null, null, null, null, null, null, null, null, null, null, null, null, null, null, null, null, null, null, null, null, null, null, null, null, null, null, null, null, null, null, null, null, null, null, null, null, null, null, null, null, null, null, null, null, null, null, null, null, null, null, null, null, null, null, null, null, null, null, null, null, null, null, null, null, null, null, null, null, null, null, null, null, null, null, null, null, null, null, null, null, null, null, null, null, null, null, null, null, null, null, null, null, null, null, null, null, null, null, null, null, null, null, null, null, null, null, null, null, null, null, null, null, null, null, null, null, null, null, null, null, null, null, null, null, null, null, null, null, null, null, null, null, null, null, null, null, null, null, null, null, null, null, null, null, null, null, null, null, null, null, null, null, null, null, null, null, null, null, null, null, null, null, null, null, null, null, null, null, null, null, null, null, null, null, null, null, null, null, null, null, null, null, null, null, null, null, null, null, null, null, null, null, null, null, null, null, null, null, null, null, null, null, null, null, null, null, null, null, null, null, null, null, null, null, null, null, null, null, null, null, null, null, null, null, null, null, null, null, null, null, null, null, null, null, null, null, null], \"increasing\": {\"line\": {\"color\": \"#F241A3\"}}, \"low\": [19.61, 20.79, 16.07, 14.58, 16.84, 19.08, 22.26, 21.74, 18.0, 17.11, 17.86, 21.58, 21.58, 24.74, 26.28, 27.58, 27.24, 28.16, 33.94, 38.76, 39.74, 42.04, 41.17, 7.09, 8.48, 8.42, 8.54, 7.32, 6.73, 7.7, 7.56, 8.11, 7.95, 8.13, 8.03, 8.35, 8.7, 8.3, 7.76, 7.63, 7.84, 8.33, 8.15, 8.72, 9.14, 9.68, 9.52, 9.29, 9.64, 9.24, 8.93, 8.75, 8.92, 8.33, 7.9, 7.35, 7.01, 6.57, 7.06, 7.3, 7.54, 7.61, 7.33, 7.18, 7.29, 7.32, 7.73, 7.7, 6.74, 6.75, 6.44, 6.39, 6.4, 6.42, 7.02, 6.62, 6.19, 5.81, 6.01, 6.48, 6.32, 6.31, 6.31, 5.59, 5.71, 5.65, 5.63, 5.75, 5.75, 6.15, 5.97, 6.04, 6.0, 6.13, 6.15, 6.2, 6.13, 6.28, 6.29, 6.24, 6.29, 6.32, 6.52, 6.44, 6.12, 6.26, 6.41, 6.61, 6.84, 6.47, 6.37, 7.54, 7.72, 7.95, 8.06, 7.98, 7.79, 7.78, 7.87, 7.95, 7.92, 7.95, 8.12, 8.22, 8.37, 8.33, 8.86, 8.73, 8.74, 8.98, 8.7, 8.75, 8.79, 8.78, 8.84, 8.83, 8.88, 9.28, 9.05, 8.75, 9.04, 9.62, 9.76, 9.86, 10.41, 10.71, 10.81, 10.85, 10.15, 10.19, 10.33, 10.06, 9.7, 9.69, 9.92, 10.0, 10.27, 11.62, 11.63, 11.51, 11.52, 11.6, 10.92, 10.66, 10.51, 10.4, 10.97, 10.92, 11.25, 11.49, 11.89, 11.24, 11.37, 11.62, 11.46, 11.2, 12.19, 12.41, 12.41, 12.41, 13.1, 12.95, 12.86, 12.61, 12.29, 12.38, 12.19, 12.03, 12.24, 12.44, 12.59, 12.56, 12.34, 12.36, 12.65, 12.39, 12.7, 12.99, 13.17, 13.96, 14.49, 14.11, 14.12, 14.12, 16.17, 17.09, 18.01, 17.8, 17.56, 17.07, 17.32, 17.01, 15.88, 17.24, 18.39, 18.04, 18.91, 19.12, 20.42, 20.6, 21.0, 20.61, 21.37, 20.97, 21.03, 21.2, 20.55, 20.77, 20.56, 20.06, 21.0, 20.09, 19.14, 18.71, 19.6, 19.5, 19.65, 20.21, 20.56, 20.97, 21.35, 21.01, 22.72, 22.57, 22.1, 21.21, 21.41, 22.38, 22.63, 23.06, 23.33, 23.39, 23.68, 24.27, 24.19, 24.93, 25.56, 25.74, 26.1, 26.35, 26.99, 27.05, 27.79, 27.81, 28.12, 26.82, 26.98, 27.02, 29.77, 29.35, 29.15, 30.22, 30.9, 31.2, 29.01, 29.91, 31.5, 30.45, 30.32, 30.68, 32.31, 30.58, 27.35, 28.2, 27.33, 26.82, 26.33, 25.01, 25.69, 26.16, 26.38, 26.3, 26.83, 26.22, 25.51, 24.86, 25.71, 27.17, 27.9, 27.97, 29.25, 30.34, 30.36, 30.42, 31.61, 29.94, 30.26, 28.3, 28.76, 28.94, 30.41, 30.71, 29.03, 30.07, 30.36, 30.27, 30.4, 30.58, 30.39, 30.53, 29.62, 29.35, 29.17, 27.19, 26.35, 24.44, 24.09, 24.94, 24.9, 25.72, 24.8, 25.04, 22.8, 23.24, 22.04, 20.74, 20.23, 22.54, 22.09, 23.47, 24.43, 24.27, 22.59, 21.56, 20.43, 20.09, 20.39, 20.97, 22.03, 22.05, 21.76, 20.9, 21.49, 21.36, 21.21, 19.79, 19.24, 18.99, 20.32, 20.38, 21.93, 23.42, 23.55, 25.01, 24.69, 26.43, 26.23, 25.88, 24.87, 24.19, 24.54, 24.99, 24.37, 24.92, 24.78, 25.53, 25.72, 25.94, 25.65, 25.85, 26.35, 26.85, 27.58, 27.16, 26.73, 27.49, 27.21, 28.02, 28.58, 28.29, 28.21, 27.92, 27.77, 27.75, 28.38, 28.43, 28.28, 27.27, 26.98, 28.24, 27.73, 28.24, 29.46, 29.98, 29.32, 29.79, 29.65, 29.96, 29.94, 28.82, 27.62, 27.66, 28.3, 28.53, 28.68, 28.4, 28.48, 29.05, 27.68, 26.21, 27.08, 27.38, 26.44, 27.37, 27.35, 27.76, 27.8, 27.81, 28.81, 29.02, 28.7, 28.55, 27.47, 24.15, 23.2, 23.18, 24.08, 25.18, 24.62, 24.64, 24.19, 24.68, 24.52, 24.72, 24.56, 24.18, 23.24, 25.13, 24.2, 23.98, 24.32, 24.06, 24.72, 24.18, 24.18, 24.04, 23.38, 24.2, 24.24, 23.82, 22.46, 22.14, 21.2, 21.84, 21.67, 21.94, 22.49, 21.92, 22.2, 21.84, 22.95, 23.39, 23.72, 23.6, 23.79, 24.57, 22.9, 22.99, 21.8, 22.6, 22.63, 23.06, 22.96, 23.57, 23.01, 23.55, 24.45, 24.29, 23.9, 24.22, 25.54, 25.5, 26.08, 26.04, 26.68, 26.62, 26.19, 25.4, 25.68, 25.34, 25.1, 24.41, 24.24, 24.59, 24.82, 25.58, 26.3, 26.91, 27.57, 27.3, 27.36, 26.62, 26.16, 26.61, 26.42, 27.22, 26.94, 27.4, 27.64, 26.98, 28.07, 28.04, 28.19, 28.2, 28.16, 27.51, 27.5, 29.18, 28.95, 29.42, 28.94, 29.3, 29.2, 30.06, 30.9, 31.2, 31.12, 31.85, 32.32, 32.98, 33.39, 32.84, 33.67, 33.96, 33.73, 33.42, 33.81, 34.0, 32.15, 33.1, 33.39, 34.77, 34.73, 33.26, 32.68, 33.21, 33.02, 30.1, 28.54, 30.98, 31.52, 31.48, 34.53, 33.8, 36.34, 36.52, 34.92, 35.04, 36.2, 38.16, 38.67, 38.2, 38.04, 38.1, 39.0, 39.25, 38.28, 37.1, 40.05, 42.8, 45.09, 45.89, 43.85, 44.5, 45.37, 46.9, 47.75, 48.0, 44.72, 44.18, 44.84, 47.04, 46.8, 48.4, 50.8, 50.14, 50.92, 50.6, 51.64, 52.0, 51.8, 52.35, 50.79, 48.4, 48.2, 48.0, 44.42, 42.55, 44.49, 44.42, 45.06, 44.08, 42.44, 42.1, 41.11, 40.16, 42.17, 42.44, 41.98, 43.24, 43.4, 47.03, 48.0, 47.79, 48.5, 48.36, 48.76, 49.26, 48.67, 48.46, 49.38, 51.57, 50.99, 51.8, 52.92, 53.6, 56.79, 56.6, 54.2, 55.01, 54.4, 52.48, 52.4, 50.93, 50.2, 49.63, 49.9, 50.5, 50.94, 50.2, 50.0, 50.74, 52.4, 53.7, 53.36, 54.6, 52.88, 52.08, 50.8, 51.77, 51.76, 52.32, 52.4, 53.89, 53.76, 54.4, 55.32, 54.5, 54.0, 57.68, 58.51, 56.72, 58.05, 58.88, 58.56, 55.42, 52.36, 53.28, 52.24, 51.85, 50.71, 49.81, 50.9, 51.04, 48.98, 49.77, 50.56, 52.88, 52.67, 52.19, 52.94, 53.8, 55.12, 55.56, 57.0, 57.32, 57.32, 56.32, 57.4, 58.75, 59.18, 60.4, 60.65, 60.0, 60.66, 59.2, 58.52, 54.8, 53.81, 54.2, 54.0, 54.62, 55.6, 55.39, 54.31, 54.44, 56.0, 55.95, 54.92, 50.45, 49.95, 51.82, 52.27, 52.35, 51.33, 51.15, 50.6, 51.35, 51.66, 51.99, 51.35, 51.1, 51.25, 51.6, 51.67, 51.86, 51.74, 51.11, 51.1, 50.9, 51.55, 50.9, 49.95, 50.01, 50.59, 52.5, 51.92, 53.3, 53.59, 53.58, 53.79, 53.46, 52.0, 53.6, 54.15, 54.25, 54.72, 53.36, 53.4, 54.26, 54.8, 52.13, 51.98, 52.02, 52.04, 52.0, 52.5, 58.6, 61.01, 61.8, 59.59, 57.35, 57.05, 58.16, 58.17, 57.88, 57.82, 58.05, 58.55, 58.24, 58.5, 59.7, 59.84, 59.29, 58.65, 58.53, 58.09, 58.3, 56.62, 58.3, 59.0, 59.8, 60.3, 61.7, 58.25, 57.51, 56.75, 57.47, 58.3, 57.25, 56.75, 56.44, 57.15, 58.33, 58.18, 56.12, 55.46, 56.37, 57.9, 57.95, 56.21, 56.91, 58.26, 58.35, 58.7, 59.31, 59.76, 60.81, 60.37, 60.85, 61.71, 62.12, 62.6, 61.26, 60.91, 60.59, 60.6, 59.9, 55.0, 55.03, 55.03, 54.66, 54.28, 53.5, 54.0, 54.47, 54.0, 53.12, 51.82, 52.48, 51.0, 50.48, 51.0, 51.19, 51.34, 50.95, 51.18, 50.5, 51.8, 52.97, 53.13, 53.01, 53.08, 51.42, 52.52, 52.5, 51.38, 50.35, 49.75, 49.35, 49.23, 49.3, 48.84, 49.62, 49.61, 49.59, 49.06, 49.38, 49.43, 49.67, 49.8, 50.23, 50.69, 51.0, 51.87, 52.25, 52.46, 52.05, 53.35, 51.01, 54.05, 55.83, 55.45, 55.26, 55.48, 54.0, 55.15, 53.97, 54.06, 54.63, 52.93, 52.67, 52.31, 53.2, 52.9, 53.13, 52.2, 51.87, 52.57, 52.86, 52.88, 52.76, 54.24, 54.24, 53.33, 53.1, 53.07, 53.48, 53.72, 54.05, 54.65, 56.2, 58.5, 58.29, 57.68, 57.03, 57.04, 57.67, 57.98, 57.85, 58.46, 60.41, 60.21, 58.0, 62.03, 62.41, 61.95, 60.89, 60.3, 60.56, 60.75, 61.5, 60.85, 60.16, 60.71, 62.41, 62.35, 61.64, 63.13, 63.63, 65.23, 64.36, 64.62, 66.06, 69.1, 69.65, 69.25, 69.57, 68.93, 68.94, 68.18, 68.66, 70.23, 68.87, 70.09, 73.96, 73.75, 73.78, 73.59, 74.55, 75.61, 76.69, 76.34, 74.37, 71.1, 71.1, 71.37, 70.57, 70.44, 70.91, 73.63, 75.23, 75.5, 75.56, 73.33, 72.85, 72.95, 73.0, 73.98, 73.7, 71.89, 70.05, 65.4, 67.4, 68.58, 69.1, 69.26, 68.26, 67.55, 67.8, 66.34, 66.81, 66.85, 66.25, 66.36, 68.11, 68.63, 69.17, 68.9, 68.4, 68.62, 68.08, null, null, null, null, null, null, null, null, null, null, null, null, null, null, null, null, null, null, null, null, null, null, null, null, null, null, null, null, null, null, null, null, null, null, null, null, null, null, null, null, null, null, null, null, null, null, null, null, null, null, null, null, null, null, null, null, null, null, null, null, null, null, null, null, null, null, null, null, null, null, null, null, null, null, null, null, null, null, null, null, null, null, null, null, null, null, null, null, null, null, null, null, null, null, null, null, null, null, null, null, null, null, null, null, null, null, null, null, null, null, null, null, null, null, null, null, null, null, null, null, null, null, null, null, null, null, null, null, null, null, null, null, null, null, null, null, null, null, null, null, null, null, null, null, null, null, null, null, null, null, null, null, null, null, null, null, null, null, null, null, null, null, null, null, null, null, null, null, null, null, null, null, null, null, null, null, null, null, null, null, null, null, null, null, null, null, null, null, null, null, null, null, null, null, null, null, null, null, null, null, null, null, null, null, null, null, null, null, null, null, null, null, null, null, null, null, null, null, null, null, null, null, null, null, null, null, null, null, null, null, null, null, null, null, null, null, null, null, null, null, null, null, null, null, null, null, null, null, null, null, null, null, null, null, null, null, null, null, null, null, null, null, null, null, null, null, null, null, null, null, null, null, null, null, null, null, null, null, null, null, null, null, null, null, null, null, null, null, null, null, null, null, null, null, null, null, null, null, null, null, null, null, null, null, null, null, null, null, null, null, null, null, null, null, null, null, null, null, null, null, null, null, null, null, null, null, null, null, null, null, null, null, null, null, null, null, null, null, null, null, null, null, null, null, null, null, null, null, null, null, null, null, null, null, null, null, null, null, null, null, null, null, null, null, null, null, null, null, null, null, null, null, null, null, null, null, null, null, null, null, null, null, null, null, null, null, null, null, null, null, null, null, null, null, null, null, null, null, null, null, null, null, null, null, null, null, null, null, null, null, null, null, null, null, null, null, null, null, null, null, null, null, null, null, null, null, null, null, null, null, null, null, null, null, null, null, null, null, null, null, null, null, null, null, null, null, null, null, null, null, null, null, null, null, null, null, null, null, null, null, null, null, null, null, null, null, null, null, null, null, null, null, null, null, null, null, null, null, null, null, null, null, null, null, null, null, null, null, null, null, null, null, null, null, null, null, null, null, null, null, null, null, null, null, null, null, null, null, null, null, null, null, null, null, null, null, null, null, null, null, null, null, null, null, null, null, null, null, null, null, null, null, null, null, null, null, null, null, null, null, null, null, null, null, null, null, null, null, null, null, null, null, null, null, null, null, null, null, null, null, null, null, null, null, null, null, null, null, null, null, null, null, null, null, null, null, null, null, null, null, null, null, null, null, null, null, null, null, null, null, null, null, null, null, null, null, null, null, null, null, null, null, null, null, null, null], \"open\": [19.61, 20.79, 16.07, 14.58, 16.84, 18.99, 22.29, 21.74, 18.0, 17.11, 17.86, 21.58, 21.58, 24.74, 26.28, 27.58, 27.24, 28.16, 33.94, 38.76, 39.74, 42.04, 41.17, 7.09, 8.48, 8.42, 8.54, 7.46, 6.73, 7.7, 7.56, 8.11, 7.95, 8.13, 8.13, 8.35, 8.7, 8.3, 7.76, 7.63, 7.84, 8.33, 8.15, 8.72, 9.14, 9.68, 9.52, 9.29, 9.64, 9.24, 8.93, 8.75, 8.92, 8.33, 7.9, 7.35, 7.03, 6.57, 7.06, 7.3, 7.54, 7.61, 7.33, 7.18, 7.29, 7.32, 7.73, 7.7, 6.74, 6.75, 6.44, 6.39, 6.42, 6.42, 7.02, 6.62, 6.19, 5.81, 6.01, 6.64, 6.32, 6.31, 6.31, 5.59, 5.71, 5.65, 5.63, 5.75, 5.75, 6.15, 5.97, 6.04, 6.0, 6.13, 6.15, 6.2, 6.13, 6.28, 6.29, 6.24, 6.29, 6.32, 6.52, 6.44, 6.12, 6.26, 6.41, 6.61, 6.84, 6.47, 6.37, 7.54, 7.72, 7.95, 8.06, 7.99, 7.79, 7.78, 7.88, 7.95, 7.92, 7.95, 8.12, 8.22, 8.37, 8.33, 8.86, 8.73, 8.74, 8.98, 8.73, 8.75, 8.79, 8.78, 8.84, 8.83, 8.88, 9.28, 9.05, 8.75, 9.04, 9.62, 9.76, 9.86, 10.41, 10.71, 10.81, 10.85, 10.16, 10.19, 10.33, 10.06, 9.7, 9.69, 9.92, 10.0, 10.27, 11.62, 11.63, 11.51, 11.52, 11.6, 11.0, 10.66, 10.51, 10.4, 10.97, 10.92, 11.27, 11.49, 11.89, 11.37, 11.37, 11.62, 11.46, 11.2, 12.19, 12.41, 12.41, 12.41, 13.1, 12.95, 12.86, 12.61, 12.29, 12.38, 12.19, 12.03, 12.24, 12.44, 12.59, 12.56, 12.34, 12.36, 12.69, 12.39, 12.7, 12.99, 13.17, 13.96, 14.49, 14.11, 14.12, 14.12, 16.33, 17.09, 18.01, 17.94, 17.56, 17.07, 17.32, 17.01, 15.88, 17.24, 18.39, 18.04, 18.91, 19.12, 20.42, 20.7, 21.0, 20.61, 21.37, 20.97, 21.03, 21.2, 20.55, 20.77, 20.56, 20.06, 21.0, 20.09, 19.14, 18.71, 19.6, 19.5, 19.77, 20.21, 21.0, 20.97, 21.35, 21.11, 22.72, 22.57, 22.1, 21.84, 21.41, 22.38, 22.63, 23.06, 23.33, 23.44, 23.68, 24.27, 24.19, 24.93, 25.56, 25.74, 26.5, 26.35, 26.99, 27.05, 27.79, 27.94, 28.12, 27.4, 26.98, 27.02, 29.77, 29.88, 29.6, 30.22, 30.9, 31.2, 29.09, 29.91, 31.5, 30.45, 30.32, 30.68, 32.31, 30.58, 27.35, 28.33, 27.52, 26.82, 26.33, 25.01, 25.69, 26.16, 26.38, 26.3, 26.83, 26.22, 25.51, 24.86, 25.71, 27.17, 27.9, 27.97, 29.69, 30.34, 30.36, 31.11, 31.61, 29.94, 30.95, 28.9, 28.76, 28.94, 30.41, 30.71, 29.03, 30.07, 30.36, 30.27, 30.4, 30.87, 30.72, 31.16, 29.62, 29.71, 29.17, 27.19, 26.4, 24.44, 24.09, 25.33, 24.9, 25.72, 24.96, 25.04, 22.8, 23.24, 22.04, 20.74, 20.23, 22.54, 22.09, 23.47, 24.43, 24.27, 22.59, 21.58, 20.43, 20.09, 20.39, 20.97, 22.03, 22.05, 21.76, 20.9, 21.49, 21.36, 21.21, 19.79, 19.24, 18.99, 20.32, 20.38, 21.93, 23.42, 23.55, 25.01, 24.69, 26.43, 26.23, 25.88, 24.87, 24.19, 24.54, 24.99, 24.37, 24.92, 24.78, 25.53, 26.0, 25.94, 25.65, 26.06, 26.35, 26.85, 27.58, 27.16, 26.73, 27.49, 27.21, 28.02, 28.58, 28.74, 28.21, 27.92, 27.77, 27.75, 28.38, 28.43, 28.28, 27.27, 26.98, 28.24, 27.73, 28.24, 29.46, 29.98, 29.32, 29.79, 29.65, 29.96, 29.94, 28.82, 27.62, 27.66, 28.3, 28.53, 28.68, 28.4, 28.48, 29.05, 27.76, 26.21, 27.08, 27.38, 26.44, 27.37, 27.35, 27.76, 27.8, 27.81, 28.81, 29.02, 28.7, 28.68, 27.47, 24.15, 23.2, 23.18, 24.08, 25.18, 24.62, 24.64, 24.19, 24.68, 24.52, 24.72, 24.56, 24.18, 23.24, 25.13, 24.2, 23.98, 24.32, 24.13, 24.72, 24.18, 24.18, 24.04, 23.38, 24.2, 24.28, 23.82, 22.46, 22.14, 21.56, 21.84, 21.86, 21.94, 22.49, 21.92, 22.2, 21.84, 22.95, 23.39, 23.72, 23.6, 23.79, 24.57, 22.9, 22.99, 21.8, 22.6, 22.63, 23.06, 22.96, 23.57, 23.01, 23.55, 24.45, 24.29, 23.9, 24.22, 25.54, 25.5, 26.33, 26.04, 26.68, 26.62, 26.19, 25.4, 25.68, 25.34, 25.1, 24.41, 24.24, 24.59, 24.82, 25.58, 26.3, 26.91, 27.57, 27.51, 27.36, 26.7, 26.46, 26.61, 26.42, 27.22, 26.94, 27.4, 27.64, 27.56, 28.25, 28.04, 28.19, 28.2, 28.16, 27.69, 27.5, 29.48, 29.11, 29.43, 28.94, 29.3, 29.2, 30.06, 30.9, 31.52, 31.12, 31.85, 32.32, 32.98, 33.39, 32.84, 33.67, 34.36, 33.81, 33.42, 33.81, 34.21, 32.7, 33.1, 34.56, 34.77, 34.73, 33.26, 33.52, 33.21, 33.02, 30.1, 28.54, 30.98, 31.52, 33.2, 34.56, 34.44, 36.4, 36.52, 36.16, 35.28, 36.2, 38.33, 38.67, 38.3, 38.35, 38.1, 39.0, 39.6, 38.42, 37.5, 40.05, 43.07, 45.09, 45.96, 45.12, 44.5, 46.6, 47.5, 47.75, 48.2, 45.36, 44.18, 44.84, 47.6, 46.8, 48.4, 50.8, 50.66, 51.76, 50.6, 52.76, 52.0, 52.38, 52.35, 51.18, 48.72, 48.3, 48.0, 44.6, 43.0, 44.49, 44.42, 45.06, 44.08, 44.0, 42.4, 41.11, 41.0, 42.21, 42.6, 43.16, 43.54, 43.4, 47.03, 48.0, 48.62, 48.56, 48.76, 48.76, 49.56, 48.67, 48.46, 49.64, 51.57, 51.52, 51.8, 52.92, 53.75, 56.79, 61.08, 54.2, 55.01, 55.12, 52.6, 52.8, 52.16, 50.2, 50.75, 50.12, 50.6, 51.03, 50.26, 50.0, 50.92, 52.4, 53.84, 53.51, 54.6, 54.6, 53.0, 51.48, 52.4, 51.76, 52.32, 52.4, 54.39, 53.76, 54.4, 55.6, 56.0, 54.8, 57.68, 60.0, 57.68, 58.1, 58.88, 59.6, 58.0, 54.79, 54.22, 55.0, 53.3, 52.0, 51.72, 50.9, 52.0, 50.14, 49.77, 50.56, 52.88, 53.72, 52.73, 52.94, 54.72, 55.45, 55.56, 57.0, 58.2, 57.32, 56.9, 57.4, 60.29, 59.4, 60.62, 63.42, 61.19, 61.67, 60.46, 59.63, 57.7, 55.11, 55.99, 55.0, 55.1, 55.95, 56.09, 59.5, 56.0, 57.26, 56.7, 56.76, 56.1, 50.86, 52.4, 53.19, 53.92, 52.5, 51.95, 51.4, 52.97, 51.75, 52.41, 52.9, 52.0, 51.95, 51.96, 52.35, 52.77, 52.62, 52.75, 51.37, 51.45, 53.09, 52.46, 52.2, 50.68, 51.8, 53.66, 53.12, 53.45, 54.09, 53.58, 55.15, 54.0, 54.0, 54.15, 55.5, 54.75, 55.3, 55.06, 53.4, 55.15, 55.4, 55.4, 53.2, 54.02, 52.16, 52.3, 53.0, 60.5, 61.52, 62.0, 62.29, 60.35, 58.5, 59.46, 58.99, 58.9, 59.09, 58.38, 60.36, 59.64, 60.0, 60.56, 60.7, 60.15, 59.85, 59.4, 59.48, 59.69, 58.0, 59.32, 59.95, 60.11, 62.0, 61.7, 63.15, 58.65, 57.51, 58.86, 58.3, 59.98, 57.8, 58.7, 57.5, 58.6, 59.02, 58.79, 56.25, 57.0, 57.9, 59.68, 58.7, 57.95, 58.26, 59.52, 59.15, 59.31, 61.59, 61.3, 61.0, 61.7, 61.9, 63.81, 63.01, 63.65, 61.33, 62.2, 61.0, 62.5, 56.0, 55.5, 56.0, 55.45, 54.8, 54.29, 54.6, 55.8, 55.26, 54.3, 53.4, 52.8, 52.86, 50.98, 51.25, 51.95, 52.0, 52.17, 51.31, 51.2, 51.99, 52.97, 53.31, 53.57, 53.47, 53.35, 52.91, 52.58, 52.65, 51.66, 50.83, 50.05, 50.04, 49.78, 49.15, 49.72, 50.1, 50.75, 50.0, 49.91, 50.0, 50.67, 50.49, 50.6, 50.85, 51.0, 52.2, 52.51, 53.1, 52.54, 53.93, 54.3, 54.05, 56.38, 56.3, 56.5, 55.6, 55.67, 56.37, 55.41, 54.06, 56.06, 55.44, 53.29, 53.0, 54.09, 53.54, 53.79, 53.09, 52.15, 53.76, 53.66, 53.49, 53.7, 54.9, 54.9, 54.75, 53.7, 53.45, 53.69, 54.15, 54.39, 54.71, 56.2, 59.15, 58.32, 59.29, 57.83, 57.04, 57.7, 58.29, 58.54, 58.76, 60.41, 60.45, 61.37, 62.03, 64.55, 62.44, 63.2, 61.16, 60.75, 60.84, 62.01, 62.1, 61.4, 60.71, 62.56, 62.96, 63.16, 63.65, 63.65, 65.4, 66.35, 65.88, 66.07, 69.4, 70.3, 69.5, 69.93, 69.88, 69.5, 70.31, 69.43, 70.75, 70.0, 70.09, 73.96, 74.87, 74.99, 74.53, 74.61, 75.95, 78.12, 76.9, 77.01, 74.27, 71.67, 72.01, 72.23, 70.85, 71.51, 74.55, 75.82, 76.2, 76.65, 76.77, 73.95, 72.95, 74.0, 75.21, 74.8, 74.82, 72.69, 69.41, 70.2, 68.71, 70.0, 70.62, 69.6, 68.15, 69.0, 68.69, 67.77, 69.99, 67.06, 67.0, 68.11, 68.93, 69.65, 70.14, 69.3, 69.08, 69.5, null, null, null, null, null, null, null, null, null, null, null, null, null, null, null, null, null, null, null, null, null, null, null, null, null, null, null, null, null, null, null, null, null, null, null, null, null, null, null, null, null, null, null, null, null, null, null, null, null, null, null, null, null, null, null, null, null, null, null, null, null, null, null, null, null, null, null, null, null, null, null, null, null, null, null, null, null, null, null, null, null, null, null, null, null, null, null, null, null, null, null, null, null, null, null, null, null, null, null, null, null, null, null, null, null, null, null, null, null, null, null, null, null, null, null, null, null, null, null, null, null, null, null, null, null, null, null, null, null, null, null, null, null, null, null, null, null, null, null, null, null, null, null, null, null, null, null, null, null, null, null, null, null, null, null, null, null, null, null, null, null, null, null, null, null, null, null, null, null, null, null, null, null, null, null, null, null, null, null, null, null, null, null, null, null, null, null, null, null, null, null, null, null, null, null, null, null, null, null, null, null, null, null, null, null, null, null, null, null, null, null, null, null, null, null, null, null, null, null, null, null, null, null, null, null, null, null, null, null, null, null, null, null, null, null, null, null, null, null, null, null, null, null, null, null, null, null, null, null, null, null, null, null, null, null, null, null, null, null, null, null, null, null, null, null, null, null, null, null, null, null, null, null, null, null, null, null, null, null, null, null, null, null, null, null, null, null, null, null, null, null, null, null, null, null, null, null, null, null, null, null, null, null, null, null, null, null, null, null, null, null, null, null, null, null, null, null, null, null, null, null, null, null, null, null, null, null, null, null, null, null, null, null, null, null, null, null, null, null, null, null, null, null, null, null, null, null, null, null, null, null, null, null, null, null, null, null, null, null, null, null, null, null, null, null, null, null, null, null, null, null, null, null, null, null, null, null, null, null, null, null, null, null, null, null, null, null, null, null, null, null, null, null, null, null, null, null, null, null, null, null, null, null, null, null, null, null, null, null, null, null, null, null, null, null, null, null, null, null, null, null, null, null, null, null, null, null, null, null, null, null, null, null, null, null, null, null, null, null, null, null, null, null, null, null, null, null, null, null, null, null, null, null, null, null, null, null, null, null, null, null, null, null, null, null, null, null, null, null, null, null, null, null, null, null, null, null, null, null, null, null, null, null, null, null, null, null, null, null, null, null, null, null, null, null, null, null, null, null, null, null, null, null, null, null, null, null, null, null, null, null, null, null, null, null, null, null, null, null, null, null, null, null, null, null, null, null, null, null, null, null, null, null, null, null, null, null, null, null, null, null, null, null, null, null, null, null, null, null, null, null, null, null, null, null, null, null, null, null, null, null, null, null, null, null, null, null, null, null, null, null, null, null, null, null, null, null, null, null, null, null, null, null, null, null, null, null, null, null, null, null, null, null, null, null, null, null, null, null, null, null, null, null, null, null, null], \"type\": \"candlestick\", \"x\": [\"2014-01-31\", \"2014-02-19\", \"2014-04-01\", \"2014-04-25\", \"2014-05-21\", \"2014-06-13\", \"2014-09-30\", \"2014-10-15\", \"2014-12-08\", \"2015-01-13\", \"2015-01-20\", \"2015-01-22\", \"2015-01-23\", \"2015-02-04\", \"2015-02-11\", \"2015-03-03\", \"2015-03-10\", \"2015-03-19\", \"2015-04-16\", \"2015-05-26\", \"2015-06-05\", \"2015-06-11\", \"2015-06-16\", \"2015-07-20\", \"2015-08-04\", \"2015-08-12\", \"2015-08-19\", \"2015-08-21\", \"2015-08-24\", \"2015-09-02\", \"2015-09-10\", \"2015-09-18\", \"2015-09-22\", \"2015-09-25\", \"2015-09-28\", \"2015-10-02\", \"2015-10-05\", \"2015-10-06\", \"2015-10-15\", \"2015-10-16\", \"2015-10-29\", \"2015-11-09\", \"2015-11-13\", \"2015-11-17\", \"2015-11-24\", \"2015-12-07\", \"2015-12-08\", \"2015-12-11\", \"2015-12-17\", \"2015-12-22\", \"2015-12-28\", \"2016-01-04\", \"2016-01-13\", \"2016-01-20\", \"2016-01-26\", \"2016-01-29\", \"2016-02-03\", \"2016-02-05\", \"2016-02-10\", \"2016-02-19\", \"2016-02-26\", \"2016-03-04\", \"2016-03-07\", \"2016-03-15\", \"2016-03-17\", \"2016-03-28\", \"2016-04-05\", \"2016-04-14\", \"2016-04-19\", \"2016-04-20\", \"2016-05-02\", \"2016-05-04\", \"2016-05-10\", \"2016-05-18\", \"2016-05-24\", \"2016-06-09\", \"2016-06-21\", \"2016-06-29\", \"2016-07-01\", \"2016-07-05\", \"2016-07-08\", \"2016-07-13\", \"2016-07-14\", \"2016-07-19\", \"2016-07-20\", \"2016-07-21\", \"2016-07-22\", \"2016-07-25\", \"2016-07-26\", \"2016-08-01\", \"2016-08-04\", \"2016-08-08\", \"2016-08-11\", \"2016-08-12\", \"2016-08-17\", \"2016-08-23\", \"2016-08-24\", \"2016-08-25\", \"2016-08-29\", \"2016-08-30\", \"2016-09-02\", \"2016-09-06\", \"2016-09-14\", \"2016-09-19\", \"2016-09-21\", \"2016-09-27\", \"2016-09-30\", \"2016-10-03\", \"2016-10-05\", \"2016-10-11\", \"2016-10-13\", \"2016-10-18\", \"2016-10-20\", \"2016-10-26\", \"2016-10-28\", \"2016-10-31\", \"2016-11-10\", \"2016-11-18\", \"2016-11-21\", \"2016-11-22\", \"2016-11-28\", \"2016-11-30\", \"2016-12-05\", \"2016-12-12\", \"2016-12-20\", \"2017-01-11\", \"2017-01-20\", \"2017-01-23\", \"2017-02-06\", \"2017-02-09\", \"2017-02-14\", \"2017-02-15\", \"2017-02-17\", \"2017-02-21\", \"2017-03-02\", \"2017-03-06\", \"2017-03-08\", \"2017-03-30\", \"2017-04-06\", \"2017-04-19\", \"2017-04-24\", \"2017-04-25\", \"2017-05-02\", \"2017-05-03\", \"2017-05-18\", \"2017-06-02\", \"2017-06-07\", \"2017-06-09\", \"2017-06-20\", \"2017-06-21\", \"2017-06-22\", \"2017-06-29\", \"2017-07-05\", \"2017-07-06\", \"2017-07-10\", \"2017-07-11\", \"2017-07-17\", \"2017-07-18\", \"2017-07-19\", \"2017-07-20\", \"2017-07-21\", \"2017-07-27\", \"2017-08-09\", \"2017-08-10\", \"2017-08-18\", \"2017-08-21\", \"2017-08-30\", \"2017-09-06\", \"2017-09-11\", \"2017-09-18\", \"2017-09-21\", \"2017-09-25\", \"2017-09-26\", \"2017-09-27\", \"2017-09-28\", \"2017-10-02\", \"2017-10-05\", \"2017-10-06\", \"2017-10-23\", \"2017-10-24\", \"2017-10-30\", \"2017-10-31\", \"2017-11-07\", \"2017-11-09\", \"2017-11-29\", \"2017-11-30\", \"2017-12-01\", \"2017-12-04\", \"2017-12-07\", \"2017-12-12\", \"2017-12-14\", \"2017-12-18\", \"2017-12-19\", \"2017-12-20\", \"2017-12-22\", \"2017-12-26\", \"2017-12-28\", \"2018-01-02\", \"2018-01-03\", \"2018-01-11\", \"2018-01-16\", \"2018-01-17\", \"2018-01-18\", \"2018-01-19\", \"2018-01-24\", \"2018-01-26\", \"2018-01-29\", \"2018-01-30\", \"2018-01-31\", \"2018-02-01\", \"2018-02-07\", \"2018-02-08\", \"2018-02-09\", \"2018-02-14\", \"2018-02-21\", \"2018-02-22\", \"2018-02-26\", \"2018-03-01\", \"2018-03-05\", \"2018-03-06\", \"2018-03-07\", \"2018-03-08\", \"2018-03-09\", \"2018-03-12\", \"2018-03-14\", \"2018-03-16\", \"2018-03-19\", \"2018-03-21\", \"2018-03-22\", \"2018-03-23\", \"2018-03-26\", \"2018-03-27\", \"2018-03-28\", \"2018-04-03\", \"2018-04-05\", \"2018-04-06\", \"2018-04-09\", \"2018-04-10\", \"2018-04-11\", \"2018-04-12\", \"2018-04-13\", \"2018-04-16\", \"2018-04-17\", \"2018-04-18\", \"2018-04-23\", \"2018-04-24\", \"2018-04-25\", \"2018-05-02\", \"2018-05-04\", \"2018-05-07\", \"2018-05-08\", \"2018-05-10\", \"2018-05-15\", \"2018-05-17\", \"2018-05-18\", \"2018-05-23\", \"2018-05-24\", \"2018-05-25\", \"2018-05-29\", \"2018-05-30\", \"2018-06-01\", \"2018-06-04\", \"2018-06-05\", \"2018-06-06\", \"2018-06-07\", \"2018-06-08\", \"2018-06-11\", \"2018-06-12\", \"2018-06-14\", \"2018-06-15\", \"2018-06-18\", \"2018-06-19\", \"2018-06-20\", \"2018-06-22\", \"2018-06-25\", \"2018-06-26\", \"2018-06-27\", \"2018-06-29\", \"2018-07-02\", \"2018-07-03\", \"2018-07-12\", \"2018-07-16\", \"2018-07-17\", \"2018-07-19\", \"2018-07-20\", \"2018-07-24\", \"2018-07-25\", \"2018-07-30\", \"2018-07-31\", \"2018-08-06\", \"2018-08-07\", \"2018-08-08\", \"2018-08-10\", \"2018-08-14\", \"2018-08-15\", \"2018-08-17\", \"2018-08-20\", \"2018-08-21\", \"2018-08-22\", \"2018-08-23\", \"2018-08-24\", \"2018-08-27\", \"2018-08-28\", \"2018-08-29\", \"2018-08-30\", \"2018-08-31\", \"2018-09-04\", \"2018-09-05\", \"2018-09-06\", \"2018-09-10\", \"2018-09-12\", \"2018-09-14\", \"2018-09-17\", \"2018-09-18\", \"2018-09-19\", \"2018-09-24\", \"2018-09-25\", \"2018-09-26\", \"2018-09-28\", \"2018-10-01\", \"2018-10-02\", \"2018-10-03\", \"2018-10-04\", \"2018-10-05\", \"2018-10-09\", \"2018-10-10\", \"2018-10-11\", \"2018-10-15\", \"2018-10-16\", \"2018-10-18\", \"2018-10-19\", \"2018-10-23\", \"2018-10-24\", \"2018-10-25\", \"2018-10-26\", \"2018-10-29\", \"2018-10-30\", \"2018-10-31\", \"2018-11-01\", \"2018-11-05\", \"2018-11-07\", \"2018-11-08\", \"2018-11-09\", \"2018-11-14\", \"2018-11-19\", \"2018-11-21\", \"2018-11-26\", \"2018-11-28\", \"2018-11-29\", \"2018-11-30\", \"2018-12-04\", \"2018-12-07\", \"2018-12-12\", \"2018-12-13\", \"2018-12-18\", \"2018-12-20\", \"2018-12-21\", \"2018-12-27\", \"2019-01-02\", \"2019-01-03\", \"2019-01-04\", \"2019-01-07\", \"2019-01-08\", \"2019-01-11\", \"2019-01-14\", \"2019-01-15\", \"2019-01-16\", \"2019-01-18\", \"2019-01-22\", \"2019-01-23\", \"2019-01-24\", \"2019-01-28\", \"2019-01-29\", \"2019-01-30\", \"2019-01-31\", \"2019-02-04\", \"2019-02-05\", \"2019-02-06\", \"2019-02-07\", \"2019-02-11\", \"2019-02-12\", \"2019-02-15\", \"2019-02-25\", \"2019-03-01\", \"2019-03-08\", \"2019-03-11\", \"2019-03-19\", \"2019-03-20\", \"2019-03-21\", \"2019-03-22\", \"2019-03-25\", \"2019-03-26\", \"2019-03-27\", \"2019-03-28\", \"2019-04-01\", \"2019-04-02\", \"2019-04-04\", \"2019-04-12\", \"2019-04-15\", \"2019-04-16\", \"2019-04-17\", \"2019-04-18\", \"2019-04-22\", \"2019-04-24\", \"2019-04-25\", \"2019-04-29\", \"2019-04-30\", \"2019-05-02\", \"2019-05-03\", \"2019-05-08\", \"2019-05-13\", \"2019-05-14\", \"2019-05-15\", \"2019-05-20\", \"2019-05-21\", \"2019-05-23\", \"2019-05-24\", \"2019-05-28\", \"2019-05-29\", \"2019-06-03\", \"2019-06-04\", \"2019-06-10\", \"2019-06-13\", \"2019-06-17\", \"2019-06-18\", \"2019-06-19\", \"2019-06-25\", \"2019-06-26\", \"2019-07-02\", \"2019-07-05\", \"2019-07-08\", \"2019-07-11\", \"2019-07-15\", \"2019-07-18\", \"2019-07-22\", \"2019-07-23\", \"2019-07-24\", \"2019-07-26\", \"2019-07-30\", \"2019-08-06\", \"2019-08-07\", \"2019-08-08\", \"2019-08-09\", \"2019-08-12\", \"2019-08-13\", \"2019-08-14\", \"2019-08-15\", \"2019-08-19\", \"2019-08-20\", \"2019-08-21\", \"2019-08-26\", \"2019-08-27\", \"2019-08-29\", \"2019-08-30\", \"2019-09-03\", \"2019-09-05\", \"2019-09-10\", \"2019-09-13\", \"2019-09-17\", \"2019-09-18\", \"2019-09-20\", \"2019-09-23\", \"2019-09-24\", \"2019-09-25\", \"2019-09-26\", \"2019-09-27\", \"2019-10-01\", \"2019-10-03\", \"2019-10-04\", \"2019-10-09\", \"2019-10-10\", \"2019-10-11\", \"2019-10-14\", \"2019-10-15\", \"2019-10-16\", \"2019-10-17\", \"2019-10-18\", \"2019-10-21\", \"2019-10-22\", \"2019-10-28\", \"2019-10-29\", \"2019-10-31\", \"2019-11-01\", \"2019-11-04\", \"2019-11-05\", \"2019-11-06\", \"2019-11-11\", \"2019-11-12\", \"2019-11-13\", \"2019-11-14\", \"2019-11-18\", \"2019-11-19\", \"2019-11-21\", \"2019-11-22\", \"2019-11-26\", \"2019-11-29\", \"2019-12-02\", \"2019-12-03\", \"2019-12-04\", \"2019-12-05\", \"2019-12-09\", \"2019-12-10\", \"2019-12-12\", \"2019-12-13\", \"2019-12-16\", \"2019-12-17\", \"2019-12-18\", \"2019-12-19\", \"2019-12-20\", \"2019-12-23\", \"2019-12-26\", \"2019-12-27\", \"2019-12-30\", \"2020-01-02\", \"2020-01-03\", \"2020-01-06\", \"2020-01-07\", \"2020-01-08\", \"2020-01-09\", \"2020-01-10\", \"2020-01-13\", \"2020-01-14\", \"2020-01-15\", \"2020-01-17\", \"2020-01-21\", \"2020-01-22\", \"2020-01-23\", \"2020-01-24\", \"2020-01-27\", \"2020-01-28\", \"2020-01-29\", \"2020-01-30\", \"2020-01-31\", \"2020-02-03\", \"2020-02-04\", \"2020-02-05\", \"2020-02-06\", \"2020-02-07\", \"2020-02-11\", \"2020-02-12\", \"2020-02-13\", \"2020-02-14\", \"2020-02-18\", \"2020-02-19\", \"2020-02-20\", \"2020-02-21\", \"2020-02-26\", \"2020-02-27\", \"2020-02-28\", \"2020-03-02\", \"2020-03-03\", \"2020-03-04\", \"2020-03-05\", \"2020-03-06\", \"2020-03-09\", \"2020-03-10\", \"2020-03-11\", \"2020-03-12\", \"2020-03-13\", \"2020-03-16\", \"2020-03-17\", \"2020-03-18\", \"2020-03-19\", \"2020-03-20\", \"2020-03-23\", \"2020-03-24\", \"2020-03-25\", \"2020-03-26\", \"2020-03-27\", \"2020-03-30\", \"2020-03-31\", \"2020-04-01\", \"2020-04-02\", \"2020-04-03\", \"2020-04-06\", \"2020-04-07\", \"2020-04-08\", \"2020-04-09\", \"2020-04-13\", \"2020-04-14\", \"2020-04-15\", \"2020-04-16\", \"2020-04-17\", \"2020-04-20\", \"2020-04-22\", \"2020-04-23\", \"2020-04-24\", \"2020-04-27\", \"2020-04-28\", \"2020-04-29\", \"2020-04-30\", \"2020-05-04\", \"2020-05-05\", \"2020-05-06\", \"2020-05-07\", \"2020-05-08\", \"2020-05-11\", \"2020-05-13\", \"2020-05-14\", \"2020-05-15\", \"2020-05-18\", \"2020-05-19\", \"2020-05-20\", \"2020-05-21\", \"2020-05-22\", \"2020-05-25\", \"2020-05-26\", \"2020-05-27\", \"2020-05-28\", \"2020-05-29\", \"2020-06-01\", \"2020-06-02\", \"2020-06-03\", \"2020-06-04\", \"2020-06-05\", \"2020-06-08\", \"2020-06-09\", \"2020-06-10\", \"2020-06-12\", \"2020-06-15\", \"2020-06-16\", \"2020-06-17\", \"2020-06-18\", \"2020-06-19\", \"2020-06-22\", \"2020-06-23\", \"2020-06-24\", \"2020-06-25\", \"2020-06-26\", \"2020-06-29\", \"2020-06-30\", \"2020-07-01\", \"2020-07-02\", \"2020-07-06\", \"2020-07-07\", \"2020-07-08\", \"2020-07-10\", \"2020-07-13\", \"2020-07-14\", \"2020-07-15\", \"2020-07-16\", \"2020-07-17\", \"2020-07-20\", \"2020-07-21\", \"2020-07-22\", \"2020-07-23\", \"2020-07-24\", \"2020-07-27\", \"2020-07-28\", \"2020-07-29\", \"2020-07-30\", \"2020-07-31\", \"2020-08-03\", \"2020-08-04\", \"2020-08-05\", \"2020-08-06\", \"2020-08-07\", \"2020-08-10\", \"2020-08-11\", \"2020-08-12\", \"2020-08-13\", \"2020-08-14\", \"2020-08-17\", \"2020-08-18\", \"2020-08-19\", \"2020-08-20\", \"2020-08-21\", \"2020-08-24\", \"2020-08-25\", \"2020-08-26\", \"2020-08-27\", \"2020-08-28\", \"2020-08-31\", \"2020-09-01\", \"2020-09-02\", \"2020-09-03\", \"2020-09-04\", \"2020-09-08\", \"2020-09-09\", \"2020-09-10\", \"2020-09-11\", \"2020-09-14\", \"2020-09-15\", \"2020-09-16\", \"2020-09-17\", \"2020-09-18\", \"2020-09-21\", \"2020-09-22\", \"2020-09-23\", \"2020-09-24\", \"2020-09-25\", \"2020-09-28\", \"2020-09-29\", \"2020-09-30\", \"2020-10-01\", \"2020-10-02\", \"2020-10-05\", \"2020-10-06\", \"2020-10-07\", \"2020-10-08\", \"2020-10-09\", \"2020-10-13\", \"2020-10-14\", \"2020-10-15\", \"2020-10-16\", \"2020-10-19\", \"2020-10-20\", \"2020-10-21\", \"2020-10-22\", \"2020-10-23\", \"2020-10-26\", \"2020-10-27\", \"2020-10-28\", \"2020-10-29\", \"2020-10-30\", \"2020-11-03\", \"2020-11-04\", \"2020-11-05\", \"2020-11-06\", \"2020-11-09\", \"2020-11-10\", \"2020-11-11\", \"2020-11-12\", \"2020-11-13\", \"2020-11-16\", \"2020-11-17\", \"2020-11-18\", \"2020-11-19\", \"2020-11-20\", \"2020-11-23\", \"2020-11-24\", \"2020-11-25\", \"2020-11-26\", \"2020-11-27\", \"2020-11-30\", \"2020-12-01\", \"2020-12-02\", \"2020-12-03\", \"2020-12-04\", \"2020-12-07\", \"2020-12-08\", \"2020-12-09\", \"2020-12-10\", \"2020-12-11\", \"2020-12-14\", \"2020-12-15\", \"2020-12-16\", \"2020-12-17\", \"2020-12-18\", \"2020-12-21\", \"2020-12-22\", \"2020-12-23\", \"2020-12-28\", \"2020-12-29\", \"2020-12-30\", \"2021-01-04\", \"2021-01-05\", \"2021-01-06\", \"2021-01-07\", \"2021-01-08\", \"2021-01-11\", \"2021-01-12\", \"2021-01-13\", \"2021-01-14\", \"2021-01-15\", \"2021-01-18\", \"2021-01-19\", \"2021-01-20\", \"2021-01-21\", \"2021-01-22\", \"2021-01-26\", \"2021-01-27\", \"2021-01-28\", \"2021-01-29\", \"2021-02-01\", \"2021-02-02\", \"2021-02-03\", \"2021-02-04\", \"2021-02-05\", \"2021-02-08\", \"2021-02-09\", \"2021-02-10\", \"2021-02-11\", \"2021-02-12\", \"2021-02-17\", \"2021-02-18\", \"2021-02-19\", \"2021-02-22\", \"2021-02-23\", \"2021-02-24\", \"2021-02-25\", \"2021-02-26\", \"2021-03-01\", \"2021-03-02\", \"2021-03-03\", \"2021-03-04\", \"2021-03-05\", \"2021-03-08\", \"2021-03-09\", \"2021-03-10\", \"2021-03-11\", \"2021-03-12\", \"2021-03-15\", \"2021-03-16\", \"2021-03-17\", \"2021-03-18\", \"2021-03-19\", \"2021-03-22\", \"2021-03-23\", \"2021-03-24\", \"2021-03-25\", \"2021-03-26\", \"2021-03-29\", \"2021-03-30\", \"2021-03-31\", \"2021-04-01\", \"2021-04-05\", \"2021-04-06\", \"2021-04-07\", \"2021-04-08\", \"2021-04-09\", \"2021-04-12\", \"2021-04-13\", \"2021-04-14\", \"2021-04-15\", \"2021-04-16\", \"2021-04-19\", \"2021-04-20\", \"2021-04-22\", \"2021-04-23\", \"2021-04-26\", \"2021-04-27\", \"2021-04-28\", \"2021-04-29\", \"2021-04-30\", \"2021-05-03\", \"2021-05-04\", \"2021-05-05\", \"2021-05-06\", \"2021-05-07\", \"2021-05-10\", \"2021-05-11\", \"2021-05-12\", \"2021-05-13\", \"2021-05-14\", \"2021-05-17\", \"2021-05-18\", \"2021-05-19\", \"2021-05-20\", \"2021-05-21\", \"2021-05-24\", \"2021-05-25\", \"2021-05-26\", \"2021-05-27\", \"2021-05-28\", \"2021-05-31\", \"2021-06-01\", \"2021-06-02\", \"2021-06-04\", \"2021-06-07\", \"2021-06-08\", \"2021-06-09\", \"2021-06-10\", \"2021-06-11\", \"2021-06-14\", \"2021-06-15\", \"2021-06-16\", \"2021-06-17\", \"2021-06-18\", \"2021-06-21\", \"2021-06-22\", \"2021-06-23\", \"2021-06-24\", \"2021-06-25\", \"2021-06-28\", \"2021-06-29\", \"2021-06-30\", \"2021-07-01\", \"2021-07-02\", \"2021-07-05\", \"2021-07-06\", \"2021-07-07\", \"2021-07-08\", \"2021-07-12\", \"2021-07-13\", \"2021-07-14\", \"2021-07-15\", \"2021-07-16\", \"2021-07-19\", \"2021-07-20\", \"2021-07-21\", \"2021-07-22\", \"2021-07-23\", \"2021-07-26\", \"2021-07-27\", \"2021-07-28\", \"2021-07-29\", \"2021-07-30\", \"2021-08-02\", \"2021-08-03\", \"2021-08-04\", \"2021-08-05\", \"2021-08-06\", \"2021-08-09\", \"2021-08-10\", \"2021-08-11\", \"2021-08-12\", \"2021-08-13\", \"2021-08-16\", \"2021-08-17\", \"2021-08-18\", \"2021-08-19\", \"2021-08-20\", \"2021-08-23\", \"2021-08-24\", \"2021-08-25\", \"2021-08-26\", \"2021-08-27\", \"2021-08-30\", \"2021-08-31\", \"2021-09-01\", \"2021-09-02\", \"2021-09-03\", \"2021-09-06\", \"2021-09-08\", \"2021-09-09\", \"2021-09-10\", \"2021-09-13\", \"2021-09-14\", \"2021-09-15\", \"2021-09-16\", \"2021-09-17\", \"2021-09-20\", \"2021-09-21\", \"2021-09-22\", \"2021-09-23\", \"2021-09-24\", \"2021-09-27\", \"2021-09-28\", \"2021-09-29\", \"2021-09-30\", \"2021-10-01\", \"2021-10-04\", \"2021-10-05\", \"2021-10-06\", \"2021-10-07\", \"2021-10-08\", \"2021-10-11\", \"2021-10-13\", \"2021-10-14\", \"2021-10-15\", \"2021-10-18\", \"2021-10-19\", \"2021-10-20\", \"2021-10-21\", \"2021-10-22\", \"2021-10-25\", \"2021-10-26\", \"2021-10-27\", \"2021-10-28\", \"2021-10-29\", \"2021-11-01\", \"2021-11-03\", \"2021-11-04\", \"2021-11-05\", \"2021-11-08\", \"2021-11-09\", \"2021-11-10\", \"2021-11-11\", \"2021-11-12\", \"2021-11-16\", \"2021-11-17\", \"2021-11-18\", \"2021-11-19\", \"2021-11-22\", \"2021-11-23\", \"2021-11-24\", \"2021-11-25\", \"2021-11-26\", \"2021-11-29\", \"2021-11-30\", \"2021-12-01\", \"2021-12-02\", \"2021-12-03\", \"2021-12-06\", \"2021-12-07\", \"2021-12-08\", \"2021-12-09\", \"2021-12-10\", \"2021-12-13\", \"2021-12-14\", \"2021-12-15\", \"2021-12-16\", \"2021-12-17\", \"2021-12-20\", \"2021-12-21\", \"2021-12-22\", \"2021-12-23\", \"2021-12-27\", \"2021-12-28\", \"2021-12-29\", \"2021-12-30\", null, null, null, null, null, null, null, null, null, null, null, null, null, null, null, null, null, null, null, null, null, null, null, null, null, null, null, null, null, null, null, null, null, null, null, null, null, null, null, null, null, null, null, null, null, null, null, null, null, null, null, null, null, null, null, null, null, null, null, null, null, null, null, null, null, null, null, null, null, null, null, null, null, null, null, null, null, null, null, null, null, null, null, null, null, null, null, null, null, null, null, null, null, null, null, null, null, null, null, null, null, null, null, null, null, null, null, null, null, null, null, null, null, null, null, null, null, null, null, null, null, null, null, null, null, null, null, null, null, null, null, null, null, null, null, null, null, null, null, null, null, null, null, null, null, null, null, null, null, null, null, null, null, null, null, null, null, null, null, null, null, null, null, null, null, null, null, null, null, null, null, null, null, null, null, null, null, null, null, null, null, null, null, null, null, null, null, null, null, null, null, null, null, null, null, null, null, null, null, null, null, null, null, null, null, null, null, null, null, null, null, null, null, null, null, null, null, null, null, null, null, null, null, null, null, null, null, null, null, null, null, null, null, null, null, null, null, null, null, null, null, null, null, null, null, null, null, null, null, null, null, null, null, null, null, null, null, null, null, null, null, null, null, null, null, null, null, null, null, null, null, null, null, null, null, null, null, null, null, null, null, null, null, null, null, null, null, null, null, null, null, null, null, null, null, null, null, null, null, null, null, null, null, null, null, null, null, null, null, null, null, null, null, null, null, null, null, null, null, null, null, null, null, null, null, null, null, null, null, null, null, null, null, null, null, null, null, null, null, null, null, null, null, null, null, null, null, null, null, null, null, null, null, null, null, null, null, null, null, null, null, null, null, null, null, null, null, null, null, null, null, null, null, null, null, null, null, null, null, null, null, null, null, null, null, null, null, null, null, null, null, null, null, null, null, null, null, null, null, null, null, null, null, null, null, null, null, null, null, null, null, null, null, null, null, null, null, null, null, null, null, null, null, null, null, null, null, null, null, null, null, null, null, null, null, null, null, null, null, null, null, null, null, null, null, null, null, null, null, null, null, null, null, null, null, null, null, null, null, null, null, null, null, null, null, null, null, null, null, null, null, null, null, null, null, null, null, null, null, null, null, null, null, null, null, null, null, null, null, null, null, null, null, null, null, null, null, null, null, null, null, null, null, null, null, null, null, null, null, null, null, null, null, null, null, null, null, null, null, null, null, null, null, null, null, null, null, null, null, null, null, null, null, null, null, null, null, null, null, null, null, null, null, null, null, null, null, null, null, null, null, null, null, null, null, null, null, null, null, null, null, null, null, null, null, null, null, null, null, null, null, null, null, null, null, null, null, null, null, null, null, null, null, null, null, null, null, null, null, null, null, null, null, null, null, null, null, null, null, null, null, null, null, null, null, null]}],\n",
              "                        {\"template\": {\"data\": {\"bar\": [{\"error_x\": {\"color\": \"#2a3f5f\"}, \"error_y\": {\"color\": \"#2a3f5f\"}, \"marker\": {\"line\": {\"color\": \"#E5ECF6\", \"width\": 0.5}}, \"type\": \"bar\"}], \"barpolar\": [{\"marker\": {\"line\": {\"color\": \"#E5ECF6\", \"width\": 0.5}}, \"type\": \"barpolar\"}], \"carpet\": [{\"aaxis\": {\"endlinecolor\": \"#2a3f5f\", \"gridcolor\": \"white\", \"linecolor\": \"white\", \"minorgridcolor\": \"white\", \"startlinecolor\": \"#2a3f5f\"}, \"baxis\": {\"endlinecolor\": \"#2a3f5f\", \"gridcolor\": \"white\", \"linecolor\": \"white\", \"minorgridcolor\": \"white\", \"startlinecolor\": \"#2a3f5f\"}, \"type\": \"carpet\"}], \"choropleth\": [{\"colorbar\": {\"outlinewidth\": 0, \"ticks\": \"\"}, \"type\": \"choropleth\"}], \"contour\": [{\"colorbar\": {\"outlinewidth\": 0, \"ticks\": \"\"}, \"colorscale\": [[0.0, \"#0d0887\"], [0.1111111111111111, \"#46039f\"], [0.2222222222222222, \"#7201a8\"], [0.3333333333333333, \"#9c179e\"], [0.4444444444444444, \"#bd3786\"], [0.5555555555555556, \"#d8576b\"], [0.6666666666666666, \"#ed7953\"], [0.7777777777777778, \"#fb9f3a\"], [0.8888888888888888, \"#fdca26\"], [1.0, \"#f0f921\"]], \"type\": \"contour\"}], \"contourcarpet\": [{\"colorbar\": {\"outlinewidth\": 0, \"ticks\": \"\"}, \"type\": \"contourcarpet\"}], \"heatmap\": [{\"colorbar\": {\"outlinewidth\": 0, \"ticks\": \"\"}, \"colorscale\": [[0.0, \"#0d0887\"], [0.1111111111111111, \"#46039f\"], [0.2222222222222222, \"#7201a8\"], [0.3333333333333333, \"#9c179e\"], [0.4444444444444444, \"#bd3786\"], [0.5555555555555556, \"#d8576b\"], [0.6666666666666666, \"#ed7953\"], [0.7777777777777778, \"#fb9f3a\"], [0.8888888888888888, \"#fdca26\"], [1.0, \"#f0f921\"]], \"type\": \"heatmap\"}], \"heatmapgl\": [{\"colorbar\": {\"outlinewidth\": 0, \"ticks\": \"\"}, \"colorscale\": [[0.0, \"#0d0887\"], [0.1111111111111111, \"#46039f\"], [0.2222222222222222, \"#7201a8\"], [0.3333333333333333, \"#9c179e\"], [0.4444444444444444, \"#bd3786\"], [0.5555555555555556, \"#d8576b\"], [0.6666666666666666, \"#ed7953\"], [0.7777777777777778, \"#fb9f3a\"], [0.8888888888888888, \"#fdca26\"], [1.0, \"#f0f921\"]], \"type\": \"heatmapgl\"}], \"histogram\": [{\"marker\": {\"colorbar\": {\"outlinewidth\": 0, \"ticks\": \"\"}}, \"type\": \"histogram\"}], \"histogram2d\": [{\"colorbar\": {\"outlinewidth\": 0, \"ticks\": \"\"}, \"colorscale\": [[0.0, \"#0d0887\"], [0.1111111111111111, \"#46039f\"], [0.2222222222222222, \"#7201a8\"], [0.3333333333333333, \"#9c179e\"], [0.4444444444444444, \"#bd3786\"], [0.5555555555555556, \"#d8576b\"], [0.6666666666666666, \"#ed7953\"], [0.7777777777777778, \"#fb9f3a\"], [0.8888888888888888, \"#fdca26\"], [1.0, \"#f0f921\"]], \"type\": \"histogram2d\"}], \"histogram2dcontour\": [{\"colorbar\": {\"outlinewidth\": 0, \"ticks\": \"\"}, \"colorscale\": [[0.0, \"#0d0887\"], [0.1111111111111111, \"#46039f\"], [0.2222222222222222, \"#7201a8\"], [0.3333333333333333, \"#9c179e\"], [0.4444444444444444, \"#bd3786\"], [0.5555555555555556, \"#d8576b\"], [0.6666666666666666, \"#ed7953\"], [0.7777777777777778, \"#fb9f3a\"], [0.8888888888888888, \"#fdca26\"], [1.0, \"#f0f921\"]], \"type\": \"histogram2dcontour\"}], \"mesh3d\": [{\"colorbar\": {\"outlinewidth\": 0, \"ticks\": \"\"}, \"type\": \"mesh3d\"}], \"parcoords\": [{\"line\": {\"colorbar\": {\"outlinewidth\": 0, \"ticks\": \"\"}}, \"type\": \"parcoords\"}], \"pie\": [{\"automargin\": true, \"type\": \"pie\"}], \"scatter\": [{\"marker\": {\"colorbar\": {\"outlinewidth\": 0, \"ticks\": \"\"}}, \"type\": \"scatter\"}], \"scatter3d\": [{\"line\": {\"colorbar\": {\"outlinewidth\": 0, \"ticks\": \"\"}}, \"marker\": {\"colorbar\": {\"outlinewidth\": 0, \"ticks\": \"\"}}, \"type\": \"scatter3d\"}], \"scattercarpet\": [{\"marker\": {\"colorbar\": {\"outlinewidth\": 0, \"ticks\": \"\"}}, \"type\": \"scattercarpet\"}], \"scattergeo\": [{\"marker\": {\"colorbar\": {\"outlinewidth\": 0, \"ticks\": \"\"}}, \"type\": \"scattergeo\"}], \"scattergl\": [{\"marker\": {\"colorbar\": {\"outlinewidth\": 0, \"ticks\": \"\"}}, \"type\": \"scattergl\"}], \"scattermapbox\": [{\"marker\": {\"colorbar\": {\"outlinewidth\": 0, \"ticks\": \"\"}}, \"type\": \"scattermapbox\"}], \"scatterpolar\": [{\"marker\": {\"colorbar\": {\"outlinewidth\": 0, \"ticks\": \"\"}}, \"type\": \"scatterpolar\"}], \"scatterpolargl\": [{\"marker\": {\"colorbar\": {\"outlinewidth\": 0, \"ticks\": \"\"}}, \"type\": \"scatterpolargl\"}], \"scatterternary\": [{\"marker\": {\"colorbar\": {\"outlinewidth\": 0, \"ticks\": \"\"}}, \"type\": \"scatterternary\"}], \"surface\": [{\"colorbar\": {\"outlinewidth\": 0, \"ticks\": \"\"}, \"colorscale\": [[0.0, \"#0d0887\"], [0.1111111111111111, \"#46039f\"], [0.2222222222222222, \"#7201a8\"], [0.3333333333333333, \"#9c179e\"], [0.4444444444444444, \"#bd3786\"], [0.5555555555555556, \"#d8576b\"], [0.6666666666666666, \"#ed7953\"], [0.7777777777777778, \"#fb9f3a\"], [0.8888888888888888, \"#fdca26\"], [1.0, \"#f0f921\"]], \"type\": \"surface\"}], \"table\": [{\"cells\": {\"fill\": {\"color\": \"#EBF0F8\"}, \"line\": {\"color\": \"white\"}}, \"header\": {\"fill\": {\"color\": \"#C8D4E3\"}, \"line\": {\"color\": \"white\"}}, \"type\": \"table\"}]}, \"layout\": {\"annotationdefaults\": {\"arrowcolor\": \"#2a3f5f\", \"arrowhead\": 0, \"arrowwidth\": 1}, \"coloraxis\": {\"colorbar\": {\"outlinewidth\": 0, \"ticks\": \"\"}}, \"colorscale\": {\"diverging\": [[0, \"#8e0152\"], [0.1, \"#c51b7d\"], [0.2, \"#de77ae\"], [0.3, \"#f1b6da\"], [0.4, \"#fde0ef\"], [0.5, \"#f7f7f7\"], [0.6, \"#e6f5d0\"], [0.7, \"#b8e186\"], [0.8, \"#7fbc41\"], [0.9, \"#4d9221\"], [1, \"#276419\"]], \"sequential\": [[0.0, \"#0d0887\"], [0.1111111111111111, \"#46039f\"], [0.2222222222222222, \"#7201a8\"], [0.3333333333333333, \"#9c179e\"], [0.4444444444444444, \"#bd3786\"], [0.5555555555555556, \"#d8576b\"], [0.6666666666666666, \"#ed7953\"], [0.7777777777777778, \"#fb9f3a\"], [0.8888888888888888, \"#fdca26\"], [1.0, \"#f0f921\"]], \"sequentialminus\": [[0.0, \"#0d0887\"], [0.1111111111111111, \"#46039f\"], [0.2222222222222222, \"#7201a8\"], [0.3333333333333333, \"#9c179e\"], [0.4444444444444444, \"#bd3786\"], [0.5555555555555556, \"#d8576b\"], [0.6666666666666666, \"#ed7953\"], [0.7777777777777778, \"#fb9f3a\"], [0.8888888888888888, \"#fdca26\"], [1.0, \"#f0f921\"]]}, \"colorway\": [\"#636efa\", \"#EF553B\", \"#00cc96\", \"#ab63fa\", \"#FFA15A\", \"#19d3f3\", \"#FF6692\", \"#B6E880\", \"#FF97FF\", \"#FECB52\"], \"font\": {\"color\": \"#2a3f5f\"}, \"geo\": {\"bgcolor\": \"white\", \"lakecolor\": \"white\", \"landcolor\": \"#E5ECF6\", \"showlakes\": true, \"showland\": true, \"subunitcolor\": \"white\"}, \"hoverlabel\": {\"align\": \"left\"}, \"hovermode\": \"closest\", \"mapbox\": {\"style\": \"light\"}, \"paper_bgcolor\": \"white\", \"plot_bgcolor\": \"#E5ECF6\", \"polar\": {\"angularaxis\": {\"gridcolor\": \"white\", \"linecolor\": \"white\", \"ticks\": \"\"}, \"bgcolor\": \"#E5ECF6\", \"radialaxis\": {\"gridcolor\": \"white\", \"linecolor\": \"white\", \"ticks\": \"\"}}, \"scene\": {\"xaxis\": {\"backgroundcolor\": \"#E5ECF6\", \"gridcolor\": \"white\", \"gridwidth\": 2, \"linecolor\": \"white\", \"showbackground\": true, \"ticks\": \"\", \"zerolinecolor\": \"white\"}, \"yaxis\": {\"backgroundcolor\": \"#E5ECF6\", \"gridcolor\": \"white\", \"gridwidth\": 2, \"linecolor\": \"white\", \"showbackground\": true, \"ticks\": \"\", \"zerolinecolor\": \"white\"}, \"zaxis\": {\"backgroundcolor\": \"#E5ECF6\", \"gridcolor\": \"white\", \"gridwidth\": 2, \"linecolor\": \"white\", \"showbackground\": true, \"ticks\": \"\", \"zerolinecolor\": \"white\"}}, \"shapedefaults\": {\"line\": {\"color\": \"#2a3f5f\"}}, \"ternary\": {\"aaxis\": {\"gridcolor\": \"white\", \"linecolor\": \"white\", \"ticks\": \"\"}, \"baxis\": {\"gridcolor\": \"white\", \"linecolor\": \"white\", \"ticks\": \"\"}, \"bgcolor\": \"#E5ECF6\", \"caxis\": {\"gridcolor\": \"white\", \"linecolor\": \"white\", \"ticks\": \"\"}}, \"title\": {\"x\": 0.05}, \"xaxis\": {\"automargin\": true, \"gridcolor\": \"white\", \"linecolor\": \"white\", \"ticks\": \"\", \"title\": {\"standoff\": 15}, \"zerolinecolor\": \"white\", \"zerolinewidth\": 2}, \"yaxis\": {\"automargin\": true, \"gridcolor\": \"white\", \"linecolor\": \"white\", \"ticks\": \"\", \"title\": {\"standoff\": 15}, \"zerolinecolor\": \"white\", \"zerolinewidth\": 2}}}},\n",
              "                        {\"responsive\": true}\n",
              "                    ).then(function(){\n",
              "                            \n",
              "var gd = document.getElementById('f5f4db0b-1931-40aa-a0a0-dacc55c189bd');\n",
              "var x = new MutationObserver(function (mutations, observer) {{\n",
              "        var display = window.getComputedStyle(gd).display;\n",
              "        if (!display || display === 'none') {{\n",
              "            console.log([gd, 'removed!']);\n",
              "            Plotly.purge(gd);\n",
              "            observer.disconnect();\n",
              "        }}\n",
              "}});\n",
              "\n",
              "// Listen for the removal of the full notebook cells\n",
              "var notebookContainer = gd.closest('#notebook-container');\n",
              "if (notebookContainer) {{\n",
              "    x.observe(notebookContainer, {childList: true});\n",
              "}}\n",
              "\n",
              "// Listen for the clearing of the current output cell\n",
              "var outputEl = gd.closest('.output');\n",
              "if (outputEl) {{\n",
              "    x.observe(outputEl, {childList: true});\n",
              "}}\n",
              "\n",
              "                        })\n",
              "                };\n",
              "                \n",
              "            </script>\n",
              "        </div>\n",
              "</body>\n",
              "</html>"
            ]
          },
          "metadata": {}
        }
      ],
      "source": [
        "wes.set_palette('GrandBudapest1')\n",
        "fig = go.Figure(data=[go.Candlestick(x=df['Date_netflix'],\n",
        "                open=df['Open_netflix'],\n",
        "                high=df['High_netflix'],\n",
        "                low=df['Low_netflix'],\n",
        "                close=df['Close_netflix'],\n",
        "                 increasing_line_color= '#F241A3', decreasing_line_color= '#F2B705'\n",
        ")])\n",
        "\n",
        "fig.show()"
      ]
    },
    {
      "cell_type": "markdown",
      "metadata": {
        "id": "c2Qx0fyipeWL"
      },
      "source": [
        "Histórico da empresa: Fundada em 1997 por Marc Randolph e Reed Hastings, inicialmente num modelo de aluguel de DVDs. O modelo de streaming foi introduzido em 2007. Teve seu IPO em 2002.\n",
        "\n",
        "A empresa teve sua estréia na bolsa de valores de São Paulo em 2014, com ações variando em torno de 16 reais. Agora, as mesmas valem cerca de 68 reais, mais do que quadruplicando seu valor.\n",
        "\n",
        "As ações aumentaram muito de valor a partir de 2020, devido provavelmente ao boom de novos assinantes, com expansão de 15.8 milhões de novos assinantes. É possível ver que as ações caem ligeiramente após abril de 2021, com o início da vacinação em massa, e portanto menos acessos ao canal de streaming."
      ]
    },
    {
      "cell_type": "markdown",
      "metadata": {
        "id": "lz8RazVwpiVG"
      },
      "source": [
        "#2. Retorno e Risco\n",
        "Essencialmente, a natureza do Mercado Financeiro é baseada em um certo nível de retorno (a variação do seu investimento) para um dado nível de risco (o quão provável é esse retorno). Há uma série de maneiras para mensurar o risco, mas geralmente elas estão ligadas à volatilidade do ativo, que, em sua forma mais simples, é o desvio padrão dos preços em um dado período.\n",
        "\n",
        "Com o mesmo ativo que você importou anteriormente, iremos iniciar os calculos de risco e retorno. Porém inicialmente iremos analisar retorno e risco com o preço de fechamento.\n",
        "\n"
      ]
    },
    {
      "cell_type": "markdown",
      "metadata": {
        "id": "cgZ66bEcplF9"
      },
      "source": [
        "##Retorno Simples\n",
        "Queremos calcular quanto, em termos percentuais, rendeu uma ação (tendo como base o dia em que ela foi comprada).\n",
        "\n",
        "Dessa forma, iremos calcular quanto os ganhos representam do dispêndio para adquiri-la, obtendo a fórumula:\n",
        "\n",
        "R= (Valor final - Valor Inicial)/ Valor inicial.\n",
        "Isso nada mais é do que uma mudança percentual, e pode ser calculada com uma função do pandas, como mostraremos a seguir.\n",
        "\n"
      ]
    },
    {
      "cell_type": "code",
      "execution_count": 47,
      "metadata": {
        "colab": {
          "base_uri": "https://localhost:8080/"
        },
        "id": "ZuIYF434pm4z",
        "outputId": "55d172a9-9372-41fe-fb8d-b138cc9fd7fb"
      },
      "outputs": [
        {
          "output_type": "execute_result",
          "data": {
            "text/plain": [
              "0         NaN\n",
              "1    0.038713\n",
              "2   -0.199419\n",
              "3   -0.123337\n",
              "4    0.188966\n",
              "Name: simp_return_netflix, dtype: float64"
            ]
          },
          "metadata": {},
          "execution_count": 47
        }
      ],
      "source": [
        "df= pd.read_csv('/content/portfolio.csv')\n",
        "df['simp_return_netflix'] = df['Close_netflix'].pct_change()\n",
        "df['simp_return_netflix'].head()\n"
      ]
    },
    {
      "cell_type": "markdown",
      "metadata": {
        "id": "-ZElcDkYprjP"
      },
      "source": [
        "Esse retorno percentual nos dá o retorno em um dia. Poderíamos, contudo, também calcular qual teria sido o retorno de alguém que comprou as ações em 2014, vendendo-as apenas em 2022. Como demonstrado abaixo, teríamos nesse caso um retorno de cerca de 240%."
      ]
    },
    {
      "cell_type": "code",
      "execution_count": 48,
      "metadata": {
        "colab": {
          "base_uri": "https://localhost:8080/"
        },
        "id": "3lmTRWMcppQG",
        "outputId": "86544386-2556-4000-87de-b4993fa3cf0e"
      },
      "outputs": [
        {
          "output_type": "execute_result",
          "data": {
            "text/plain": [
              "1603    2.42735\n",
              "1604    2.42735\n",
              "1605    2.42735\n",
              "1606    2.42735\n",
              "1607    2.42735\n",
              "Name: simp_ret_cum_netflix, dtype: float64"
            ]
          },
          "metadata": {},
          "execution_count": 48
        }
      ],
      "source": [
        "df['simp_ret_cum_netflix'] = (df['simp_return_netflix'] + 1).cumprod()-1\n",
        "df['simp_ret_cum_netflix'].tail()"
      ]
    },
    {
      "cell_type": "markdown",
      "metadata": {
        "id": "pRFm49nxputW"
      },
      "source": [
        "##Retorno Logarítimico"
      ]
    },
    {
      "cell_type": "markdown",
      "metadata": {
        "id": "_revZI5NpyEN"
      },
      "source": [
        "###Diferença entre retorno logarítimico e retorno simples\n",
        "Como já colocamos, o retorno linear é dado por (Pfinal-PInicial)/Pinicial, ao passo que o retorno logarítimico é dado por ln(pfinal/pinicial), calculado aqui por uma função do Numpy.\n",
        "Usaremos o log retorno porque, em termos de retorno acumulado, ele é mais interessante pois ele simplifica a cona. Vale a pena adicionar, contudo, que para retornos pequenos (como é o caso para retornos diários de ações), os dois ficam muito próximos. ![table2.png](data:image/png;base64,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)"
      ]
    },
    {
      "cell_type": "code",
      "execution_count": 49,
      "metadata": {
        "colab": {
          "base_uri": "https://localhost:8080/"
        },
        "id": "pKrjYXpVpziM",
        "outputId": "2735090d-318f-44b2-f3e7-d6859fb6d82f"
      },
      "outputs": [
        {
          "output_type": "execute_result",
          "data": {
            "text/plain": [
              "0         NaN\n",
              "1    0.037982\n",
              "2   -0.222418\n",
              "3   -0.131633\n",
              "4    0.173084\n",
              "Name: log_return_netflix, dtype: float64"
            ]
          },
          "metadata": {},
          "execution_count": 49
        }
      ],
      "source": [
        "df['log_return_netflix'] = np.log(df['Close_netflix']/df['Close_netflix'].shift(1))\n",
        "df['log_return_netflix'] .head(5)"
      ]
    },
    {
      "cell_type": "markdown",
      "metadata": {
        "id": "V5nJRIlCseu7"
      },
      "source": [
        "##Cálculo de Risco\n",
        "Para calcular o risco, a métrica mais utilizada é o desvio padrão. Isso porque, quanto mais volátil um ativo for, maior é o risco de perder (ou ganhar) dinheiro com ele. "
      ]
    },
    {
      "cell_type": "code",
      "execution_count": 50,
      "metadata": {
        "colab": {
          "base_uri": "https://localhost:8080/"
        },
        "id": "bKHA6y3is-jc",
        "outputId": "3be1bcc8-4d7a-45f5-d842-e4846421c5f5"
      },
      "outputs": [
        {
          "output_type": "execute_result",
          "data": {
            "text/plain": [
              "0.035407948673741696"
            ]
          },
          "metadata": {},
          "execution_count": 50
        }
      ],
      "source": [
        "df['simp_return_netflix'].std() #calculamos o desvio padrão dos retornos\n"
      ]
    },
    {
      "cell_type": "markdown",
      "metadata": {
        "id": "wPI5nxtYuaGa"
      },
      "source": [
        "Como podemos ver, o risco (desvio padrão) varia conforme a métrica utilizada, porém ainda assim é baixo, entre 3% e 7%."
      ]
    },
    {
      "cell_type": "code",
      "execution_count": 51,
      "metadata": {
        "colab": {
          "base_uri": "https://localhost:8080/"
        },
        "id": "t6By5Tn2uQzD",
        "outputId": "aaf6573e-718a-43ac-bc6f-9b630bc8e178"
      },
      "outputs": [
        {
          "output_type": "execute_result",
          "data": {
            "text/plain": [
              "0.0663072316961874"
            ]
          },
          "metadata": {},
          "execution_count": 51
        }
      ],
      "source": [
        "df['log_return_netflix'].std()"
      ]
    },
    {
      "cell_type": "markdown",
      "metadata": {
        "id": "xG7QVyEPxD28"
      },
      "source": [
        "#3. Lidando com portfolios\n",
        "Notebook de auxilio\n",
        "\n",
        "Agora que você já aprendeu como importar preços históricos e como calcular o risco e retorno de ativos, podemos usar esse conhecimento para começar a montar o nosso portfolio!\n",
        "\n",
        "Nessa etapa, você irá montar uma carteira com 4 ações diferentes.\n",
        "\n",
        "Use o que você aprendeu nas etapas anteriores para construir um dataframe com 4 ativos diferentes junto com os seus respectivos dados históricos de fechamento.\n",
        "Em seguida, você precisa distribuir a porcentagem que cada ativo da sua carteira receberá dos seus investimentos. Em finanças, chamamos isso de pesos de um portfolio\n",
        "\n",
        "Atribua pesos () para cada um dos ativos que estão na sua carteira (Ele devem somar 1) . Ex: w = [0.3, 0.3, 0.2, 0.2]\n"
      ]
    },
    {
      "cell_type": "code",
      "execution_count": 52,
      "metadata": {
        "colab": {
          "base_uri": "https://localhost:8080/"
        },
        "id": "hR-bPWFU8a3Q",
        "outputId": "7838d82e-5348-46b9-8b4d-9c058205c3ac"
      },
      "outputs": [
        {
          "output_type": "stream",
          "name": "stdout",
          "text": [
            "Requirement already satisfied: yfinance in /usr/local/lib/python3.7/dist-packages (0.1.69)\n",
            "Requirement already satisfied: requests>=2.26 in /usr/local/lib/python3.7/dist-packages (from yfinance) (2.27.1)\n",
            "Requirement already satisfied: lxml>=4.5.1 in /usr/local/lib/python3.7/dist-packages (from yfinance) (4.7.1)\n",
            "Requirement already satisfied: pandas>=0.24 in /usr/local/lib/python3.7/dist-packages (from yfinance) (1.1.5)\n",
            "Requirement already satisfied: numpy>=1.15 in /usr/local/lib/python3.7/dist-packages (from yfinance) (1.19.5)\n",
            "Requirement already satisfied: multitasking>=0.0.7 in /usr/local/lib/python3.7/dist-packages (from yfinance) (0.0.10)\n",
            "Requirement already satisfied: pytz>=2017.2 in /usr/local/lib/python3.7/dist-packages (from pandas>=0.24->yfinance) (2018.9)\n",
            "Requirement already satisfied: python-dateutil>=2.7.3 in /usr/local/lib/python3.7/dist-packages (from pandas>=0.24->yfinance) (2.8.2)\n",
            "Requirement already satisfied: six>=1.5 in /usr/local/lib/python3.7/dist-packages (from python-dateutil>=2.7.3->pandas>=0.24->yfinance) (1.15.0)\n",
            "Requirement already satisfied: urllib3<1.27,>=1.21.1 in /usr/local/lib/python3.7/dist-packages (from requests>=2.26->yfinance) (1.24.3)\n",
            "Requirement already satisfied: charset-normalizer~=2.0.0 in /usr/local/lib/python3.7/dist-packages (from requests>=2.26->yfinance) (2.0.10)\n",
            "Requirement already satisfied: idna<4,>=2.5 in /usr/local/lib/python3.7/dist-packages (from requests>=2.26->yfinance) (2.10)\n",
            "Requirement already satisfied: certifi>=2017.4.17 in /usr/local/lib/python3.7/dist-packages (from requests>=2.26->yfinance) (2021.10.8)\n"
          ]
        }
      ],
      "source": [
        "import pandas as pd\n",
        "from pandas_datareader import data as pdr\n",
        "! pip install yfinance\n",
        "import yfinance as yf\n",
        "\n"
      ]
    },
    {
      "cell_type": "markdown",
      "metadata": {
        "id": "gIG_guxJTgUp"
      },
      "source": [
        "##Retorno Portfólio\n"
      ]
    },
    {
      "cell_type": "code",
      "execution_count": 53,
      "metadata": {
        "colab": {
          "base_uri": "https://localhost:8080/",
          "height": 255
        },
        "id": "GNxFH4e_9cdZ",
        "outputId": "c586e4f0-ce97-4b11-8273-80e026839acd"
      },
      "outputs": [
        {
          "output_type": "stream",
          "name": "stdout",
          "text": [
            "[*********************100%***********************]  4 of 4 completed\n"
          ]
        },
        {
          "output_type": "execute_result",
          "data": {
            "text/html": [
              "\n",
              "  <div id=\"df-ee64ee76-4ac1-494e-85fc-1e8e9e332fe2\">\n",
              "    <div class=\"colab-df-container\">\n",
              "      <div>\n",
              "<style scoped>\n",
              "    .dataframe tbody tr th:only-of-type {\n",
              "        vertical-align: middle;\n",
              "    }\n",
              "\n",
              "    .dataframe tbody tr th {\n",
              "        vertical-align: top;\n",
              "    }\n",
              "\n",
              "    .dataframe thead th {\n",
              "        text-align: right;\n",
              "    }\n",
              "</style>\n",
              "<table border=\"1\" class=\"dataframe\">\n",
              "  <thead>\n",
              "    <tr style=\"text-align: right;\">\n",
              "      <th></th>\n",
              "      <th>AAPL</th>\n",
              "      <th>MSFT</th>\n",
              "      <th>NFLX</th>\n",
              "      <th>TSLA</th>\n",
              "    </tr>\n",
              "    <tr>\n",
              "      <th>Date</th>\n",
              "      <th></th>\n",
              "      <th></th>\n",
              "      <th></th>\n",
              "      <th></th>\n",
              "    </tr>\n",
              "  </thead>\n",
              "  <tbody>\n",
              "    <tr>\n",
              "      <th>2021-12-27</th>\n",
              "      <td>180.330002</td>\n",
              "      <td>342.450012</td>\n",
              "      <td>613.119995</td>\n",
              "      <td>1093.939941</td>\n",
              "    </tr>\n",
              "    <tr>\n",
              "      <th>2021-12-28</th>\n",
              "      <td>179.289993</td>\n",
              "      <td>341.250000</td>\n",
              "      <td>610.710022</td>\n",
              "      <td>1088.469971</td>\n",
              "    </tr>\n",
              "    <tr>\n",
              "      <th>2021-12-29</th>\n",
              "      <td>179.380005</td>\n",
              "      <td>341.950012</td>\n",
              "      <td>610.539978</td>\n",
              "      <td>1086.189941</td>\n",
              "    </tr>\n",
              "    <tr>\n",
              "      <th>2021-12-30</th>\n",
              "      <td>178.199997</td>\n",
              "      <td>339.320007</td>\n",
              "      <td>612.090027</td>\n",
              "      <td>1070.339966</td>\n",
              "    </tr>\n",
              "    <tr>\n",
              "      <th>2021-12-31</th>\n",
              "      <td>177.570007</td>\n",
              "      <td>336.320007</td>\n",
              "      <td>602.440002</td>\n",
              "      <td>1056.780029</td>\n",
              "    </tr>\n",
              "  </tbody>\n",
              "</table>\n",
              "</div>\n",
              "      <button class=\"colab-df-convert\" onclick=\"convertToInteractive('df-ee64ee76-4ac1-494e-85fc-1e8e9e332fe2')\"\n",
              "              title=\"Convert this dataframe to an interactive table.\"\n",
              "              style=\"display:none;\">\n",
              "        \n",
              "  <svg xmlns=\"http://www.w3.org/2000/svg\" height=\"24px\"viewBox=\"0 0 24 24\"\n",
              "       width=\"24px\">\n",
              "    <path d=\"M0 0h24v24H0V0z\" fill=\"none\"/>\n",
              "    <path d=\"M18.56 5.44l.94 2.06.94-2.06 2.06-.94-2.06-.94-.94-2.06-.94 2.06-2.06.94zm-11 1L8.5 8.5l.94-2.06 2.06-.94-2.06-.94L8.5 2.5l-.94 2.06-2.06.94zm10 10l.94 2.06.94-2.06 2.06-.94-2.06-.94-.94-2.06-.94 2.06-2.06.94z\"/><path d=\"M17.41 7.96l-1.37-1.37c-.4-.4-.92-.59-1.43-.59-.52 0-1.04.2-1.43.59L10.3 9.45l-7.72 7.72c-.78.78-.78 2.05 0 2.83L4 21.41c.39.39.9.59 1.41.59.51 0 1.02-.2 1.41-.59l7.78-7.78 2.81-2.81c.8-.78.8-2.07 0-2.86zM5.41 20L4 18.59l7.72-7.72 1.47 1.35L5.41 20z\"/>\n",
              "  </svg>\n",
              "      </button>\n",
              "      \n",
              "  <style>\n",
              "    .colab-df-container {\n",
              "      display:flex;\n",
              "      flex-wrap:wrap;\n",
              "      gap: 12px;\n",
              "    }\n",
              "\n",
              "    .colab-df-convert {\n",
              "      background-color: #E8F0FE;\n",
              "      border: none;\n",
              "      border-radius: 50%;\n",
              "      cursor: pointer;\n",
              "      display: none;\n",
              "      fill: #1967D2;\n",
              "      height: 32px;\n",
              "      padding: 0 0 0 0;\n",
              "      width: 32px;\n",
              "    }\n",
              "\n",
              "    .colab-df-convert:hover {\n",
              "      background-color: #E2EBFA;\n",
              "      box-shadow: 0px 1px 2px rgba(60, 64, 67, 0.3), 0px 1px 3px 1px rgba(60, 64, 67, 0.15);\n",
              "      fill: #174EA6;\n",
              "    }\n",
              "\n",
              "    [theme=dark] .colab-df-convert {\n",
              "      background-color: #3B4455;\n",
              "      fill: #D2E3FC;\n",
              "    }\n",
              "\n",
              "    [theme=dark] .colab-df-convert:hover {\n",
              "      background-color: #434B5C;\n",
              "      box-shadow: 0px 1px 3px 1px rgba(0, 0, 0, 0.15);\n",
              "      filter: drop-shadow(0px 1px 2px rgba(0, 0, 0, 0.3));\n",
              "      fill: #FFFFFF;\n",
              "    }\n",
              "  </style>\n",
              "\n",
              "      <script>\n",
              "        const buttonEl =\n",
              "          document.querySelector('#df-ee64ee76-4ac1-494e-85fc-1e8e9e332fe2 button.colab-df-convert');\n",
              "        buttonEl.style.display =\n",
              "          google.colab.kernel.accessAllowed ? 'block' : 'none';\n",
              "\n",
              "        async function convertToInteractive(key) {\n",
              "          const element = document.querySelector('#df-ee64ee76-4ac1-494e-85fc-1e8e9e332fe2');\n",
              "          const dataTable =\n",
              "            await google.colab.kernel.invokeFunction('convertToInteractive',\n",
              "                                                     [key], {});\n",
              "          if (!dataTable) return;\n",
              "\n",
              "          const docLinkHtml = 'Like what you see? Visit the ' +\n",
              "            '<a target=\"_blank\" href=https://colab.research.google.com/notebooks/data_table.ipynb>data table notebook</a>'\n",
              "            + ' to learn more about interactive tables.';\n",
              "          element.innerHTML = '';\n",
              "          dataTable['output_type'] = 'display_data';\n",
              "          await google.colab.output.renderOutput(dataTable, element);\n",
              "          const docLink = document.createElement('div');\n",
              "          docLink.innerHTML = docLinkHtml;\n",
              "          element.appendChild(docLink);\n",
              "        }\n",
              "      </script>\n",
              "    </div>\n",
              "  </div>\n",
              "  "
            ],
            "text/plain": [
              "                  AAPL        MSFT        NFLX         TSLA\n",
              "Date                                                       \n",
              "2021-12-27  180.330002  342.450012  613.119995  1093.939941\n",
              "2021-12-28  179.289993  341.250000  610.710022  1088.469971\n",
              "2021-12-29  179.380005  341.950012  610.539978  1086.189941\n",
              "2021-12-30  178.199997  339.320007  612.090027  1070.339966\n",
              "2021-12-31  177.570007  336.320007  602.440002  1056.780029"
            ]
          },
          "metadata": {},
          "execution_count": 53
        }
      ],
      "source": [
        "# download dataframe using pandas_datareader\n",
        "tickers= ['NFLX', 'AAPL', 'TSLA','MSFT']\n",
        "df=  yf.download(tickers, start=\"2015-1-1\", end=\"2022-1-1\")['Adj Close']\n",
        "df.tail()\n"
      ]
    },
    {
      "cell_type": "code",
      "execution_count": 54,
      "metadata": {
        "colab": {
          "base_uri": "https://localhost:8080/",
          "height": 255
        },
        "id": "I2SUANiK7FXR",
        "outputId": "d135f192-26c2-4786-c742-ca584320a248"
      },
      "outputs": [
        {
          "output_type": "stream",
          "name": "stdout",
          "text": [
            "[*********************100%***********************]  4 of 4 completed\n"
          ]
        },
        {
          "output_type": "execute_result",
          "data": {
            "text/html": [
              "\n",
              "  <div id=\"df-692fd271-c471-4075-b500-8a4089553229\">\n",
              "    <div class=\"colab-df-container\">\n",
              "      <div>\n",
              "<style scoped>\n",
              "    .dataframe tbody tr th:only-of-type {\n",
              "        vertical-align: middle;\n",
              "    }\n",
              "\n",
              "    .dataframe tbody tr th {\n",
              "        vertical-align: top;\n",
              "    }\n",
              "\n",
              "    .dataframe thead th {\n",
              "        text-align: right;\n",
              "    }\n",
              "</style>\n",
              "<table border=\"1\" class=\"dataframe\">\n",
              "  <thead>\n",
              "    <tr style=\"text-align: right;\">\n",
              "      <th></th>\n",
              "      <th>AAPL</th>\n",
              "      <th>MSFT</th>\n",
              "      <th>NFLX</th>\n",
              "      <th>TSLA</th>\n",
              "    </tr>\n",
              "    <tr>\n",
              "      <th>Date</th>\n",
              "      <th></th>\n",
              "      <th></th>\n",
              "      <th></th>\n",
              "      <th></th>\n",
              "    </tr>\n",
              "  </thead>\n",
              "  <tbody>\n",
              "    <tr>\n",
              "      <th>2021-12-27</th>\n",
              "      <td>180.330002</td>\n",
              "      <td>342.450012</td>\n",
              "      <td>613.119995</td>\n",
              "      <td>1093.939941</td>\n",
              "    </tr>\n",
              "    <tr>\n",
              "      <th>2021-12-28</th>\n",
              "      <td>179.289993</td>\n",
              "      <td>341.250000</td>\n",
              "      <td>610.710022</td>\n",
              "      <td>1088.469971</td>\n",
              "    </tr>\n",
              "    <tr>\n",
              "      <th>2021-12-29</th>\n",
              "      <td>179.380005</td>\n",
              "      <td>341.950012</td>\n",
              "      <td>610.539978</td>\n",
              "      <td>1086.189941</td>\n",
              "    </tr>\n",
              "    <tr>\n",
              "      <th>2021-12-30</th>\n",
              "      <td>178.199997</td>\n",
              "      <td>339.320007</td>\n",
              "      <td>612.090027</td>\n",
              "      <td>1070.339966</td>\n",
              "    </tr>\n",
              "    <tr>\n",
              "      <th>2021-12-31</th>\n",
              "      <td>177.570007</td>\n",
              "      <td>336.320007</td>\n",
              "      <td>602.440002</td>\n",
              "      <td>1056.780029</td>\n",
              "    </tr>\n",
              "  </tbody>\n",
              "</table>\n",
              "</div>\n",
              "      <button class=\"colab-df-convert\" onclick=\"convertToInteractive('df-692fd271-c471-4075-b500-8a4089553229')\"\n",
              "              title=\"Convert this dataframe to an interactive table.\"\n",
              "              style=\"display:none;\">\n",
              "        \n",
              "  <svg xmlns=\"http://www.w3.org/2000/svg\" height=\"24px\"viewBox=\"0 0 24 24\"\n",
              "       width=\"24px\">\n",
              "    <path d=\"M0 0h24v24H0V0z\" fill=\"none\"/>\n",
              "    <path d=\"M18.56 5.44l.94 2.06.94-2.06 2.06-.94-2.06-.94-.94-2.06-.94 2.06-2.06.94zm-11 1L8.5 8.5l.94-2.06 2.06-.94-2.06-.94L8.5 2.5l-.94 2.06-2.06.94zm10 10l.94 2.06.94-2.06 2.06-.94-2.06-.94-.94-2.06-.94 2.06-2.06.94z\"/><path d=\"M17.41 7.96l-1.37-1.37c-.4-.4-.92-.59-1.43-.59-.52 0-1.04.2-1.43.59L10.3 9.45l-7.72 7.72c-.78.78-.78 2.05 0 2.83L4 21.41c.39.39.9.59 1.41.59.51 0 1.02-.2 1.41-.59l7.78-7.78 2.81-2.81c.8-.78.8-2.07 0-2.86zM5.41 20L4 18.59l7.72-7.72 1.47 1.35L5.41 20z\"/>\n",
              "  </svg>\n",
              "      </button>\n",
              "      \n",
              "  <style>\n",
              "    .colab-df-container {\n",
              "      display:flex;\n",
              "      flex-wrap:wrap;\n",
              "      gap: 12px;\n",
              "    }\n",
              "\n",
              "    .colab-df-convert {\n",
              "      background-color: #E8F0FE;\n",
              "      border: none;\n",
              "      border-radius: 50%;\n",
              "      cursor: pointer;\n",
              "      display: none;\n",
              "      fill: #1967D2;\n",
              "      height: 32px;\n",
              "      padding: 0 0 0 0;\n",
              "      width: 32px;\n",
              "    }\n",
              "\n",
              "    .colab-df-convert:hover {\n",
              "      background-color: #E2EBFA;\n",
              "      box-shadow: 0px 1px 2px rgba(60, 64, 67, 0.3), 0px 1px 3px 1px rgba(60, 64, 67, 0.15);\n",
              "      fill: #174EA6;\n",
              "    }\n",
              "\n",
              "    [theme=dark] .colab-df-convert {\n",
              "      background-color: #3B4455;\n",
              "      fill: #D2E3FC;\n",
              "    }\n",
              "\n",
              "    [theme=dark] .colab-df-convert:hover {\n",
              "      background-color: #434B5C;\n",
              "      box-shadow: 0px 1px 3px 1px rgba(0, 0, 0, 0.15);\n",
              "      filter: drop-shadow(0px 1px 2px rgba(0, 0, 0, 0.3));\n",
              "      fill: #FFFFFF;\n",
              "    }\n",
              "  </style>\n",
              "\n",
              "      <script>\n",
              "        const buttonEl =\n",
              "          document.querySelector('#df-692fd271-c471-4075-b500-8a4089553229 button.colab-df-convert');\n",
              "        buttonEl.style.display =\n",
              "          google.colab.kernel.accessAllowed ? 'block' : 'none';\n",
              "\n",
              "        async function convertToInteractive(key) {\n",
              "          const element = document.querySelector('#df-692fd271-c471-4075-b500-8a4089553229');\n",
              "          const dataTable =\n",
              "            await google.colab.kernel.invokeFunction('convertToInteractive',\n",
              "                                                     [key], {});\n",
              "          if (!dataTable) return;\n",
              "\n",
              "          const docLinkHtml = 'Like what you see? Visit the ' +\n",
              "            '<a target=\"_blank\" href=https://colab.research.google.com/notebooks/data_table.ipynb>data table notebook</a>'\n",
              "            + ' to learn more about interactive tables.';\n",
              "          element.innerHTML = '';\n",
              "          dataTable['output_type'] = 'display_data';\n",
              "          await google.colab.output.renderOutput(dataTable, element);\n",
              "          const docLink = document.createElement('div');\n",
              "          docLink.innerHTML = docLinkHtml;\n",
              "          element.appendChild(docLink);\n",
              "        }\n",
              "      </script>\n",
              "    </div>\n",
              "  </div>\n",
              "  "
            ],
            "text/plain": [
              "                  AAPL        MSFT        NFLX         TSLA\n",
              "Date                                                       \n",
              "2021-12-27  180.330002  342.450012  613.119995  1093.939941\n",
              "2021-12-28  179.289993  341.250000  610.710022  1088.469971\n",
              "2021-12-29  179.380005  341.950012  610.539978  1086.189941\n",
              "2021-12-30  178.199997  339.320007  612.090027  1070.339966\n",
              "2021-12-31  177.570007  336.320007  602.440002  1056.780029"
            ]
          },
          "metadata": {},
          "execution_count": 54
        }
      ],
      "source": [
        "peso= [0.25,0.25,0.25,0.25] #atribuimos pesos às variaveis\n",
        "precos = yf.download(tickers, start=\"2015-1-1\", end=\"2022-1-1\")['Adj Close']\n",
        "precos.tail()"
      ]
    },
    {
      "cell_type": "code",
      "execution_count": 55,
      "metadata": {
        "colab": {
          "base_uri": "https://localhost:8080/",
          "height": 455
        },
        "id": "QXhBa_eQ7NmF",
        "outputId": "df9daa28-a029-40f7-d3f4-b528350a3c60"
      },
      "outputs": [
        {
          "output_type": "execute_result",
          "data": {
            "text/html": [
              "\n",
              "  <div id=\"df-978ef89d-8b1e-4155-9d6d-ac832f8156b4\">\n",
              "    <div class=\"colab-df-container\">\n",
              "      <div>\n",
              "<style scoped>\n",
              "    .dataframe tbody tr th:only-of-type {\n",
              "        vertical-align: middle;\n",
              "    }\n",
              "\n",
              "    .dataframe tbody tr th {\n",
              "        vertical-align: top;\n",
              "    }\n",
              "\n",
              "    .dataframe thead th {\n",
              "        text-align: right;\n",
              "    }\n",
              "</style>\n",
              "<table border=\"1\" class=\"dataframe\">\n",
              "  <thead>\n",
              "    <tr style=\"text-align: right;\">\n",
              "      <th></th>\n",
              "      <th>AAPL</th>\n",
              "      <th>MSFT</th>\n",
              "      <th>NFLX</th>\n",
              "      <th>TSLA</th>\n",
              "    </tr>\n",
              "    <tr>\n",
              "      <th>Date</th>\n",
              "      <th></th>\n",
              "      <th></th>\n",
              "      <th></th>\n",
              "      <th></th>\n",
              "    </tr>\n",
              "  </thead>\n",
              "  <tbody>\n",
              "    <tr>\n",
              "      <th>2015-01-02</th>\n",
              "      <td>NaN</td>\n",
              "      <td>NaN</td>\n",
              "      <td>NaN</td>\n",
              "      <td>NaN</td>\n",
              "    </tr>\n",
              "    <tr>\n",
              "      <th>2015-01-05</th>\n",
              "      <td>-0.028172</td>\n",
              "      <td>-0.009196</td>\n",
              "      <td>-0.050897</td>\n",
              "      <td>-0.042041</td>\n",
              "    </tr>\n",
              "    <tr>\n",
              "      <th>2015-01-06</th>\n",
              "      <td>0.000094</td>\n",
              "      <td>-0.014678</td>\n",
              "      <td>-0.017121</td>\n",
              "      <td>0.005664</td>\n",
              "    </tr>\n",
              "    <tr>\n",
              "      <th>2015-01-07</th>\n",
              "      <td>0.014022</td>\n",
              "      <td>0.012705</td>\n",
              "      <td>0.005192</td>\n",
              "      <td>-0.001562</td>\n",
              "    </tr>\n",
              "    <tr>\n",
              "      <th>2015-01-08</th>\n",
              "      <td>0.038422</td>\n",
              "      <td>0.029418</td>\n",
              "      <td>0.022188</td>\n",
              "      <td>-0.001564</td>\n",
              "    </tr>\n",
              "    <tr>\n",
              "      <th>...</th>\n",
              "      <td>...</td>\n",
              "      <td>...</td>\n",
              "      <td>...</td>\n",
              "      <td>...</td>\n",
              "    </tr>\n",
              "    <tr>\n",
              "      <th>2021-12-27</th>\n",
              "      <td>0.022975</td>\n",
              "      <td>0.023186</td>\n",
              "      <td>-0.001580</td>\n",
              "      <td>0.025248</td>\n",
              "    </tr>\n",
              "    <tr>\n",
              "      <th>2021-12-28</th>\n",
              "      <td>-0.005767</td>\n",
              "      <td>-0.003504</td>\n",
              "      <td>-0.003931</td>\n",
              "      <td>-0.005000</td>\n",
              "    </tr>\n",
              "    <tr>\n",
              "      <th>2021-12-29</th>\n",
              "      <td>0.000502</td>\n",
              "      <td>0.002051</td>\n",
              "      <td>-0.000278</td>\n",
              "      <td>-0.002095</td>\n",
              "    </tr>\n",
              "    <tr>\n",
              "      <th>2021-12-30</th>\n",
              "      <td>-0.006578</td>\n",
              "      <td>-0.007691</td>\n",
              "      <td>0.002539</td>\n",
              "      <td>-0.014592</td>\n",
              "    </tr>\n",
              "    <tr>\n",
              "      <th>2021-12-31</th>\n",
              "      <td>-0.003535</td>\n",
              "      <td>-0.008841</td>\n",
              "      <td>-0.015766</td>\n",
              "      <td>-0.012669</td>\n",
              "    </tr>\n",
              "  </tbody>\n",
              "</table>\n",
              "<p>1763 rows × 4 columns</p>\n",
              "</div>\n",
              "      <button class=\"colab-df-convert\" onclick=\"convertToInteractive('df-978ef89d-8b1e-4155-9d6d-ac832f8156b4')\"\n",
              "              title=\"Convert this dataframe to an interactive table.\"\n",
              "              style=\"display:none;\">\n",
              "        \n",
              "  <svg xmlns=\"http://www.w3.org/2000/svg\" height=\"24px\"viewBox=\"0 0 24 24\"\n",
              "       width=\"24px\">\n",
              "    <path d=\"M0 0h24v24H0V0z\" fill=\"none\"/>\n",
              "    <path d=\"M18.56 5.44l.94 2.06.94-2.06 2.06-.94-2.06-.94-.94-2.06-.94 2.06-2.06.94zm-11 1L8.5 8.5l.94-2.06 2.06-.94-2.06-.94L8.5 2.5l-.94 2.06-2.06.94zm10 10l.94 2.06.94-2.06 2.06-.94-2.06-.94-.94-2.06-.94 2.06-2.06.94z\"/><path d=\"M17.41 7.96l-1.37-1.37c-.4-.4-.92-.59-1.43-.59-.52 0-1.04.2-1.43.59L10.3 9.45l-7.72 7.72c-.78.78-.78 2.05 0 2.83L4 21.41c.39.39.9.59 1.41.59.51 0 1.02-.2 1.41-.59l7.78-7.78 2.81-2.81c.8-.78.8-2.07 0-2.86zM5.41 20L4 18.59l7.72-7.72 1.47 1.35L5.41 20z\"/>\n",
              "  </svg>\n",
              "      </button>\n",
              "      \n",
              "  <style>\n",
              "    .colab-df-container {\n",
              "      display:flex;\n",
              "      flex-wrap:wrap;\n",
              "      gap: 12px;\n",
              "    }\n",
              "\n",
              "    .colab-df-convert {\n",
              "      background-color: #E8F0FE;\n",
              "      border: none;\n",
              "      border-radius: 50%;\n",
              "      cursor: pointer;\n",
              "      display: none;\n",
              "      fill: #1967D2;\n",
              "      height: 32px;\n",
              "      padding: 0 0 0 0;\n",
              "      width: 32px;\n",
              "    }\n",
              "\n",
              "    .colab-df-convert:hover {\n",
              "      background-color: #E2EBFA;\n",
              "      box-shadow: 0px 1px 2px rgba(60, 64, 67, 0.3), 0px 1px 3px 1px rgba(60, 64, 67, 0.15);\n",
              "      fill: #174EA6;\n",
              "    }\n",
              "\n",
              "    [theme=dark] .colab-df-convert {\n",
              "      background-color: #3B4455;\n",
              "      fill: #D2E3FC;\n",
              "    }\n",
              "\n",
              "    [theme=dark] .colab-df-convert:hover {\n",
              "      background-color: #434B5C;\n",
              "      box-shadow: 0px 1px 3px 1px rgba(0, 0, 0, 0.15);\n",
              "      filter: drop-shadow(0px 1px 2px rgba(0, 0, 0, 0.3));\n",
              "      fill: #FFFFFF;\n",
              "    }\n",
              "  </style>\n",
              "\n",
              "      <script>\n",
              "        const buttonEl =\n",
              "          document.querySelector('#df-978ef89d-8b1e-4155-9d6d-ac832f8156b4 button.colab-df-convert');\n",
              "        buttonEl.style.display =\n",
              "          google.colab.kernel.accessAllowed ? 'block' : 'none';\n",
              "\n",
              "        async function convertToInteractive(key) {\n",
              "          const element = document.querySelector('#df-978ef89d-8b1e-4155-9d6d-ac832f8156b4');\n",
              "          const dataTable =\n",
              "            await google.colab.kernel.invokeFunction('convertToInteractive',\n",
              "                                                     [key], {});\n",
              "          if (!dataTable) return;\n",
              "\n",
              "          const docLinkHtml = 'Like what you see? Visit the ' +\n",
              "            '<a target=\"_blank\" href=https://colab.research.google.com/notebooks/data_table.ipynb>data table notebook</a>'\n",
              "            + ' to learn more about interactive tables.';\n",
              "          element.innerHTML = '';\n",
              "          dataTable['output_type'] = 'display_data';\n",
              "          await google.colab.output.renderOutput(dataTable, element);\n",
              "          const docLink = document.createElement('div');\n",
              "          docLink.innerHTML = docLinkHtml;\n",
              "          element.appendChild(docLink);\n",
              "        }\n",
              "      </script>\n",
              "    </div>\n",
              "  </div>\n",
              "  "
            ],
            "text/plain": [
              "                AAPL      MSFT      NFLX      TSLA\n",
              "Date                                              \n",
              "2015-01-02       NaN       NaN       NaN       NaN\n",
              "2015-01-05 -0.028172 -0.009196 -0.050897 -0.042041\n",
              "2015-01-06  0.000094 -0.014678 -0.017121  0.005664\n",
              "2015-01-07  0.014022  0.012705  0.005192 -0.001562\n",
              "2015-01-08  0.038422  0.029418  0.022188 -0.001564\n",
              "...              ...       ...       ...       ...\n",
              "2021-12-27  0.022975  0.023186 -0.001580  0.025248\n",
              "2021-12-28 -0.005767 -0.003504 -0.003931 -0.005000\n",
              "2021-12-29  0.000502  0.002051 -0.000278 -0.002095\n",
              "2021-12-30 -0.006578 -0.007691  0.002539 -0.014592\n",
              "2021-12-31 -0.003535 -0.008841 -0.015766 -0.012669\n",
              "\n",
              "[1763 rows x 4 columns]"
            ]
          },
          "metadata": {},
          "execution_count": 55
        }
      ],
      "source": [
        "r= precos.pct_change()\n",
        "r"
      ]
    },
    {
      "cell_type": "code",
      "execution_count": 56,
      "metadata": {
        "colab": {
          "base_uri": "https://localhost:8080/",
          "height": 424
        },
        "id": "TiBz0z4L7vCv",
        "outputId": "9467ef91-d520-4bbe-8751-f2634feecd42"
      },
      "outputs": [
        {
          "output_type": "execute_result",
          "data": {
            "text/html": [
              "\n",
              "  <div id=\"df-da9fd171-e94d-4cc0-8340-9fd5f94f039a\">\n",
              "    <div class=\"colab-df-container\">\n",
              "      <div>\n",
              "<style scoped>\n",
              "    .dataframe tbody tr th:only-of-type {\n",
              "        vertical-align: middle;\n",
              "    }\n",
              "\n",
              "    .dataframe tbody tr th {\n",
              "        vertical-align: top;\n",
              "    }\n",
              "\n",
              "    .dataframe thead th {\n",
              "        text-align: right;\n",
              "    }\n",
              "</style>\n",
              "<table border=\"1\" class=\"dataframe\">\n",
              "  <thead>\n",
              "    <tr style=\"text-align: right;\">\n",
              "      <th></th>\n",
              "      <th>R</th>\n",
              "    </tr>\n",
              "  </thead>\n",
              "  <tbody>\n",
              "    <tr>\n",
              "      <th>0</th>\n",
              "      <td>NaN</td>\n",
              "    </tr>\n",
              "    <tr>\n",
              "      <th>1</th>\n",
              "      <td>-0.032576</td>\n",
              "    </tr>\n",
              "    <tr>\n",
              "      <th>2</th>\n",
              "      <td>-0.006510</td>\n",
              "    </tr>\n",
              "    <tr>\n",
              "      <th>3</th>\n",
              "      <td>0.007589</td>\n",
              "    </tr>\n",
              "    <tr>\n",
              "      <th>4</th>\n",
              "      <td>0.022116</td>\n",
              "    </tr>\n",
              "    <tr>\n",
              "      <th>...</th>\n",
              "      <td>...</td>\n",
              "    </tr>\n",
              "    <tr>\n",
              "      <th>1758</th>\n",
              "      <td>0.017457</td>\n",
              "    </tr>\n",
              "    <tr>\n",
              "      <th>1759</th>\n",
              "      <td>-0.004551</td>\n",
              "    </tr>\n",
              "    <tr>\n",
              "      <th>1760</th>\n",
              "      <td>0.000045</td>\n",
              "    </tr>\n",
              "    <tr>\n",
              "      <th>1761</th>\n",
              "      <td>-0.006581</td>\n",
              "    </tr>\n",
              "    <tr>\n",
              "      <th>1762</th>\n",
              "      <td>-0.010203</td>\n",
              "    </tr>\n",
              "  </tbody>\n",
              "</table>\n",
              "<p>1763 rows × 1 columns</p>\n",
              "</div>\n",
              "      <button class=\"colab-df-convert\" onclick=\"convertToInteractive('df-da9fd171-e94d-4cc0-8340-9fd5f94f039a')\"\n",
              "              title=\"Convert this dataframe to an interactive table.\"\n",
              "              style=\"display:none;\">\n",
              "        \n",
              "  <svg xmlns=\"http://www.w3.org/2000/svg\" height=\"24px\"viewBox=\"0 0 24 24\"\n",
              "       width=\"24px\">\n",
              "    <path d=\"M0 0h24v24H0V0z\" fill=\"none\"/>\n",
              "    <path d=\"M18.56 5.44l.94 2.06.94-2.06 2.06-.94-2.06-.94-.94-2.06-.94 2.06-2.06.94zm-11 1L8.5 8.5l.94-2.06 2.06-.94-2.06-.94L8.5 2.5l-.94 2.06-2.06.94zm10 10l.94 2.06.94-2.06 2.06-.94-2.06-.94-.94-2.06-.94 2.06-2.06.94z\"/><path d=\"M17.41 7.96l-1.37-1.37c-.4-.4-.92-.59-1.43-.59-.52 0-1.04.2-1.43.59L10.3 9.45l-7.72 7.72c-.78.78-.78 2.05 0 2.83L4 21.41c.39.39.9.59 1.41.59.51 0 1.02-.2 1.41-.59l7.78-7.78 2.81-2.81c.8-.78.8-2.07 0-2.86zM5.41 20L4 18.59l7.72-7.72 1.47 1.35L5.41 20z\"/>\n",
              "  </svg>\n",
              "      </button>\n",
              "      \n",
              "  <style>\n",
              "    .colab-df-container {\n",
              "      display:flex;\n",
              "      flex-wrap:wrap;\n",
              "      gap: 12px;\n",
              "    }\n",
              "\n",
              "    .colab-df-convert {\n",
              "      background-color: #E8F0FE;\n",
              "      border: none;\n",
              "      border-radius: 50%;\n",
              "      cursor: pointer;\n",
              "      display: none;\n",
              "      fill: #1967D2;\n",
              "      height: 32px;\n",
              "      padding: 0 0 0 0;\n",
              "      width: 32px;\n",
              "    }\n",
              "\n",
              "    .colab-df-convert:hover {\n",
              "      background-color: #E2EBFA;\n",
              "      box-shadow: 0px 1px 2px rgba(60, 64, 67, 0.3), 0px 1px 3px 1px rgba(60, 64, 67, 0.15);\n",
              "      fill: #174EA6;\n",
              "    }\n",
              "\n",
              "    [theme=dark] .colab-df-convert {\n",
              "      background-color: #3B4455;\n",
              "      fill: #D2E3FC;\n",
              "    }\n",
              "\n",
              "    [theme=dark] .colab-df-convert:hover {\n",
              "      background-color: #434B5C;\n",
              "      box-shadow: 0px 1px 3px 1px rgba(0, 0, 0, 0.15);\n",
              "      filter: drop-shadow(0px 1px 2px rgba(0, 0, 0, 0.3));\n",
              "      fill: #FFFFFF;\n",
              "    }\n",
              "  </style>\n",
              "\n",
              "      <script>\n",
              "        const buttonEl =\n",
              "          document.querySelector('#df-da9fd171-e94d-4cc0-8340-9fd5f94f039a button.colab-df-convert');\n",
              "        buttonEl.style.display =\n",
              "          google.colab.kernel.accessAllowed ? 'block' : 'none';\n",
              "\n",
              "        async function convertToInteractive(key) {\n",
              "          const element = document.querySelector('#df-da9fd171-e94d-4cc0-8340-9fd5f94f039a');\n",
              "          const dataTable =\n",
              "            await google.colab.kernel.invokeFunction('convertToInteractive',\n",
              "                                                     [key], {});\n",
              "          if (!dataTable) return;\n",
              "\n",
              "          const docLinkHtml = 'Like what you see? Visit the ' +\n",
              "            '<a target=\"_blank\" href=https://colab.research.google.com/notebooks/data_table.ipynb>data table notebook</a>'\n",
              "            + ' to learn more about interactive tables.';\n",
              "          element.innerHTML = '';\n",
              "          dataTable['output_type'] = 'display_data';\n",
              "          await google.colab.output.renderOutput(dataTable, element);\n",
              "          const docLink = document.createElement('div');\n",
              "          docLink.innerHTML = docLinkHtml;\n",
              "          element.appendChild(docLink);\n",
              "        }\n",
              "      </script>\n",
              "    </div>\n",
              "  </div>\n",
              "  "
            ],
            "text/plain": [
              "             R\n",
              "0          NaN\n",
              "1    -0.032576\n",
              "2    -0.006510\n",
              "3     0.007589\n",
              "4     0.022116\n",
              "...        ...\n",
              "1758  0.017457\n",
              "1759 -0.004551\n",
              "1760  0.000045\n",
              "1761 -0.006581\n",
              "1762 -0.010203\n",
              "\n",
              "[1763 rows x 1 columns]"
            ]
          },
          "metadata": {},
          "execution_count": 56
        }
      ],
      "source": [
        "# Retornos de Portfolio\n",
        "R = np.dot(r, peso) \n",
        "pd.DataFrame(R, columns = ['R']) \n",
        "\n"
      ]
    },
    {
      "cell_type": "code",
      "execution_count": 57,
      "metadata": {
        "colab": {
          "base_uri": "https://localhost:8080/"
        },
        "id": "8G5P8ie5C58h",
        "outputId": "2d549cdc-2be5-4bb2-de5b-37d7f6c50797"
      },
      "outputs": [
        {
          "output_type": "execute_result",
          "data": {
            "text/plain": [
              "array([-0.03257635, -0.03887417, -0.03157983, ..., 14.0349412 ,\n",
              "       13.93600036, 13.78361203])"
            ]
          },
          "metadata": {},
          "execution_count": 57
        }
      ],
      "source": [
        "retorno_cumulativo_carteira = np.cumprod(R[1:] + 1)-1\n",
        "retorno_cumulativo_carteira"
      ]
    },
    {
      "cell_type": "markdown",
      "metadata": {
        "id": "g-iaRMl1NS7D"
      },
      "source": [
        "Agora, para termos de comparação, iremos repetir a mesma operação para o ibovespa"
      ]
    },
    {
      "cell_type": "code",
      "execution_count": 58,
      "metadata": {
        "colab": {
          "base_uri": "https://localhost:8080/"
        },
        "id": "Qk_R3URDNSmN",
        "outputId": "ed54add4-f138-42ac-a420-7c7371912541"
      },
      "outputs": [
        {
          "output_type": "stream",
          "name": "stdout",
          "text": [
            "\r[*********************100%***********************]  1 of 1 completed\n"
          ]
        },
        {
          "output_type": "execute_result",
          "data": {
            "text/plain": [
              "Date\n",
              "2015-01-02         NaN\n",
              "2015-01-05   -0.020510\n",
              "2015-01-06   -0.010533\n",
              "2015-01-07    0.019603\n",
              "2015-01-08    0.029498\n",
              "                ...   \n",
              "2021-12-23    1.162166\n",
              "2021-12-27    1.175359\n",
              "2021-12-28    1.161609\n",
              "2021-12-29    1.146005\n",
              "2021-12-30    1.160744\n",
              "Name: Adj Close, Length: 1730, dtype: float64"
            ]
          },
          "metadata": {},
          "execution_count": 58
        }
      ],
      "source": [
        "ibv=  yf.download('^BVSP', start=\"2015-1-1\", end=\"2022-1-1\")['Adj Close']\n",
        "df.tail()\n",
        "ibov_r= ibv.pct_change()\n",
        "ibov_r #retorno simples do ativo\n",
        "ibov_cum = np.cumprod(ibv.pct_change()+1)-1\n",
        "ibov_cum #retorno do ativo ao final do período\n"
      ]
    },
    {
      "cell_type": "code",
      "execution_count": 59,
      "metadata": {
        "colab": {
          "base_uri": "https://localhost:8080/"
        },
        "id": "88fE7uOahJEt",
        "outputId": "74e0e511-5238-47b6-d4b0-731d2b3fb3d1"
      },
      "outputs": [
        {
          "output_type": "execute_result",
          "data": {
            "text/plain": [
              "Date\n",
              "2015-01-02         NaN\n",
              "2015-01-05   -0.020510\n",
              "2015-01-06   -0.010533\n",
              "2015-01-07    0.019603\n",
              "2015-01-08    0.029498\n",
              "                ...   \n",
              "2021-12-23    1.162166\n",
              "2021-12-27    1.175359\n",
              "2021-12-28    1.161609\n",
              "2021-12-29    1.146005\n",
              "2021-12-30    1.160744\n",
              "Name: Adj Close, Length: 1730, dtype: float64"
            ]
          },
          "metadata": {},
          "execution_count": 59
        }
      ],
      "source": [
        "ibov_cum = np.cumprod(ibv.pct_change()+1)-1\n",
        "ibov_cum #retorno do ativo ao final do período"
      ]
    },
    {
      "cell_type": "code",
      "execution_count": 60,
      "metadata": {
        "colab": {
          "base_uri": "https://localhost:8080/",
          "height": 298
        },
        "id": "dm1eX1OUOaVF",
        "outputId": "78242f32-5b67-4006-edcf-b9713d51bc88"
      },
      "outputs": [
        {
          "output_type": "execute_result",
          "data": {
            "text/plain": [
              "Text(0.5, 1.0, 'Investimento de 1000R$ ao longo do tempo- CARTEIRA')"
            ]
          },
          "metadata": {},
          "execution_count": 60
        },
        {
          "output_type": "display_data",
          "data": {
            "image/png": "[encoded data removed]",
            "text/plain": [
              "<Figure size 432x288 with 1 Axes>"
            ]
          },
          "metadata": {
            "needs_background": "light"
          }
        }
      ],
      "source": [
        "plt.plot(1000*(1+R[1:]).cumprod(), color = 'pink')\n",
        "plt.title('Investimento de 1000R$ ao longo do tempo- CARTEIRA')"
      ]
    },
    {
      "cell_type": "code",
      "execution_count": 61,
      "metadata": {
        "colab": {
          "base_uri": "https://localhost:8080/",
          "height": 298
        },
        "id": "uVB26qJjOqRc",
        "outputId": "632c0f4f-f02c-4bf0-db09-e1e6ffd8b974"
      },
      "outputs": [
        {
          "output_type": "execute_result",
          "data": {
            "text/plain": [
              "Text(0.5, 1.0, 'Investimento de 1000R$ ao longo do tempo- IBOVESPA')"
            ]
          },
          "metadata": {},
          "execution_count": 61
        },
        {
          "output_type": "display_data",
          "data": {
            "image/png": "[encoded data removed]",
            "text/plain": [
              "<Figure size 432x288 with 1 Axes>"
            ]
          },
          "metadata": {
            "needs_background": "light"
          }
        }
      ],
      "source": [
        "plt.plot(1000*(1+ibv.pct_change()).cumprod(), color = 'pink')\n",
        "plt.title('Investimento de 1000R$ ao longo do tempo- IBOVESPA')"
      ]
    },
    {
      "cell_type": "markdown",
      "metadata": {
        "id": "uZPBegc1O91B"
      },
      "source": [
        "É possível observar, através do gráfico, que apesar da menor valorização da carteira em relação ao Ibovespa, ela teve ganhos menos interrompidos. "
      ]
    },
    {
      "cell_type": "markdown",
      "metadata": {
        "id": "n0nyxmzYTlOq"
      },
      "source": [
        "##Risco Portfólio\n",
        "Aqui calculamos o risco do portfólio, que é dado, como já discutido, pela volatilidade (ou seja, o desvio padrão) do portfólio em questão, sintetizado pela seguinte fórmula:\n",
        "\n",
        "\n",
        "\n",
        "![1_vq5j2T7JLb7R3qI5QLLb6A.png](data:image/png;base64,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)\n"
      ]
    },
    {
      "cell_type": "code",
      "execution_count": 62,
      "metadata": {
        "colab": {
          "base_uri": "https://localhost:8080/"
        },
        "id": "U3CAp50dTnUh",
        "outputId": "dcc5f284-8e8d-4d39-cf4f-78772d48b423"
      },
      "outputs": [
        {
          "output_type": "stream",
          "name": "stdout",
          "text": [
            "O risco do portfólio é 28,7%\n"
          ]
        }
      ],
      "source": [
        "covariance = np.cov(r[1:].T)\n",
        "a = np.array([0.25,0.25,0.25,0.25])[np.newaxis]\n",
        "risco = np.sqrt(np.dot(a, np.dot(covariance, a.T))) * np.sqrt(252)\n",
        "print ('O risco do portfólio é 28,7%')"
      ]
    },
    {
      "cell_type": "markdown",
      "metadata": {
        "id": "-pxVankHcVL6"
      },
      "source": [
        "Gráfico de Correlação (Heatmap)\n",
        "Como é possível perceber, a correlação entre as variáveis é extremamente alta, muito provavelmente devido ao fato de serem todas empresas do setor de tecnologia. Dessa forma, não seria uma boa escolha de investimento pois é um portfólio muito pouco diversificado."
      ]
    },
    {
      "cell_type": "code",
      "execution_count": 63,
      "metadata": {
        "colab": {
          "base_uri": "https://localhost:8080/",
          "height": 432
        },
        "id": "bketw340cK-U",
        "outputId": "1c34e5a6-e34b-4b1c-fddd-310014bd4378"
      },
      "outputs": [
        {
          "output_type": "display_data",
          "data": {
            "image/png": "[encoded data removed]",
            "text/plain": [
              "<Figure size 648x504 with 2 Axes>"
            ]
          },
          "metadata": {
            "needs_background": "light"
          }
        }
      ],
      "source": [
        "# aqui usamos a função .corr do pandas para achar a correlação entre todas as colunas\n",
        "corr = df.corr()\n",
        "\n",
        "plt.figure(figsize=(9,7))\n",
        "\n",
        "# aqui criamos o heatmap (ou gráfico de correlação), seu valor máximo é 1 e o mínimo é -1\n",
        "sns.heatmap(corr, vmax=1, vmin=-1, center=0, annot=np.round(corr.values, 2), cmap='coolwarm') \n",
        "plt.show()"
      ]
    },
    {
      "cell_type": "markdown",
      "metadata": {
        "id": "j5u_jr3gPUyz"
      },
      "source": [
        "##Teoria Moderna do Portfólio- Markowitz\n",
        "Teoria Moderna de Portifolio - Markowitz\n",
        "Markowitz também conhecido como efficient frontier, é uma maneira de otimizar uma carteira de investimentos. A maneira mais simples de encontrar a melhor solução é via simulação. Portanto simula-se diversos pesos, e para cada peso é calculado seu retorno esperado e risco.\n",
        "\n",
        "3.4) Otimize a carteira e obtenha o portfolio com o melhor retorno ajustado ao risco (Sharpe Ratio)\n",
        "A teoria moderna do portfólio tem como objetivo maximizar os investimentos de uma carteira de investimento. Ela foi inventada pelo vencedor do Prêmio Nobel, Harry Markowitz. Em poucas palavras, trabalharemos com a ideia de que existiaria um *trade off* entre risco e retorno, de maneira que ao montar uma carteira que maximize a utilidade do indivíduo, devemos distribuir os ativos de forma a balancear risco e retorno. "
      ]
    },
    {
      "cell_type": "markdown",
      "metadata": {
        "id": "3ff_Cc6BPlot"
      },
      "source": [
        "##Otimização da carteira"
      ]
    },
    {
      "cell_type": "markdown",
      "metadata": {
        "id": "omGszeUoaxQ_"
      },
      "source": [
        "Sharpe Ratio\n",
        "O sharpe ratio é utilizado para quantificar o desempenho de determinado investimento, em comparação com um ativo sem risco (como investimento em um título de renda fixa ou no tesouro, por exemplo). \n",
        "Ele é dado pelo (Retorno do portfólio - Retorno do ativo sem risco)/volatilidade.\n",
        "Em geral, para ser considerado bom a razão deve ser maior que 1. \n",
        "Agora, iremos simular difentes pesos para a carteira de ativos, a fim de descobrir qual gerará maior retorno ao investidor."
      ]
    },
    {
      "cell_type": "code",
      "execution_count": 170,
      "metadata": {
        "id": "zut4F-ccdJnW"
      },
      "outputs": [],
      "source": [
        "def gerar_carteira(df, quant = 10000000, risk_free = 0):\n",
        "    # vetores de dados\n",
        "    portfolio_weights = []\n",
        "    portfolio_exp_returns = []\n",
        "    portfolio_vol = []\n",
        "    portfolio_sharpe = []\n",
        "\n",
        "    # retorno simples \n",
        "    r = df.pct_change()\n",
        "    mean_returns = r.mean() * 252\n",
        "\n",
        "    # matriz de covariância \n",
        "    covariance = np.cov(r[1:].T)\n",
        "\n",
        "    for i in range(quant):\n",
        "        # gerando pesos aleatórios\n",
        "        k = np.random.rand(len(df.columns))\n",
        "        w = k / sum (k)\n",
        "\n",
        "        # retorno\n",
        "        R = np.dot(mean_returns, w)\n",
        "\n",
        "        # risco\n",
        "        vol = np.sqrt(np.dot(w.T, np.dot(covariance, w))) * np.sqrt(252)\n",
        "\n",
        "        # sharpe ratio\n",
        "        sharpe = (R - risk_free)/vol\n",
        "\n",
        "        portfolio_weights.append(w)\n",
        "        portfolio_exp_returns.append(R)\n",
        "        portfolio_vol.append(vol)\n",
        "        portfolio_sharpe.append(sharpe)\n",
        "\n",
        "    wallets = {'weights': portfolio_weights,\n",
        "              'returns': portfolio_exp_returns,\n",
        "              'vol':portfolio_vol,\n",
        "              'sharpe': portfolio_sharpe}\n",
        "\n",
        "    return wallets"
      ]
    },
    {
      "cell_type": "code",
      "execution_count": 171,
      "metadata": {
        "id": "VCvbCgUKdhkb"
      },
      "outputs": [],
      "source": [
        "def best_portfolio(wallets):\n",
        "    sharpe = wallets['sharpe']\n",
        "    weights = wallets['weights']\n",
        "    \n",
        "    indice = np.array(sharpe).argmax()\n",
        "        \n",
        "    return weights[indice]"
      ]
    },
    {
      "cell_type": "code",
      "execution_count": 172,
      "metadata": {
        "colab": {
          "base_uri": "https://localhost:8080/"
        },
        "id": "WJH41IsBdkma",
        "outputId": "2f770f40-d473-4023-94eb-af551006e276"
      },
      "outputs": [
        {
          "output_type": "execute_result",
          "data": {
            "text/plain": [
              "array([0.16829987, 0.41278801, 0.21831373, 0.20006142, 0.00053698])"
            ]
          },
          "metadata": {},
          "execution_count": 172
        }
      ],
      "source": [
        "carteiras = gerar_carteira(df)\n",
        "best_portfolio(carteiras)"
      ]
    },
    {
      "cell_type": "markdown",
      "metadata": {
        "id": "SzMe-3kreAch"
      },
      "source": [
        "Dessa forma, um portfólio com ações da Apple, Microsoft, Netflix e Tesla maximizaria o retorno se fosse investido na proporção (aproximada) de 18,5%, 39,6%, 21% e 20,6%.\n"
      ]
    },
    {
      "cell_type": "markdown",
      "source": [
        "###Backtesting"
      ],
      "metadata": {
        "id": "OL-urHqhYKAr"
      }
    },
    {
      "cell_type": "code",
      "execution_count": 109,
      "metadata": {
        "colab": {
          "base_uri": "https://localhost:8080/"
        },
        "id": "vj8mjy4ChA99",
        "outputId": "bc78dc09-a305-4fc4-fd94-d7f3d4a015ee"
      },
      "outputs": [
        {
          "output_type": "stream",
          "name": "stdout",
          "text": [
            "[*********************100%***********************]  5 of 5 completed\n"
          ]
        }
      ],
      "source": [
        "#portfólio de 2015 a 2022, com benchmark= ibovespa\n",
        "tickers= ['NFLX', 'AAPL', 'TSLA','MSFT', '^BVSP']\n",
        "df_backtest=  yf.download(tickers, start=\"2015-1-1\", end=\"2022-1-1\")['Adj Close']\n",
        "retorno = df_backtest.pct_change()\n"
      ]
    },
    {
      "cell_type": "code",
      "source": [
        "retorno_acumulado = (1+retorno).cumprod()\n",
        "retorno_acumulado.iloc[0]=1 #impede que df comece com nan\n",
        "retorno_acumulado"
      ],
      "metadata": {
        "colab": {
          "base_uri": "https://localhost:8080/",
          "height": 455
        },
        "id": "eF1O8dIxYvTP",
        "outputId": "9ced5d05-3b6b-4a24-bca2-834ab34c6fde"
      },
      "execution_count": 112,
      "outputs": [
        {
          "output_type": "execute_result",
          "data": {
            "text/html": [
              "\n",
              "  <div id=\"df-ee816339-432a-411b-b25a-3cece7d1dd20\">\n",
              "    <div class=\"colab-df-container\">\n",
              "      <div>\n",
              "<style scoped>\n",
              "    .dataframe tbody tr th:only-of-type {\n",
              "        vertical-align: middle;\n",
              "    }\n",
              "\n",
              "    .dataframe tbody tr th {\n",
              "        vertical-align: top;\n",
              "    }\n",
              "\n",
              "    .dataframe thead th {\n",
              "        text-align: right;\n",
              "    }\n",
              "</style>\n",
              "<table border=\"1\" class=\"dataframe\">\n",
              "  <thead>\n",
              "    <tr style=\"text-align: right;\">\n",
              "      <th></th>\n",
              "      <th>AAPL</th>\n",
              "      <th>MSFT</th>\n",
              "      <th>NFLX</th>\n",
              "      <th>TSLA</th>\n",
              "      <th>^BVSP</th>\n",
              "    </tr>\n",
              "    <tr>\n",
              "      <th>Date</th>\n",
              "      <th></th>\n",
              "      <th></th>\n",
              "      <th></th>\n",
              "      <th></th>\n",
              "      <th></th>\n",
              "    </tr>\n",
              "  </thead>\n",
              "  <tbody>\n",
              "    <tr>\n",
              "      <th>2015-01-02</th>\n",
              "      <td>1.000000</td>\n",
              "      <td>1.000000</td>\n",
              "      <td>1.000000</td>\n",
              "      <td>1.000000</td>\n",
              "      <td>1.000000</td>\n",
              "    </tr>\n",
              "    <tr>\n",
              "      <th>2015-01-05</th>\n",
              "      <td>0.971828</td>\n",
              "      <td>0.990804</td>\n",
              "      <td>0.949103</td>\n",
              "      <td>0.957959</td>\n",
              "      <td>0.979490</td>\n",
              "    </tr>\n",
              "    <tr>\n",
              "      <th>2015-01-06</th>\n",
              "      <td>0.971920</td>\n",
              "      <td>0.976262</td>\n",
              "      <td>0.932854</td>\n",
              "      <td>0.963385</td>\n",
              "      <td>0.989467</td>\n",
              "    </tr>\n",
              "    <tr>\n",
              "      <th>2015-01-07</th>\n",
              "      <td>0.985548</td>\n",
              "      <td>0.988666</td>\n",
              "      <td>0.937697</td>\n",
              "      <td>0.961880</td>\n",
              "      <td>1.019603</td>\n",
              "    </tr>\n",
              "    <tr>\n",
              "      <th>2015-01-08</th>\n",
              "      <td>1.023415</td>\n",
              "      <td>1.017750</td>\n",
              "      <td>0.958503</td>\n",
              "      <td>0.960376</td>\n",
              "      <td>1.029498</td>\n",
              "    </tr>\n",
              "    <tr>\n",
              "      <th>...</th>\n",
              "      <td>...</td>\n",
              "      <td>...</td>\n",
              "      <td>...</td>\n",
              "      <td>...</td>\n",
              "      <td>...</td>\n",
              "    </tr>\n",
              "    <tr>\n",
              "      <th>2021-12-27</th>\n",
              "      <td>7.287239</td>\n",
              "      <td>8.313137</td>\n",
              "      <td>12.299650</td>\n",
              "      <td>24.940494</td>\n",
              "      <td>2.175359</td>\n",
              "    </tr>\n",
              "    <tr>\n",
              "      <th>2021-12-28</th>\n",
              "      <td>7.245212</td>\n",
              "      <td>8.284006</td>\n",
              "      <td>12.251304</td>\n",
              "      <td>24.815785</td>\n",
              "      <td>2.161609</td>\n",
              "    </tr>\n",
              "    <tr>\n",
              "      <th>2021-12-29</th>\n",
              "      <td>7.248850</td>\n",
              "      <td>8.300999</td>\n",
              "      <td>12.247893</td>\n",
              "      <td>24.763804</td>\n",
              "      <td>2.146005</td>\n",
              "    </tr>\n",
              "    <tr>\n",
              "      <th>2021-12-30</th>\n",
              "      <td>7.201165</td>\n",
              "      <td>8.237155</td>\n",
              "      <td>12.278988</td>\n",
              "      <td>24.402444</td>\n",
              "      <td>2.160744</td>\n",
              "    </tr>\n",
              "    <tr>\n",
              "      <th>2021-12-31</th>\n",
              "      <td>7.175706</td>\n",
              "      <td>8.164328</td>\n",
              "      <td>12.085401</td>\n",
              "      <td>24.093294</td>\n",
              "      <td>2.160744</td>\n",
              "    </tr>\n",
              "  </tbody>\n",
              "</table>\n",
              "<p>1804 rows × 5 columns</p>\n",
              "</div>\n",
              "      <button class=\"colab-df-convert\" onclick=\"convertToInteractive('df-ee816339-432a-411b-b25a-3cece7d1dd20')\"\n",
              "              title=\"Convert this dataframe to an interactive table.\"\n",
              "              style=\"display:none;\">\n",
              "        \n",
              "  <svg xmlns=\"http://www.w3.org/2000/svg\" height=\"24px\"viewBox=\"0 0 24 24\"\n",
              "       width=\"24px\">\n",
              "    <path d=\"M0 0h24v24H0V0z\" fill=\"none\"/>\n",
              "    <path d=\"M18.56 5.44l.94 2.06.94-2.06 2.06-.94-2.06-.94-.94-2.06-.94 2.06-2.06.94zm-11 1L8.5 8.5l.94-2.06 2.06-.94-2.06-.94L8.5 2.5l-.94 2.06-2.06.94zm10 10l.94 2.06.94-2.06 2.06-.94-2.06-.94-.94-2.06-.94 2.06-2.06.94z\"/><path d=\"M17.41 7.96l-1.37-1.37c-.4-.4-.92-.59-1.43-.59-.52 0-1.04.2-1.43.59L10.3 9.45l-7.72 7.72c-.78.78-.78 2.05 0 2.83L4 21.41c.39.39.9.59 1.41.59.51 0 1.02-.2 1.41-.59l7.78-7.78 2.81-2.81c.8-.78.8-2.07 0-2.86zM5.41 20L4 18.59l7.72-7.72 1.47 1.35L5.41 20z\"/>\n",
              "  </svg>\n",
              "      </button>\n",
              "      \n",
              "  <style>\n",
              "    .colab-df-container {\n",
              "      display:flex;\n",
              "      flex-wrap:wrap;\n",
              "      gap: 12px;\n",
              "    }\n",
              "\n",
              "    .colab-df-convert {\n",
              "      background-color: #E8F0FE;\n",
              "      border: none;\n",
              "      border-radius: 50%;\n",
              "      cursor: pointer;\n",
              "      display: none;\n",
              "      fill: #1967D2;\n",
              "      height: 32px;\n",
              "      padding: 0 0 0 0;\n",
              "      width: 32px;\n",
              "    }\n",
              "\n",
              "    .colab-df-convert:hover {\n",
              "      background-color: #E2EBFA;\n",
              "      box-shadow: 0px 1px 2px rgba(60, 64, 67, 0.3), 0px 1px 3px 1px rgba(60, 64, 67, 0.15);\n",
              "      fill: #174EA6;\n",
              "    }\n",
              "\n",
              "    [theme=dark] .colab-df-convert {\n",
              "      background-color: #3B4455;\n",
              "      fill: #D2E3FC;\n",
              "    }\n",
              "\n",
              "    [theme=dark] .colab-df-convert:hover {\n",
              "      background-color: #434B5C;\n",
              "      box-shadow: 0px 1px 3px 1px rgba(0, 0, 0, 0.15);\n",
              "      filter: drop-shadow(0px 1px 2px rgba(0, 0, 0, 0.3));\n",
              "      fill: #FFFFFF;\n",
              "    }\n",
              "  </style>\n",
              "\n",
              "      <script>\n",
              "        const buttonEl =\n",
              "          document.querySelector('#df-ee816339-432a-411b-b25a-3cece7d1dd20 button.colab-df-convert');\n",
              "        buttonEl.style.display =\n",
              "          google.colab.kernel.accessAllowed ? 'block' : 'none';\n",
              "\n",
              "        async function convertToInteractive(key) {\n",
              "          const element = document.querySelector('#df-ee816339-432a-411b-b25a-3cece7d1dd20');\n",
              "          const dataTable =\n",
              "            await google.colab.kernel.invokeFunction('convertToInteractive',\n",
              "                                                     [key], {});\n",
              "          if (!dataTable) return;\n",
              "\n",
              "          const docLinkHtml = 'Like what you see? Visit the ' +\n",
              "            '<a target=\"_blank\" href=https://colab.research.google.com/notebooks/data_table.ipynb>data table notebook</a>'\n",
              "            + ' to learn more about interactive tables.';\n",
              "          element.innerHTML = '';\n",
              "          dataTable['output_type'] = 'display_data';\n",
              "          await google.colab.output.renderOutput(dataTable, element);\n",
              "          const docLink = document.createElement('div');\n",
              "          docLink.innerHTML = docLinkHtml;\n",
              "          element.appendChild(docLink);\n",
              "        }\n",
              "      </script>\n",
              "    </div>\n",
              "  </div>\n",
              "  "
            ],
            "text/plain": [
              "                AAPL      MSFT       NFLX       TSLA     ^BVSP\n",
              "Date                                                          \n",
              "2015-01-02  1.000000  1.000000   1.000000   1.000000  1.000000\n",
              "2015-01-05  0.971828  0.990804   0.949103   0.957959  0.979490\n",
              "2015-01-06  0.971920  0.976262   0.932854   0.963385  0.989467\n",
              "2015-01-07  0.985548  0.988666   0.937697   0.961880  1.019603\n",
              "2015-01-08  1.023415  1.017750   0.958503   0.960376  1.029498\n",
              "...              ...       ...        ...        ...       ...\n",
              "2021-12-27  7.287239  8.313137  12.299650  24.940494  2.175359\n",
              "2021-12-28  7.245212  8.284006  12.251304  24.815785  2.161609\n",
              "2021-12-29  7.248850  8.300999  12.247893  24.763804  2.146005\n",
              "2021-12-30  7.201165  8.237155  12.278988  24.402444  2.160744\n",
              "2021-12-31  7.175706  8.164328  12.085401  24.093294  2.160744\n",
              "\n",
              "[1804 rows x 5 columns]"
            ]
          },
          "metadata": {},
          "execution_count": 112
        }
      ]
    },
    {
      "cell_type": "code",
      "source": [
        "carteira = 1000*retorno_acumulado.iloc[:,:4] #tiramos ibovespa\n",
        "carteira['saldo']= carteira.sum(axis=1) #saldo da carteira é a soma horizontal do preço dos ativos\n",
        "carteira['retorno']=carteira['saldo'].pct_change()\n",
        "carteira"
      ],
      "metadata": {
        "colab": {
          "base_uri": "https://localhost:8080/",
          "height": 455
        },
        "id": "oLobCLGOZewM",
        "outputId": "f202e6ac-9e08-4749-cae3-54bf547e72d4"
      },
      "execution_count": 116,
      "outputs": [
        {
          "output_type": "execute_result",
          "data": {
            "text/html": [
              "\n",
              "  <div id=\"df-343ff740-9384-47db-a74e-cc9c03e1c7d8\">\n",
              "    <div class=\"colab-df-container\">\n",
              "      <div>\n",
              "<style scoped>\n",
              "    .dataframe tbody tr th:only-of-type {\n",
              "        vertical-align: middle;\n",
              "    }\n",
              "\n",
              "    .dataframe tbody tr th {\n",
              "        vertical-align: top;\n",
              "    }\n",
              "\n",
              "    .dataframe thead th {\n",
              "        text-align: right;\n",
              "    }\n",
              "</style>\n",
              "<table border=\"1\" class=\"dataframe\">\n",
              "  <thead>\n",
              "    <tr style=\"text-align: right;\">\n",
              "      <th></th>\n",
              "      <th>AAPL</th>\n",
              "      <th>MSFT</th>\n",
              "      <th>NFLX</th>\n",
              "      <th>TSLA</th>\n",
              "      <th>saldo</th>\n",
              "      <th>retorno</th>\n",
              "    </tr>\n",
              "    <tr>\n",
              "      <th>Date</th>\n",
              "      <th></th>\n",
              "      <th></th>\n",
              "      <th></th>\n",
              "      <th></th>\n",
              "      <th></th>\n",
              "      <th></th>\n",
              "    </tr>\n",
              "  </thead>\n",
              "  <tbody>\n",
              "    <tr>\n",
              "      <th>2015-01-02</th>\n",
              "      <td>1000.000000</td>\n",
              "      <td>1000.000000</td>\n",
              "      <td>1000.000000</td>\n",
              "      <td>1000.000000</td>\n",
              "      <td>4000.000000</td>\n",
              "      <td>NaN</td>\n",
              "    </tr>\n",
              "    <tr>\n",
              "      <th>2015-01-05</th>\n",
              "      <td>971.828258</td>\n",
              "      <td>990.804278</td>\n",
              "      <td>949.102981</td>\n",
              "      <td>957.959100</td>\n",
              "      <td>3869.694616</td>\n",
              "      <td>-0.032576</td>\n",
              "    </tr>\n",
              "    <tr>\n",
              "      <th>2015-01-06</th>\n",
              "      <td>971.919825</td>\n",
              "      <td>976.261995</td>\n",
              "      <td>932.853818</td>\n",
              "      <td>963.385185</td>\n",
              "      <td>3844.420823</td>\n",
              "      <td>-0.006531</td>\n",
              "    </tr>\n",
              "    <tr>\n",
              "      <th>2015-01-07</th>\n",
              "      <td>985.548206</td>\n",
              "      <td>988.665598</td>\n",
              "      <td>937.697054</td>\n",
              "      <td>961.880423</td>\n",
              "      <td>3873.791280</td>\n",
              "      <td>0.007640</td>\n",
              "    </tr>\n",
              "    <tr>\n",
              "      <th>2015-01-08</th>\n",
              "      <td>1023.415471</td>\n",
              "      <td>1017.750257</td>\n",
              "      <td>958.502863</td>\n",
              "      <td>960.375747</td>\n",
              "      <td>3960.044338</td>\n",
              "      <td>0.022266</td>\n",
              "    </tr>\n",
              "    <tr>\n",
              "      <th>...</th>\n",
              "      <td>...</td>\n",
              "      <td>...</td>\n",
              "      <td>...</td>\n",
              "      <td>...</td>\n",
              "      <td>...</td>\n",
              "      <td>...</td>\n",
              "    </tr>\n",
              "    <tr>\n",
              "      <th>2021-12-27</th>\n",
              "      <td>7287.239454</td>\n",
              "      <td>8313.137200</td>\n",
              "      <td>12299.650186</td>\n",
              "      <td>24940.494131</td>\n",
              "      <td>52840.520970</td>\n",
              "      <td>0.018245</td>\n",
              "    </tr>\n",
              "    <tr>\n",
              "      <th>2021-12-28</th>\n",
              "      <td>7245.212108</td>\n",
              "      <td>8284.006331</td>\n",
              "      <td>12251.304304</td>\n",
              "      <td>24815.785482</td>\n",
              "      <td>52596.308226</td>\n",
              "      <td>-0.004622</td>\n",
              "    </tr>\n",
              "    <tr>\n",
              "      <th>2021-12-29</th>\n",
              "      <td>7248.849529</td>\n",
              "      <td>8300.999461</td>\n",
              "      <td>12247.893094</td>\n",
              "      <td>24763.803600</td>\n",
              "      <td>52561.545684</td>\n",
              "      <td>-0.000661</td>\n",
              "    </tr>\n",
              "    <tr>\n",
              "      <th>2021-12-30</th>\n",
              "      <td>7201.164727</td>\n",
              "      <td>8237.154840</td>\n",
              "      <td>12278.988244</td>\n",
              "      <td>24402.443521</td>\n",
              "      <td>52119.751332</td>\n",
              "      <td>-0.008405</td>\n",
              "    </tr>\n",
              "    <tr>\n",
              "      <th>2021-12-31</th>\n",
              "      <td>7175.706483</td>\n",
              "      <td>8164.328410</td>\n",
              "      <td>12085.401466</td>\n",
              "      <td>24093.293536</td>\n",
              "      <td>51518.729895</td>\n",
              "      <td>-0.011532</td>\n",
              "    </tr>\n",
              "  </tbody>\n",
              "</table>\n",
              "<p>1804 rows × 6 columns</p>\n",
              "</div>\n",
              "      <button class=\"colab-df-convert\" onclick=\"convertToInteractive('df-343ff740-9384-47db-a74e-cc9c03e1c7d8')\"\n",
              "              title=\"Convert this dataframe to an interactive table.\"\n",
              "              style=\"display:none;\">\n",
              "        \n",
              "  <svg xmlns=\"http://www.w3.org/2000/svg\" height=\"24px\"viewBox=\"0 0 24 24\"\n",
              "       width=\"24px\">\n",
              "    <path d=\"M0 0h24v24H0V0z\" fill=\"none\"/>\n",
              "    <path d=\"M18.56 5.44l.94 2.06.94-2.06 2.06-.94-2.06-.94-.94-2.06-.94 2.06-2.06.94zm-11 1L8.5 8.5l.94-2.06 2.06-.94-2.06-.94L8.5 2.5l-.94 2.06-2.06.94zm10 10l.94 2.06.94-2.06 2.06-.94-2.06-.94-.94-2.06-.94 2.06-2.06.94z\"/><path d=\"M17.41 7.96l-1.37-1.37c-.4-.4-.92-.59-1.43-.59-.52 0-1.04.2-1.43.59L10.3 9.45l-7.72 7.72c-.78.78-.78 2.05 0 2.83L4 21.41c.39.39.9.59 1.41.59.51 0 1.02-.2 1.41-.59l7.78-7.78 2.81-2.81c.8-.78.8-2.07 0-2.86zM5.41 20L4 18.59l7.72-7.72 1.47 1.35L5.41 20z\"/>\n",
              "  </svg>\n",
              "      </button>\n",
              "      \n",
              "  <style>\n",
              "    .colab-df-container {\n",
              "      display:flex;\n",
              "      flex-wrap:wrap;\n",
              "      gap: 12px;\n",
              "    }\n",
              "\n",
              "    .colab-df-convert {\n",
              "      background-color: #E8F0FE;\n",
              "      border: none;\n",
              "      border-radius: 50%;\n",
              "      cursor: pointer;\n",
              "      display: none;\n",
              "      fill: #1967D2;\n",
              "      height: 32px;\n",
              "      padding: 0 0 0 0;\n",
              "      width: 32px;\n",
              "    }\n",
              "\n",
              "    .colab-df-convert:hover {\n",
              "      background-color: #E2EBFA;\n",
              "      box-shadow: 0px 1px 2px rgba(60, 64, 67, 0.3), 0px 1px 3px 1px rgba(60, 64, 67, 0.15);\n",
              "      fill: #174EA6;\n",
              "    }\n",
              "\n",
              "    [theme=dark] .colab-df-convert {\n",
              "      background-color: #3B4455;\n",
              "      fill: #D2E3FC;\n",
              "    }\n",
              "\n",
              "    [theme=dark] .colab-df-convert:hover {\n",
              "      background-color: #434B5C;\n",
              "      box-shadow: 0px 1px 3px 1px rgba(0, 0, 0, 0.15);\n",
              "      filter: drop-shadow(0px 1px 2px rgba(0, 0, 0, 0.3));\n",
              "      fill: #FFFFFF;\n",
              "    }\n",
              "  </style>\n",
              "\n",
              "      <script>\n",
              "        const buttonEl =\n",
              "          document.querySelector('#df-343ff740-9384-47db-a74e-cc9c03e1c7d8 button.colab-df-convert');\n",
              "        buttonEl.style.display =\n",
              "          google.colab.kernel.accessAllowed ? 'block' : 'none';\n",
              "\n",
              "        async function convertToInteractive(key) {\n",
              "          const element = document.querySelector('#df-343ff740-9384-47db-a74e-cc9c03e1c7d8');\n",
              "          const dataTable =\n",
              "            await google.colab.kernel.invokeFunction('convertToInteractive',\n",
              "                                                     [key], {});\n",
              "          if (!dataTable) return;\n",
              "\n",
              "          const docLinkHtml = 'Like what you see? Visit the ' +\n",
              "            '<a target=\"_blank\" href=https://colab.research.google.com/notebooks/data_table.ipynb>data table notebook</a>'\n",
              "            + ' to learn more about interactive tables.';\n",
              "          element.innerHTML = '';\n",
              "          dataTable['output_type'] = 'display_data';\n",
              "          await google.colab.output.renderOutput(dataTable, element);\n",
              "          const docLink = document.createElement('div');\n",
              "          docLink.innerHTML = docLinkHtml;\n",
              "          element.appendChild(docLink);\n",
              "        }\n",
              "      </script>\n",
              "    </div>\n",
              "  </div>\n",
              "  "
            ],
            "text/plain": [
              "                   AAPL         MSFT  ...         saldo   retorno\n",
              "Date                                  ...                        \n",
              "2015-01-02  1000.000000  1000.000000  ...   4000.000000       NaN\n",
              "2015-01-05   971.828258   990.804278  ...   3869.694616 -0.032576\n",
              "2015-01-06   971.919825   976.261995  ...   3844.420823 -0.006531\n",
              "2015-01-07   985.548206   988.665598  ...   3873.791280  0.007640\n",
              "2015-01-08  1023.415471  1017.750257  ...   3960.044338  0.022266\n",
              "...                 ...          ...  ...           ...       ...\n",
              "2021-12-27  7287.239454  8313.137200  ...  52840.520970  0.018245\n",
              "2021-12-28  7245.212108  8284.006331  ...  52596.308226 -0.004622\n",
              "2021-12-29  7248.849529  8300.999461  ...  52561.545684 -0.000661\n",
              "2021-12-30  7201.164727  8237.154840  ...  52119.751332 -0.008405\n",
              "2021-12-31  7175.706483  8164.328410  ...  51518.729895 -0.011532\n",
              "\n",
              "[1804 rows x 6 columns]"
            ]
          },
          "metadata": {},
          "execution_count": 116
        }
      ]
    },
    {
      "cell_type": "markdown",
      "source": [
        "Obtemos retorno diário dos ativos, e quanto teríamos ao fim do período caso tivéssemos iniciado investindo 1000 em cada ação. "
      ],
      "metadata": {
        "id": "A5qBf47dbW9R"
      }
    },
    {
      "cell_type": "markdown",
      "source": [
        "Resultado do Backtest para uma carteira com pesos igualmente distribuídos: \n"
      ],
      "metadata": {
        "id": "1wIedPGef89b"
      }
    },
    {
      "cell_type": "code",
      "source": [
        "pf.create_full_tear_sheet(carteira['retorno'], benchmark_rets=retorno['^BVSP'])"
      ],
      "metadata": {
        "colab": {
          "base_uri": "https://localhost:8080/",
          "height": 909
        },
        "id": "_NqCiU7kcvAP",
        "outputId": "8776e924-1b30-45f4-8d28-c305929597e4"
      },
      "execution_count": 121,
      "outputs": [
        {
          "output_type": "display_data",
          "data": {
            "text/html": [
              "<table border=\"1\" class=\"dataframe\">\n",
              "  <thead>\n",
              "    <tr style=\"text-align: right;\"><th>Start date</th><td colspan=2>2015-01-02</td></tr>\n",
              "    <tr style=\"text-align: right;\"><th>End date</th><td colspan=2>2021-12-31</td></tr>\n",
              "    <tr style=\"text-align: right;\"><th>Total months</th><td colspan=2>85</td></tr>\n",
              "    <tr style=\"text-align: right;\">\n",
              "      <th></th>\n",
              "      <th>Backtest</th>\n",
              "    </tr>\n",
              "  </thead>\n",
              "  <tbody>\n",
              "    <tr>\n",
              "      <th>Annual return</th>\n",
              "      <td>42.9%</td>\n",
              "    </tr>\n",
              "    <tr>\n",
              "      <th>Cumulative returns</th>\n",
              "      <td>1188.0%</td>\n",
              "    </tr>\n",
              "    <tr>\n",
              "      <th>Annual volatility</th>\n",
              "      <td>30.3%</td>\n",
              "    </tr>\n",
              "    <tr>\n",
              "      <th>Sharpe ratio</th>\n",
              "      <td>1.33</td>\n",
              "    </tr>\n",
              "    <tr>\n",
              "      <th>Calmar ratio</th>\n",
              "      <td>1.35</td>\n",
              "    </tr>\n",
              "    <tr>\n",
              "      <th>Stability</th>\n",
              "      <td>0.94</td>\n",
              "    </tr>\n",
              "    <tr>\n",
              "      <th>Max drawdown</th>\n",
              "      <td>-31.8%</td>\n",
              "    </tr>\n",
              "    <tr>\n",
              "      <th>Omega ratio</th>\n",
              "      <td>1.27</td>\n",
              "    </tr>\n",
              "    <tr>\n",
              "      <th>Sortino ratio</th>\n",
              "      <td>1.95</td>\n",
              "    </tr>\n",
              "    <tr>\n",
              "      <th>Skew</th>\n",
              "      <td>NaN</td>\n",
              "    </tr>\n",
              "    <tr>\n",
              "      <th>Kurtosis</th>\n",
              "      <td>NaN</td>\n",
              "    </tr>\n",
              "    <tr>\n",
              "      <th>Tail ratio</th>\n",
              "      <td>1.00</td>\n",
              "    </tr>\n",
              "    <tr>\n",
              "      <th>Daily value at risk</th>\n",
              "      <td>-3.7%</td>\n",
              "    </tr>\n",
              "    <tr>\n",
              "      <th>Alpha</th>\n",
              "      <td>0.41</td>\n",
              "    </tr>\n",
              "    <tr>\n",
              "      <th>Beta</th>\n",
              "      <td>0.45</td>\n",
              "    </tr>\n",
              "  </tbody>\n",
              "</table>"
            ],
            "text/plain": [
              "<IPython.core.display.HTML object>"
            ]
          },
          "metadata": {}
        },
        {
          "output_type": "error",
          "ename": "AttributeError",
          "evalue": "ignored",
          "traceback": [
            "\u001b[0;31m---------------------------------------------------------------------------\u001b[0m",
            "\u001b[0;31mAttributeError\u001b[0m                            Traceback (most recent call last)",
            "\u001b[0;32m<ipython-input-121-dcd959027b08>\u001b[0m in \u001b[0;36m<module>\u001b[0;34m()\u001b[0m\n\u001b[0;32m----> 1\u001b[0;31m \u001b[0mpf\u001b[0m\u001b[0;34m.\u001b[0m\u001b[0mcreate_full_tear_sheet\u001b[0m\u001b[0;34m(\u001b[0m\u001b[0mcarteira\u001b[0m\u001b[0;34m[\u001b[0m\u001b[0;34m'retorno'\u001b[0m\u001b[0;34m]\u001b[0m\u001b[0;34m,\u001b[0m \u001b[0mbenchmark_rets\u001b[0m\u001b[0;34m=\u001b[0m\u001b[0mretorno\u001b[0m\u001b[0;34m[\u001b[0m\u001b[0;34m'^BVSP'\u001b[0m\u001b[0;34m]\u001b[0m\u001b[0;34m)\u001b[0m\u001b[0;34m\u001b[0m\u001b[0;34m\u001b[0m\u001b[0m\n\u001b[0m",
            "\u001b[0;32m/usr/local/lib/python3.7/dist-packages/pyfolio/tears.py\u001b[0m in \u001b[0;36mcreate_full_tear_sheet\u001b[0;34m(returns, positions, transactions, market_data, benchmark_rets, slippage, live_start_date, sector_mappings, bayesian, round_trips, estimate_intraday, hide_positions, cone_std, bootstrap, unadjusted_returns, style_factor_panel, sectors, caps, shares_held, volumes, percentile, turnover_denom, set_context, factor_returns, factor_loadings, pos_in_dollars, header_rows, factor_partitions)\u001b[0m\n\u001b[1;32m    209\u001b[0m                 create_round_trip_tear_sheet(\n\u001b[1;32m    210\u001b[0m                     \u001b[0mreturns\u001b[0m\u001b[0;34m=\u001b[0m\u001b[0mreturns\u001b[0m\u001b[0;34m,\u001b[0m\u001b[0;34m\u001b[0m\u001b[0;34m\u001b[0m\u001b[0m\n\u001b[0;32m--> 211\u001b[0;31m                     \u001b[0mpositions\u001b[0m\u001b[0;34m=\u001b[0m\u001b[0mpositions\u001b[0m\u001b[0;34m,\u001b[0m\u001b[0;34m\u001b[0m\u001b[0;34m\u001b[0m\u001b[0m\n\u001b[0m\u001b[1;32m    212\u001b[0m                     \u001b[0mtransactions\u001b[0m\u001b[0;34m=\u001b[0m\u001b[0mtransactions\u001b[0m\u001b[0;34m,\u001b[0m\u001b[0;34m\u001b[0m\u001b[0;34m\u001b[0m\u001b[0m\n\u001b[1;32m    213\u001b[0m                     \u001b[0msector_mappings\u001b[0m\u001b[0;34m=\u001b[0m\u001b[0msector_mappings\u001b[0m\u001b[0;34m,\u001b[0m\u001b[0;34m\u001b[0m\u001b[0;34m\u001b[0m\u001b[0m\n",
            "\u001b[0;32m/usr/local/lib/python3.7/dist-packages/pyfolio/plotting.py\u001b[0m in \u001b[0;36mcall_w_context\u001b[0;34m(*args, **kwargs)\u001b[0m\n\u001b[1;32m     50\u001b[0m         \u001b[0;32mif\u001b[0m \u001b[0mset_context\u001b[0m\u001b[0;34m:\u001b[0m\u001b[0;34m\u001b[0m\u001b[0;34m\u001b[0m\u001b[0m\n\u001b[1;32m     51\u001b[0m             \u001b[0;32mwith\u001b[0m \u001b[0mplotting_context\u001b[0m\u001b[0;34m(\u001b[0m\u001b[0;34m)\u001b[0m\u001b[0;34m,\u001b[0m \u001b[0maxes_style\u001b[0m\u001b[0;34m(\u001b[0m\u001b[0;34m)\u001b[0m\u001b[0;34m:\u001b[0m\u001b[0;34m\u001b[0m\u001b[0;34m\u001b[0m\u001b[0m\n\u001b[0;32m---> 52\u001b[0;31m                 \u001b[0;32mreturn\u001b[0m \u001b[0mfunc\u001b[0m\u001b[0;34m(\u001b[0m\u001b[0;34m*\u001b[0m\u001b[0margs\u001b[0m\u001b[0;34m,\u001b[0m \u001b[0;34m**\u001b[0m\u001b[0mkwargs\u001b[0m\u001b[0;34m)\u001b[0m\u001b[0;34m\u001b[0m\u001b[0;34m\u001b[0m\u001b[0m\n\u001b[0m\u001b[1;32m     53\u001b[0m         \u001b[0;32melse\u001b[0m\u001b[0;34m:\u001b[0m\u001b[0;34m\u001b[0m\u001b[0;34m\u001b[0m\u001b[0m\n\u001b[1;32m     54\u001b[0m             \u001b[0;32mreturn\u001b[0m \u001b[0mfunc\u001b[0m\u001b[0;34m(\u001b[0m\u001b[0;34m*\u001b[0m\u001b[0margs\u001b[0m\u001b[0;34m,\u001b[0m \u001b[0;34m**\u001b[0m\u001b[0mkwargs\u001b[0m\u001b[0;34m)\u001b[0m\u001b[0;34m\u001b[0m\u001b[0;34m\u001b[0m\u001b[0m\n",
            "\u001b[0;32m/usr/local/lib/python3.7/dist-packages/pyfolio/tears.py\u001b[0m in \u001b[0;36mcreate_returns_tear_sheet\u001b[0;34m(returns, positions, transactions, live_start_date, cone_std, benchmark_rets, bootstrap, turnover_denom, header_rows, return_fig)\u001b[0m\n\u001b[1;32m    502\u001b[0m     \u001b[0;32mif\u001b[0m \u001b[0mbenchmark_rets\u001b[0m \u001b[0;32mis\u001b[0m \u001b[0;32mnot\u001b[0m \u001b[0;32mNone\u001b[0m\u001b[0;34m:\u001b[0m\u001b[0;34m\u001b[0m\u001b[0;34m\u001b[0m\u001b[0m\n\u001b[1;32m    503\u001b[0m         \u001b[0max_rolling_beta\u001b[0m \u001b[0;34m=\u001b[0m \u001b[0mplt\u001b[0m\u001b[0;34m.\u001b[0m\u001b[0msubplot\u001b[0m\u001b[0;34m(\u001b[0m\u001b[0mgs\u001b[0m\u001b[0;34m[\u001b[0m\u001b[0mi\u001b[0m\u001b[0;34m,\u001b[0m \u001b[0;34m:\u001b[0m\u001b[0;34m]\u001b[0m\u001b[0;34m,\u001b[0m \u001b[0msharex\u001b[0m\u001b[0;34m=\u001b[0m\u001b[0max_rolling_returns\u001b[0m\u001b[0;34m)\u001b[0m\u001b[0;34m\u001b[0m\u001b[0;34m\u001b[0m\u001b[0m\n\u001b[0;32m--> 504\u001b[0;31m         \u001b[0mi\u001b[0m \u001b[0;34m+=\u001b[0m \u001b[0;36m1\u001b[0m\u001b[0;34m\u001b[0m\u001b[0;34m\u001b[0m\u001b[0m\n\u001b[0m\u001b[1;32m    505\u001b[0m     \u001b[0max_rolling_volatility\u001b[0m \u001b[0;34m=\u001b[0m \u001b[0mplt\u001b[0m\u001b[0;34m.\u001b[0m\u001b[0msubplot\u001b[0m\u001b[0;34m(\u001b[0m\u001b[0mgs\u001b[0m\u001b[0;34m[\u001b[0m\u001b[0mi\u001b[0m\u001b[0;34m,\u001b[0m \u001b[0;34m:\u001b[0m\u001b[0;34m]\u001b[0m\u001b[0;34m,\u001b[0m \u001b[0msharex\u001b[0m\u001b[0;34m=\u001b[0m\u001b[0max_rolling_returns\u001b[0m\u001b[0;34m)\u001b[0m\u001b[0;34m\u001b[0m\u001b[0;34m\u001b[0m\u001b[0m\n\u001b[1;32m    506\u001b[0m     \u001b[0mi\u001b[0m \u001b[0;34m+=\u001b[0m \u001b[0;36m1\u001b[0m\u001b[0;34m\u001b[0m\u001b[0;34m\u001b[0m\u001b[0m\n",
            "\u001b[0;32m/usr/local/lib/python3.7/dist-packages/pyfolio/plotting.py\u001b[0m in \u001b[0;36mshow_worst_drawdown_periods\u001b[0;34m(returns, top)\u001b[0m\n\u001b[1;32m   1662\u001b[0m     \u001b[0mParameters\u001b[0m\u001b[0;34m\u001b[0m\u001b[0;34m\u001b[0m\u001b[0m\n\u001b[1;32m   1663\u001b[0m     \u001b[0;34m-\u001b[0m\u001b[0;34m-\u001b[0m\u001b[0;34m-\u001b[0m\u001b[0;34m-\u001b[0m\u001b[0;34m-\u001b[0m\u001b[0;34m-\u001b[0m\u001b[0;34m-\u001b[0m\u001b[0;34m-\u001b[0m\u001b[0;34m-\u001b[0m\u001b[0;34m-\u001b[0m\u001b[0;34m\u001b[0m\u001b[0;34m\u001b[0m\u001b[0m\n\u001b[0;32m-> 1664\u001b[0;31m     \u001b[0mreturns\u001b[0m \u001b[0;34m:\u001b[0m \u001b[0mpd\u001b[0m\u001b[0;34m.\u001b[0m\u001b[0mSeries\u001b[0m\u001b[0;34m\u001b[0m\u001b[0;34m\u001b[0m\u001b[0m\n\u001b[0m\u001b[1;32m   1665\u001b[0m         \u001b[0mDaily\u001b[0m \u001b[0mreturns\u001b[0m \u001b[0mof\u001b[0m \u001b[0mthe\u001b[0m \u001b[0mstrategy\u001b[0m\u001b[0;34m,\u001b[0m \u001b[0mnoncumulative\u001b[0m\u001b[0;34m.\u001b[0m\u001b[0;34m\u001b[0m\u001b[0;34m\u001b[0m\u001b[0m\n\u001b[1;32m   1666\u001b[0m          \u001b[0;34m-\u001b[0m \u001b[0mSee\u001b[0m \u001b[0mfull\u001b[0m \u001b[0mexplanation\u001b[0m \u001b[0;32min\u001b[0m \u001b[0mtears\u001b[0m\u001b[0;34m.\u001b[0m\u001b[0mcreate_full_tear_sheet\u001b[0m\u001b[0;34m.\u001b[0m\u001b[0;34m\u001b[0m\u001b[0;34m\u001b[0m\u001b[0m\n",
            "\u001b[0;32m/usr/local/lib/python3.7/dist-packages/pyfolio/timeseries.py\u001b[0m in \u001b[0;36mgen_drawdown_table\u001b[0;34m(returns, top)\u001b[0m\n\u001b[1;32m   1006\u001b[0m                                                                 \u001b[0mrecovery\u001b[0m\u001b[0;34m,\u001b[0m\u001b[0;34m\u001b[0m\u001b[0;34m\u001b[0m\u001b[0m\n\u001b[1;32m   1007\u001b[0m                                                                 freq='B'))\n\u001b[0;32m-> 1008\u001b[0;31m         df_drawdowns.loc[i, 'Peak date'] = (peak.to_pydatetime()\n\u001b[0m\u001b[1;32m   1009\u001b[0m                                             .strftime('%Y-%m-%d'))\n\u001b[1;32m   1010\u001b[0m         df_drawdowns.loc[i, 'Valley date'] = (valley.to_pydatetime()\n",
            "\u001b[0;31mAttributeError\u001b[0m: 'numpy.int64' object has no attribute 'to_pydatetime'"
          ]
        }
      ]
    },
    {
      "cell_type": "markdown",
      "source": [
        "Agora, vamos fazer o mesmo para os pesos otimizados:"
      ],
      "metadata": {
        "id": "qCoa1fb0gwZH"
      }
    },
    {
      "cell_type": "code",
      "source": [
        "peso= [0.16844766, 0.41200352, 0.21320629, 0.20634252]\n",
        "carteira_otimizada= 4000*retorno_acumulado.iloc[:,:4]\n",
        "carteira_otimizada['AAPL']= 0.16844766*carteira_otimizada['AAPL']\n",
        "carteira_otimizada['MSFT']= 0.41200352*carteira_otimizada['MSFT']\n",
        "carteira_otimizada['NFLX']= 0.21320629*carteira_otimizada['NFLX']\n",
        "carteira_otimizada['TSLA']= 0.20634252*carteira_otimizada['TSLA']\n",
        "carteira_otimizada['saldo']= carteira_otimizada.sum(axis=1) #saldo da carteira é a soma horizontal do preço dos ativos\n",
        "carteira_otimizada['retorno']=carteira_otimizada['saldo'].pct_change()\n",
        "carteira_otimizada\n",
        "\n"
      ],
      "metadata": {
        "colab": {
          "base_uri": "https://localhost:8080/",
          "height": 455
        },
        "id": "n9FJ9-mqgwBs",
        "outputId": "230b9904-4c1e-48b6-b987-dcd2c8102203"
      },
      "execution_count": 174,
      "outputs": [
        {
          "output_type": "execute_result",
          "data": {
            "text/html": [
              "\n",
              "  <div id=\"df-f8f8e7c9-c44b-4f1d-9c2b-e0107a9977d7\">\n",
              "    <div class=\"colab-df-container\">\n",
              "      <div>\n",
              "<style scoped>\n",
              "    .dataframe tbody tr th:only-of-type {\n",
              "        vertical-align: middle;\n",
              "    }\n",
              "\n",
              "    .dataframe tbody tr th {\n",
              "        vertical-align: top;\n",
              "    }\n",
              "\n",
              "    .dataframe thead th {\n",
              "        text-align: right;\n",
              "    }\n",
              "</style>\n",
              "<table border=\"1\" class=\"dataframe\">\n",
              "  <thead>\n",
              "    <tr style=\"text-align: right;\">\n",
              "      <th></th>\n",
              "      <th>AAPL</th>\n",
              "      <th>MSFT</th>\n",
              "      <th>NFLX</th>\n",
              "      <th>TSLA</th>\n",
              "      <th>saldo</th>\n",
              "      <th>retorno</th>\n",
              "    </tr>\n",
              "    <tr>\n",
              "      <th>Date</th>\n",
              "      <th></th>\n",
              "      <th></th>\n",
              "      <th></th>\n",
              "      <th></th>\n",
              "      <th></th>\n",
              "      <th></th>\n",
              "    </tr>\n",
              "  </thead>\n",
              "  <tbody>\n",
              "    <tr>\n",
              "      <th>2015-01-02</th>\n",
              "      <td>673.790640</td>\n",
              "      <td>1648.014080</td>\n",
              "      <td>852.825160</td>\n",
              "      <td>825.370080</td>\n",
              "      <td>3999.999960</td>\n",
              "      <td>NaN</td>\n",
              "    </tr>\n",
              "    <tr>\n",
              "      <th>2015-01-05</th>\n",
              "      <td>654.808784</td>\n",
              "      <td>1632.859401</td>\n",
              "      <td>809.418902</td>\n",
              "      <td>790.670779</td>\n",
              "      <td>3887.757865</td>\n",
              "      <td>-0.028061</td>\n",
              "    </tr>\n",
              "    <tr>\n",
              "      <th>2015-01-06</th>\n",
              "      <td>654.870481</td>\n",
              "      <td>1608.893513</td>\n",
              "      <td>795.561207</td>\n",
              "      <td>795.149307</td>\n",
              "      <td>3854.474508</td>\n",
              "      <td>-0.008561</td>\n",
              "    </tr>\n",
              "    <tr>\n",
              "      <th>2015-01-07</th>\n",
              "      <td>664.053156</td>\n",
              "      <td>1629.334826</td>\n",
              "      <td>799.691640</td>\n",
              "      <td>793.907321</td>\n",
              "      <td>3886.986943</td>\n",
              "      <td>0.008435</td>\n",
              "    </tr>\n",
              "    <tr>\n",
              "      <th>2015-01-08</th>\n",
              "      <td>689.567765</td>\n",
              "      <td>1677.266753</td>\n",
              "      <td>817.435358</td>\n",
              "      <td>792.665407</td>\n",
              "      <td>3976.935283</td>\n",
              "      <td>0.023141</td>\n",
              "    </tr>\n",
              "    <tr>\n",
              "      <th>...</th>\n",
              "      <td>...</td>\n",
              "      <td>...</td>\n",
              "      <td>...</td>\n",
              "      <td>...</td>\n",
              "      <td>...</td>\n",
              "      <td>...</td>\n",
              "    </tr>\n",
              "    <tr>\n",
              "      <th>2021-12-27</th>\n",
              "      <td>4910.073735</td>\n",
              "      <td>13700.167154</td>\n",
              "      <td>10489.451138</td>\n",
              "      <td>20585.137636</td>\n",
              "      <td>49684.829663</td>\n",
              "      <td>0.018679</td>\n",
              "    </tr>\n",
              "    <tr>\n",
              "      <th>2021-12-28</th>\n",
              "      <td>4881.756103</td>\n",
              "      <td>13652.159073</td>\n",
              "      <td>10448.220553</td>\n",
              "      <td>20482.206849</td>\n",
              "      <td>49464.342578</td>\n",
              "      <td>-0.004438</td>\n",
              "    </tr>\n",
              "    <tr>\n",
              "      <th>2021-12-29</th>\n",
              "      <td>4884.206963</td>\n",
              "      <td>13680.163990</td>\n",
              "      <td>10445.311388</td>\n",
              "      <td>20439.302558</td>\n",
              "      <td>49448.984899</td>\n",
              "      <td>-0.000310</td>\n",
              "    </tr>\n",
              "    <tr>\n",
              "      <th>2021-12-30</th>\n",
              "      <td>4852.077390</td>\n",
              "      <td>13574.947155</td>\n",
              "      <td>10471.830114</td>\n",
              "      <td>20141.046761</td>\n",
              "      <td>49039.901421</td>\n",
              "      <td>-0.008273</td>\n",
              "    </tr>\n",
              "    <tr>\n",
              "      <th>2021-12-31</th>\n",
              "      <td>4834.923863</td>\n",
              "      <td>13454.928174</td>\n",
              "      <td>10306.734439</td>\n",
              "      <td>19885.883613</td>\n",
              "      <td>48482.470090</td>\n",
              "      <td>-0.011367</td>\n",
              "    </tr>\n",
              "  </tbody>\n",
              "</table>\n",
              "<p>1804 rows × 6 columns</p>\n",
              "</div>\n",
              "      <button class=\"colab-df-convert\" onclick=\"convertToInteractive('df-f8f8e7c9-c44b-4f1d-9c2b-e0107a9977d7')\"\n",
              "              title=\"Convert this dataframe to an interactive table.\"\n",
              "              style=\"display:none;\">\n",
              "        \n",
              "  <svg xmlns=\"http://www.w3.org/2000/svg\" height=\"24px\"viewBox=\"0 0 24 24\"\n",
              "       width=\"24px\">\n",
              "    <path d=\"M0 0h24v24H0V0z\" fill=\"none\"/>\n",
              "    <path d=\"M18.56 5.44l.94 2.06.94-2.06 2.06-.94-2.06-.94-.94-2.06-.94 2.06-2.06.94zm-11 1L8.5 8.5l.94-2.06 2.06-.94-2.06-.94L8.5 2.5l-.94 2.06-2.06.94zm10 10l.94 2.06.94-2.06 2.06-.94-2.06-.94-.94-2.06-.94 2.06-2.06.94z\"/><path d=\"M17.41 7.96l-1.37-1.37c-.4-.4-.92-.59-1.43-.59-.52 0-1.04.2-1.43.59L10.3 9.45l-7.72 7.72c-.78.78-.78 2.05 0 2.83L4 21.41c.39.39.9.59 1.41.59.51 0 1.02-.2 1.41-.59l7.78-7.78 2.81-2.81c.8-.78.8-2.07 0-2.86zM5.41 20L4 18.59l7.72-7.72 1.47 1.35L5.41 20z\"/>\n",
              "  </svg>\n",
              "      </button>\n",
              "      \n",
              "  <style>\n",
              "    .colab-df-container {\n",
              "      display:flex;\n",
              "      flex-wrap:wrap;\n",
              "      gap: 12px;\n",
              "    }\n",
              "\n",
              "    .colab-df-convert {\n",
              "      background-color: #E8F0FE;\n",
              "      border: none;\n",
              "      border-radius: 50%;\n",
              "      cursor: pointer;\n",
              "      display: none;\n",
              "      fill: #1967D2;\n",
              "      height: 32px;\n",
              "      padding: 0 0 0 0;\n",
              "      width: 32px;\n",
              "    }\n",
              "\n",
              "    .colab-df-convert:hover {\n",
              "      background-color: #E2EBFA;\n",
              "      box-shadow: 0px 1px 2px rgba(60, 64, 67, 0.3), 0px 1px 3px 1px rgba(60, 64, 67, 0.15);\n",
              "      fill: #174EA6;\n",
              "    }\n",
              "\n",
              "    [theme=dark] .colab-df-convert {\n",
              "      background-color: #3B4455;\n",
              "      fill: #D2E3FC;\n",
              "    }\n",
              "\n",
              "    [theme=dark] .colab-df-convert:hover {\n",
              "      background-color: #434B5C;\n",
              "      box-shadow: 0px 1px 3px 1px rgba(0, 0, 0, 0.15);\n",
              "      filter: drop-shadow(0px 1px 2px rgba(0, 0, 0, 0.3));\n",
              "      fill: #FFFFFF;\n",
              "    }\n",
              "  </style>\n",
              "\n",
              "      <script>\n",
              "        const buttonEl =\n",
              "          document.querySelector('#df-f8f8e7c9-c44b-4f1d-9c2b-e0107a9977d7 button.colab-df-convert');\n",
              "        buttonEl.style.display =\n",
              "          google.colab.kernel.accessAllowed ? 'block' : 'none';\n",
              "\n",
              "        async function convertToInteractive(key) {\n",
              "          const element = document.querySelector('#df-f8f8e7c9-c44b-4f1d-9c2b-e0107a9977d7');\n",
              "          const dataTable =\n",
              "            await google.colab.kernel.invokeFunction('convertToInteractive',\n",
              "                                                     [key], {});\n",
              "          if (!dataTable) return;\n",
              "\n",
              "          const docLinkHtml = 'Like what you see? Visit the ' +\n",
              "            '<a target=\"_blank\" href=https://colab.research.google.com/notebooks/data_table.ipynb>data table notebook</a>'\n",
              "            + ' to learn more about interactive tables.';\n",
              "          element.innerHTML = '';\n",
              "          dataTable['output_type'] = 'display_data';\n",
              "          await google.colab.output.renderOutput(dataTable, element);\n",
              "          const docLink = document.createElement('div');\n",
              "          docLink.innerHTML = docLinkHtml;\n",
              "          element.appendChild(docLink);\n",
              "        }\n",
              "      </script>\n",
              "    </div>\n",
              "  </div>\n",
              "  "
            ],
            "text/plain": [
              "                   AAPL          MSFT  ...         saldo   retorno\n",
              "Date                                   ...                        \n",
              "2015-01-02   673.790640   1648.014080  ...   3999.999960       NaN\n",
              "2015-01-05   654.808784   1632.859401  ...   3887.757865 -0.028061\n",
              "2015-01-06   654.870481   1608.893513  ...   3854.474508 -0.008561\n",
              "2015-01-07   664.053156   1629.334826  ...   3886.986943  0.008435\n",
              "2015-01-08   689.567765   1677.266753  ...   3976.935283  0.023141\n",
              "...                 ...           ...  ...           ...       ...\n",
              "2021-12-27  4910.073735  13700.167154  ...  49684.829663  0.018679\n",
              "2021-12-28  4881.756103  13652.159073  ...  49464.342578 -0.004438\n",
              "2021-12-29  4884.206963  13680.163990  ...  49448.984899 -0.000310\n",
              "2021-12-30  4852.077390  13574.947155  ...  49039.901421 -0.008273\n",
              "2021-12-31  4834.923863  13454.928174  ...  48482.470090 -0.011367\n",
              "\n",
              "[1804 rows x 6 columns]"
            ]
          },
          "metadata": {},
          "execution_count": 174
        }
      ]
    },
    {
      "cell_type": "code",
      "source": [
        "pf.create_full_tear_sheet(carteira_otimizada['retorno'], benchmark_rets=retorno['^BVSP'])"
      ],
      "metadata": {
        "colab": {
          "base_uri": "https://localhost:8080/",
          "height": 909
        },
        "id": "MHrW9RW9lkKi",
        "outputId": "3176c5be-6dc0-4e14-c999-ed69ac29a62f"
      },
      "execution_count": 180,
      "outputs": [
        {
          "output_type": "display_data",
          "data": {
            "text/html": [
              "<table border=\"1\" class=\"dataframe\">\n",
              "  <thead>\n",
              "    <tr style=\"text-align: right;\"><th>Start date</th><td colspan=2>2015-01-02</td></tr>\n",
              "    <tr style=\"text-align: right;\"><th>End date</th><td colspan=2>2021-12-31</td></tr>\n",
              "    <tr style=\"text-align: right;\"><th>Total months</th><td colspan=2>85</td></tr>\n",
              "    <tr style=\"text-align: right;\">\n",
              "      <th></th>\n",
              "      <th>Backtest</th>\n",
              "    </tr>\n",
              "  </thead>\n",
              "  <tbody>\n",
              "    <tr>\n",
              "      <th>Annual return</th>\n",
              "      <td>41.7%</td>\n",
              "    </tr>\n",
              "    <tr>\n",
              "      <th>Cumulative returns</th>\n",
              "      <td>1112.1%</td>\n",
              "    </tr>\n",
              "    <tr>\n",
              "      <th>Annual volatility</th>\n",
              "      <td>29.0%</td>\n",
              "    </tr>\n",
              "    <tr>\n",
              "      <th>Sharpe ratio</th>\n",
              "      <td>1.35</td>\n",
              "    </tr>\n",
              "    <tr>\n",
              "      <th>Calmar ratio</th>\n",
              "      <td>1.39</td>\n",
              "    </tr>\n",
              "    <tr>\n",
              "      <th>Stability</th>\n",
              "      <td>0.95</td>\n",
              "    </tr>\n",
              "    <tr>\n",
              "      <th>Max drawdown</th>\n",
              "      <td>-29.9%</td>\n",
              "    </tr>\n",
              "    <tr>\n",
              "      <th>Omega ratio</th>\n",
              "      <td>1.28</td>\n",
              "    </tr>\n",
              "    <tr>\n",
              "      <th>Sortino ratio</th>\n",
              "      <td>1.98</td>\n",
              "    </tr>\n",
              "    <tr>\n",
              "      <th>Skew</th>\n",
              "      <td>NaN</td>\n",
              "    </tr>\n",
              "    <tr>\n",
              "      <th>Kurtosis</th>\n",
              "      <td>NaN</td>\n",
              "    </tr>\n",
              "    <tr>\n",
              "      <th>Tail ratio</th>\n",
              "      <td>1.00</td>\n",
              "    </tr>\n",
              "    <tr>\n",
              "      <th>Daily value at risk</th>\n",
              "      <td>-3.5%</td>\n",
              "    </tr>\n",
              "    <tr>\n",
              "      <th>Alpha</th>\n",
              "      <td>0.39</td>\n",
              "    </tr>\n",
              "    <tr>\n",
              "      <th>Beta</th>\n",
              "      <td>0.45</td>\n",
              "    </tr>\n",
              "  </tbody>\n",
              "</table>"
            ],
            "text/plain": [
              "<IPython.core.display.HTML object>"
            ]
          },
          "metadata": {}
        },
        {
          "output_type": "error",
          "ename": "AttributeError",
          "evalue": "ignored",
          "traceback": [
            "\u001b[0;31m---------------------------------------------------------------------------\u001b[0m",
            "\u001b[0;31mAttributeError\u001b[0m                            Traceback (most recent call last)",
            "\u001b[0;32m<ipython-input-180-844a6b070856>\u001b[0m in \u001b[0;36m<module>\u001b[0;34m()\u001b[0m\n\u001b[0;32m----> 1\u001b[0;31m \u001b[0mpf\u001b[0m\u001b[0;34m.\u001b[0m\u001b[0mcreate_full_tear_sheet\u001b[0m\u001b[0;34m(\u001b[0m\u001b[0mcarteira_otimizada\u001b[0m\u001b[0;34m[\u001b[0m\u001b[0;34m'retorno'\u001b[0m\u001b[0;34m]\u001b[0m\u001b[0;34m,\u001b[0m \u001b[0mbenchmark_rets\u001b[0m\u001b[0;34m=\u001b[0m\u001b[0mretorno\u001b[0m\u001b[0;34m[\u001b[0m\u001b[0;34m'^BVSP'\u001b[0m\u001b[0;34m]\u001b[0m\u001b[0;34m)\u001b[0m\u001b[0;34m\u001b[0m\u001b[0;34m\u001b[0m\u001b[0m\n\u001b[0m",
            "\u001b[0;32m/usr/local/lib/python3.7/dist-packages/pyfolio/tears.py\u001b[0m in \u001b[0;36mcreate_full_tear_sheet\u001b[0;34m(returns, positions, transactions, market_data, benchmark_rets, slippage, live_start_date, sector_mappings, bayesian, round_trips, estimate_intraday, hide_positions, cone_std, bootstrap, unadjusted_returns, style_factor_panel, sectors, caps, shares_held, volumes, percentile, turnover_denom, set_context, factor_returns, factor_loadings, pos_in_dollars, header_rows, factor_partitions)\u001b[0m\n\u001b[1;32m    209\u001b[0m                 create_round_trip_tear_sheet(\n\u001b[1;32m    210\u001b[0m                     \u001b[0mreturns\u001b[0m\u001b[0;34m=\u001b[0m\u001b[0mreturns\u001b[0m\u001b[0;34m,\u001b[0m\u001b[0;34m\u001b[0m\u001b[0;34m\u001b[0m\u001b[0m\n\u001b[0;32m--> 211\u001b[0;31m                     \u001b[0mpositions\u001b[0m\u001b[0;34m=\u001b[0m\u001b[0mpositions\u001b[0m\u001b[0;34m,\u001b[0m\u001b[0;34m\u001b[0m\u001b[0;34m\u001b[0m\u001b[0m\n\u001b[0m\u001b[1;32m    212\u001b[0m                     \u001b[0mtransactions\u001b[0m\u001b[0;34m=\u001b[0m\u001b[0mtransactions\u001b[0m\u001b[0;34m,\u001b[0m\u001b[0;34m\u001b[0m\u001b[0;34m\u001b[0m\u001b[0m\n\u001b[1;32m    213\u001b[0m                     \u001b[0msector_mappings\u001b[0m\u001b[0;34m=\u001b[0m\u001b[0msector_mappings\u001b[0m\u001b[0;34m,\u001b[0m\u001b[0;34m\u001b[0m\u001b[0;34m\u001b[0m\u001b[0m\n",
            "\u001b[0;32m/usr/local/lib/python3.7/dist-packages/pyfolio/plotting.py\u001b[0m in \u001b[0;36mcall_w_context\u001b[0;34m(*args, **kwargs)\u001b[0m\n\u001b[1;32m     50\u001b[0m         \u001b[0;32mif\u001b[0m \u001b[0mset_context\u001b[0m\u001b[0;34m:\u001b[0m\u001b[0;34m\u001b[0m\u001b[0;34m\u001b[0m\u001b[0m\n\u001b[1;32m     51\u001b[0m             \u001b[0;32mwith\u001b[0m \u001b[0mplotting_context\u001b[0m\u001b[0;34m(\u001b[0m\u001b[0;34m)\u001b[0m\u001b[0;34m,\u001b[0m \u001b[0maxes_style\u001b[0m\u001b[0;34m(\u001b[0m\u001b[0;34m)\u001b[0m\u001b[0;34m:\u001b[0m\u001b[0;34m\u001b[0m\u001b[0;34m\u001b[0m\u001b[0m\n\u001b[0;32m---> 52\u001b[0;31m                 \u001b[0;32mreturn\u001b[0m \u001b[0mfunc\u001b[0m\u001b[0;34m(\u001b[0m\u001b[0;34m*\u001b[0m\u001b[0margs\u001b[0m\u001b[0;34m,\u001b[0m \u001b[0;34m**\u001b[0m\u001b[0mkwargs\u001b[0m\u001b[0;34m)\u001b[0m\u001b[0;34m\u001b[0m\u001b[0;34m\u001b[0m\u001b[0m\n\u001b[0m\u001b[1;32m     53\u001b[0m         \u001b[0;32melse\u001b[0m\u001b[0;34m:\u001b[0m\u001b[0;34m\u001b[0m\u001b[0;34m\u001b[0m\u001b[0m\n\u001b[1;32m     54\u001b[0m             \u001b[0;32mreturn\u001b[0m \u001b[0mfunc\u001b[0m\u001b[0;34m(\u001b[0m\u001b[0;34m*\u001b[0m\u001b[0margs\u001b[0m\u001b[0;34m,\u001b[0m \u001b[0;34m**\u001b[0m\u001b[0mkwargs\u001b[0m\u001b[0;34m)\u001b[0m\u001b[0;34m\u001b[0m\u001b[0;34m\u001b[0m\u001b[0m\n",
            "\u001b[0;32m/usr/local/lib/python3.7/dist-packages/pyfolio/tears.py\u001b[0m in \u001b[0;36mcreate_returns_tear_sheet\u001b[0;34m(returns, positions, transactions, live_start_date, cone_std, benchmark_rets, bootstrap, turnover_denom, header_rows, return_fig)\u001b[0m\n\u001b[1;32m    502\u001b[0m     \u001b[0;32mif\u001b[0m \u001b[0mbenchmark_rets\u001b[0m \u001b[0;32mis\u001b[0m \u001b[0;32mnot\u001b[0m \u001b[0;32mNone\u001b[0m\u001b[0;34m:\u001b[0m\u001b[0;34m\u001b[0m\u001b[0;34m\u001b[0m\u001b[0m\n\u001b[1;32m    503\u001b[0m         \u001b[0max_rolling_beta\u001b[0m \u001b[0;34m=\u001b[0m \u001b[0mplt\u001b[0m\u001b[0;34m.\u001b[0m\u001b[0msubplot\u001b[0m\u001b[0;34m(\u001b[0m\u001b[0mgs\u001b[0m\u001b[0;34m[\u001b[0m\u001b[0mi\u001b[0m\u001b[0;34m,\u001b[0m \u001b[0;34m:\u001b[0m\u001b[0;34m]\u001b[0m\u001b[0;34m,\u001b[0m \u001b[0msharex\u001b[0m\u001b[0;34m=\u001b[0m\u001b[0max_rolling_returns\u001b[0m\u001b[0;34m)\u001b[0m\u001b[0;34m\u001b[0m\u001b[0;34m\u001b[0m\u001b[0m\n\u001b[0;32m--> 504\u001b[0;31m         \u001b[0mi\u001b[0m \u001b[0;34m+=\u001b[0m \u001b[0;36m1\u001b[0m\u001b[0;34m\u001b[0m\u001b[0;34m\u001b[0m\u001b[0m\n\u001b[0m\u001b[1;32m    505\u001b[0m     \u001b[0max_rolling_volatility\u001b[0m \u001b[0;34m=\u001b[0m \u001b[0mplt\u001b[0m\u001b[0;34m.\u001b[0m\u001b[0msubplot\u001b[0m\u001b[0;34m(\u001b[0m\u001b[0mgs\u001b[0m\u001b[0;34m[\u001b[0m\u001b[0mi\u001b[0m\u001b[0;34m,\u001b[0m \u001b[0;34m:\u001b[0m\u001b[0;34m]\u001b[0m\u001b[0;34m,\u001b[0m \u001b[0msharex\u001b[0m\u001b[0;34m=\u001b[0m\u001b[0max_rolling_returns\u001b[0m\u001b[0;34m)\u001b[0m\u001b[0;34m\u001b[0m\u001b[0;34m\u001b[0m\u001b[0m\n\u001b[1;32m    506\u001b[0m     \u001b[0mi\u001b[0m \u001b[0;34m+=\u001b[0m \u001b[0;36m1\u001b[0m\u001b[0;34m\u001b[0m\u001b[0;34m\u001b[0m\u001b[0m\n",
            "\u001b[0;32m/usr/local/lib/python3.7/dist-packages/pyfolio/plotting.py\u001b[0m in \u001b[0;36mshow_worst_drawdown_periods\u001b[0;34m(returns, top)\u001b[0m\n\u001b[1;32m   1662\u001b[0m     \u001b[0mParameters\u001b[0m\u001b[0;34m\u001b[0m\u001b[0;34m\u001b[0m\u001b[0m\n\u001b[1;32m   1663\u001b[0m     \u001b[0;34m-\u001b[0m\u001b[0;34m-\u001b[0m\u001b[0;34m-\u001b[0m\u001b[0;34m-\u001b[0m\u001b[0;34m-\u001b[0m\u001b[0;34m-\u001b[0m\u001b[0;34m-\u001b[0m\u001b[0;34m-\u001b[0m\u001b[0;34m-\u001b[0m\u001b[0;34m-\u001b[0m\u001b[0;34m\u001b[0m\u001b[0;34m\u001b[0m\u001b[0m\n\u001b[0;32m-> 1664\u001b[0;31m     \u001b[0mreturns\u001b[0m \u001b[0;34m:\u001b[0m \u001b[0mpd\u001b[0m\u001b[0;34m.\u001b[0m\u001b[0mSeries\u001b[0m\u001b[0;34m\u001b[0m\u001b[0;34m\u001b[0m\u001b[0m\n\u001b[0m\u001b[1;32m   1665\u001b[0m         \u001b[0mDaily\u001b[0m \u001b[0mreturns\u001b[0m \u001b[0mof\u001b[0m \u001b[0mthe\u001b[0m \u001b[0mstrategy\u001b[0m\u001b[0;34m,\u001b[0m \u001b[0mnoncumulative\u001b[0m\u001b[0;34m.\u001b[0m\u001b[0;34m\u001b[0m\u001b[0;34m\u001b[0m\u001b[0m\n\u001b[1;32m   1666\u001b[0m          \u001b[0;34m-\u001b[0m \u001b[0mSee\u001b[0m \u001b[0mfull\u001b[0m \u001b[0mexplanation\u001b[0m \u001b[0;32min\u001b[0m \u001b[0mtears\u001b[0m\u001b[0;34m.\u001b[0m\u001b[0mcreate_full_tear_sheet\u001b[0m\u001b[0;34m.\u001b[0m\u001b[0;34m\u001b[0m\u001b[0;34m\u001b[0m\u001b[0m\n",
            "\u001b[0;32m/usr/local/lib/python3.7/dist-packages/pyfolio/timeseries.py\u001b[0m in \u001b[0;36mgen_drawdown_table\u001b[0;34m(returns, top)\u001b[0m\n\u001b[1;32m   1006\u001b[0m                                                                 \u001b[0mrecovery\u001b[0m\u001b[0;34m,\u001b[0m\u001b[0;34m\u001b[0m\u001b[0;34m\u001b[0m\u001b[0m\n\u001b[1;32m   1007\u001b[0m                                                                 freq='B'))\n\u001b[0;32m-> 1008\u001b[0;31m         df_drawdowns.loc[i, 'Peak date'] = (peak.to_pydatetime()\n\u001b[0m\u001b[1;32m   1009\u001b[0m                                             .strftime('%Y-%m-%d'))\n\u001b[1;32m   1010\u001b[0m         df_drawdowns.loc[i, 'Valley date'] = (valley.to_pydatetime()\n",
            "\u001b[0;31mAttributeError\u001b[0m: 'numpy.int64' object has no attribute 'to_pydatetime'"
          ]
        }
      ]
    },
    {
      "cell_type": "markdown",
      "source": [
        "? Carteira otimizada tem retorno anual menor, apesar de melhor sharpe ratio."
      ],
      "metadata": {
        "id": "S04MwdPQoaMc"
      }
    },
    {
      "cell_type": "markdown",
      "metadata": {
        "id": "CTNAa3xtiVtB"
      },
      "source": [
        "#4. Previsão de Time Series\n",
        "Cross validation em Séries Temporais\n",
        "Sempre que lidamos com algoritmos de machine learning, para treiná-los temos que separar os datasets em treino e em teste. Em séries temporais não podemos separar os dados aleatoriamente, pois a ordem no tempo importa! Portanto, seguimos a seguinte separação ao longo do tempo:\n",
        "\n",
        "![68747470733a2f2f686162726173746f726167652e6f72672f66696c65732f6635632f3763642f6233392f66356337636462333963636434626136383337386361323332643230643836342e706e67.png](data:image/png;base64,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)\n",
        "\n"
      ]
    },
    {
      "cell_type": "markdown",
      "metadata": {
        "id": "DpSqvmnJij58"
      },
      "source": [
        "Feature Engeneering"
      ]
    },
    {
      "cell_type": "code",
      "execution_count": 68,
      "metadata": {
        "id": "kf3PNhpziY9X",
        "colab": {
          "base_uri": "https://localhost:8080/",
          "height": 433
        },
        "outputId": "54941a4c-4a27-4385-8329-baa5daa0e93c"
      },
      "outputs": [
        {
          "output_type": "stream",
          "name": "stdout",
          "text": [
            "\r[*********************100%***********************]  1 of 1 completed\n"
          ]
        },
        {
          "output_type": "display_data",
          "data": {
            "image/png": "[encoded data removed]",
            "text/plain": [
              "<Figure size 720x504 with 1 Axes>"
            ]
          },
          "metadata": {
            "needs_background": "light"
          }
        }
      ],
      "source": [
        "df_nflx= yf.download('NFLX', start=\"2015-1-1\", end=\"2022-1-1\")\n",
        "df_nflx['Close'].plot(alpha=0.5, style='-', figsize=(10,7))\n",
        "df_nflx['Close'].resample('M').mean().plot(style=':') \n",
        "df_nflx['Close'].resample('BA').mean().plot(style=':') \n",
        "df_nflx['Close'].asfreq('BA').plot(style='--');\n",
        "plt.legend(['input', 'resample_mensal', 'resample_anual', 'asfreq'],\n",
        "           loc='upper left');\n"
      ]
    },
    {
      "cell_type": "markdown",
      "source": [
        "Predição com regressão linear"
      ],
      "metadata": {
        "id": "jLjLyobx5pA4"
      }
    },
    {
      "cell_type": "code",
      "source": [
        "X = df_nflx.drop('Close', axis=1)\n",
        "y = df_nflx['Close']\n",
        "X_train, X_test, y_train, y_test = train_test_split(X, y, random_state=42,test_size=0.33)"
      ],
      "metadata": {
        "id": "OkrrQTPy8ZwX"
      },
      "execution_count": 216,
      "outputs": []
    },
    {
      "cell_type": "code",
      "source": [
        "plt.figure(figsize = (16,8))\n",
        "plt.scatter(\n",
        "    df_nflx['Open'], \n",
        "    df_nflx['Close'], \n",
        "    c='red')\n",
        "plt.xlabel(\"Preço de Abertura\")\n",
        "plt.ylabel(\"Preço fechamento\")\n",
        "plt.show()"
      ],
      "metadata": {
        "colab": {
          "base_uri": "https://localhost:8080/",
          "height": 497
        },
        "id": "RaoTt9rVxDce",
        "outputId": "910b6069-fa41-4883-dab9-baff7835e0ac"
      },
      "execution_count": 224,
      "outputs": [
        {
          "output_type": "display_data",
          "data": {
            "image/png": "[encoded data removed]",
            "text/plain": [
              "<Figure size 1152x576 with 1 Axes>"
            ]
          },
          "metadata": {
            "needs_background": "light"
          }
        }
      ]
    },
    {
      "cell_type": "code",
      "source": [
        "lr = LinearRegression(normalize=True, fit_intercept=False) # Cria um modelo de regressão linear\n",
        "lr.fit(X_train, y_train)\n",
        "lr_pred = lr.predict(X_test)"
      ],
      "metadata": {
        "id": "Y0_Eh8Lk9ufZ"
      },
      "execution_count": 217,
      "outputs": []
    },
    {
      "cell_type": "code",
      "source": [
        "r_sq = lr.score(X, y)\n",
        "print('Coeficiente de Determinação (R²):', r_sq)"
      ],
      "metadata": {
        "colab": {
          "base_uri": "https://localhost:8080/"
        },
        "id": "YBjrGrtht3QX",
        "outputId": "3f2d2bfe-366e-4180-9d4c-6cecbaf19087"
      },
      "execution_count": 221,
      "outputs": [
        {
          "output_type": "stream",
          "name": "stdout",
          "text": [
            "Coeficiente de Determinação (R²): 1.0\n"
          ]
        }
      ]
    },
    {
      "cell_type": "code",
      "source": [
        "plt.figure(figsize=(15,12))\n",
        "from sklearn.model_selection import cross_val_predict\n",
        "from sklearn import linear_model\n",
        "import matplotlib.pyplot as plt\n",
        "\n",
        "\n",
        "\n",
        "predicted = cross_val_predict(lr, df_nflx, y, cv=10)\n",
        "\n",
        "fig, ax = plt.subplots()\n",
        "ax.scatter(y, predicted)\n",
        "ax.plot([y.min(), y.max()], [y.min(), y.max()], 'k--', lw=4)\n",
        "ax.set_xlabel('Valor Real')\n",
        "ax.set_ylabel('Valor Predição')\n",
        "plt.show()"
      ],
      "metadata": {
        "colab": {
          "base_uri": "https://localhost:8080/",
          "height": 296
        },
        "id": "AqW2BaEO-mKp",
        "outputId": "44c83213-e92c-477d-9ed5-a9397af0261f"
      },
      "execution_count": 75,
      "outputs": [
        {
          "output_type": "display_data",
          "data": {
            "text/plain": [
              "<Figure size 1080x864 with 0 Axes>"
            ]
          },
          "metadata": {}
        },
        {
          "output_type": "display_data",
          "data": {
            "image/png": "[encoded data removed]",
            "text/plain": [
              "<Figure size 432x288 with 1 Axes>"
            ]
          },
          "metadata": {
            "needs_background": "light"
          }
        }
      ]
    }
  ],
  "metadata": {
    "colab": {
      "collapsed_sections": [
        "W8xLokCsumCQ",
        "j5u_jr3gPUyz"
      ],
      "name": "analise_portfolio.ipynb",
      "provenance": [],
      "include_colab_link": true
    },
    "kernelspec": {
      "display_name": "Python 3",
      "name": "python3"
    },
    "language_info": {
      "name": "python"
    }
  },
  "nbformat": 4,
  "nbformat_minor": 0
}